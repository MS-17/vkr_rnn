{
  "cells": [
    {
      "cell_type": "code",
      "execution_count": 34,
      "metadata": {
        "id": "ACISDipu4cYB"
      },
      "outputs": [],
      "source": [
        "%%bash\n",
        "data_path=/content/drive/MyDrive/vkr/\n",
        "# unzip $data_path/non_fires.zip\n",
        "# unzip $data_path/forest_fires.zip\n",
        "# cp $data_path/Irkutsk_region.geojson .\n",
        "cp -r $data_path/train_data ."
      ]
    },
    {
      "cell_type": "code",
      "execution_count": 35,
      "metadata": {
        "colab": {
          "base_uri": "https://localhost:8080/"
        },
        "id": "uaf5inNfa1Iz",
        "outputId": "eb409788-e756-47e4-a9fa-c7c59410b02b"
      },
      "outputs": [
        {
          "output_type": "stream",
          "name": "stdout",
          "text": [
            "Requirement already satisfied: keras-tuner in /usr/local/lib/python3.11/dist-packages (1.4.7)\n",
            "Requirement already satisfied: keras in /usr/local/lib/python3.11/dist-packages (from keras-tuner) (3.8.0)\n",
            "Requirement already satisfied: packaging in /usr/local/lib/python3.11/dist-packages (from keras-tuner) (24.2)\n",
            "Requirement already satisfied: requests in /usr/local/lib/python3.11/dist-packages (from keras-tuner) (2.32.3)\n",
            "Requirement already satisfied: kt-legacy in /usr/local/lib/python3.11/dist-packages (from keras-tuner) (1.0.5)\n",
            "Requirement already satisfied: absl-py in /usr/local/lib/python3.11/dist-packages (from keras->keras-tuner) (1.4.0)\n",
            "Requirement already satisfied: numpy in /usr/local/lib/python3.11/dist-packages (from keras->keras-tuner) (2.0.2)\n",
            "Requirement already satisfied: rich in /usr/local/lib/python3.11/dist-packages (from keras->keras-tuner) (13.9.4)\n",
            "Requirement already satisfied: namex in /usr/local/lib/python3.11/dist-packages (from keras->keras-tuner) (0.0.9)\n",
            "Requirement already satisfied: h5py in /usr/local/lib/python3.11/dist-packages (from keras->keras-tuner) (3.13.0)\n",
            "Requirement already satisfied: optree in /usr/local/lib/python3.11/dist-packages (from keras->keras-tuner) (0.15.0)\n",
            "Requirement already satisfied: ml-dtypes in /usr/local/lib/python3.11/dist-packages (from keras->keras-tuner) (0.4.1)\n",
            "Requirement already satisfied: charset-normalizer<4,>=2 in /usr/local/lib/python3.11/dist-packages (from requests->keras-tuner) (3.4.2)\n",
            "Requirement already satisfied: idna<4,>=2.5 in /usr/local/lib/python3.11/dist-packages (from requests->keras-tuner) (3.10)\n",
            "Requirement already satisfied: urllib3<3,>=1.21.1 in /usr/local/lib/python3.11/dist-packages (from requests->keras-tuner) (2.4.0)\n",
            "Requirement already satisfied: certifi>=2017.4.17 in /usr/local/lib/python3.11/dist-packages (from requests->keras-tuner) (2025.4.26)\n",
            "Requirement already satisfied: typing-extensions>=4.5.0 in /usr/local/lib/python3.11/dist-packages (from optree->keras->keras-tuner) (4.13.2)\n",
            "Requirement already satisfied: markdown-it-py>=2.2.0 in /usr/local/lib/python3.11/dist-packages (from rich->keras->keras-tuner) (3.0.0)\n",
            "Requirement already satisfied: pygments<3.0.0,>=2.13.0 in /usr/local/lib/python3.11/dist-packages (from rich->keras->keras-tuner) (2.19.1)\n",
            "Requirement already satisfied: mdurl~=0.1 in /usr/local/lib/python3.11/dist-packages (from markdown-it-py>=2.2.0->rich->keras->keras-tuner) (0.1.2)\n"
          ]
        }
      ],
      "source": [
        "!pip install keras-tuner\n",
        "# !pip install graphviz\n",
        "# !pip install scikit-learn==1.4.2\n",
        "# ! pip list | grep scikit-learn"
      ]
    },
    {
      "cell_type": "code",
      "execution_count": 36,
      "metadata": {
        "id": "YmnpXMqW4mJR"
      },
      "outputs": [],
      "source": [
        "# !pip install mapclassify\n",
        "import geopandas as gpd\n",
        "import folium\n",
        "\n",
        "import pandas as pd\n",
        "import matplotlib.pyplot as plt\n",
        "import numpy as np\n",
        "import seaborn as sns\n",
        "import graphviz\n",
        "\n",
        "from calendar import monthrange\n",
        "import os, json, shutil\n",
        "\n",
        "import tensorflow as tf\n",
        "from tensorflow.keras import Sequential\n",
        "from tensorflow.keras.layers import Input, Dense\n",
        "from tensorflow.keras import regularizers as rg\n",
        "import keras_tuner\n",
        "\n",
        "from sklearn.metrics import classification_report, confusion_matrix, roc_auc_score, roc_curve\n",
        "from sklearn.model_selection import train_test_split\n",
        "import scipy.stats as st\n",
        "import scipy\n",
        "\n",
        "from statsmodels.stats.outliers_influence import variance_inflation_factor\n",
        "\n",
        "# from sklearn.preprocessing import MinMaxScaler\n"
      ]
    },
    {
      "cell_type": "code",
      "execution_count": 37,
      "metadata": {
        "id": "uQ23-rqQ5viJ"
      },
      "outputs": [],
      "source": [
        "train_files_path = \"train_data/\""
      ]
    },
    {
      "cell_type": "markdown",
      "metadata": {
        "id": "oByOMJZ5zCXX"
      },
      "source": [
        "##### Prepare datasets"
      ]
    },
    {
      "cell_type": "code",
      "execution_count": 38,
      "metadata": {
        "colab": {
          "base_uri": "https://localhost:8080/"
        },
        "id": "WyFH2C7A-yJQ",
        "outputId": "6cf18c61-2c3a-4658-9705-51d03a48b5b4"
      },
      "outputs": [
        {
          "output_type": "stream",
          "name": "stdout",
          "text": [
            "year                 int64\n",
            "event_date          object\n",
            "is_fire              int64\n",
            "soilw40_mean       float64\n",
            "soilw40_std        float64\n",
            "soilw200_mean      float64\n",
            "soilw200_std       float64\n",
            "tmin_mean          float64\n",
            "tmin_std           float64\n",
            "snod_mean          float64\n",
            "snod_std           float64\n",
            "tmpgr40_mean       float64\n",
            "tmpgr40_std        float64\n",
            "t_mean             float64\n",
            "t_std              float64\n",
            "wind_speed_mean    float64\n",
            "wind_speed_std     float64\n",
            "tmpgr100_mean      float64\n",
            "tmpgr100_std       float64\n",
            "tmpgr10_mean       float64\n",
            "tmpgr10_std        float64\n",
            "tmax_mean          float64\n",
            "tmax_std           float64\n",
            "rh_mean            float64\n",
            "rh_std             float64\n",
            "apcp_mean          float64\n",
            "apcp_std           float64\n",
            "wind_dir_mean      float64\n",
            "wind_dir_std       float64\n",
            "tmpgr200_mean      float64\n",
            "tmpgr200_std       float64\n",
            "soilw10_mean       float64\n",
            "soilw10_std        float64\n",
            "soilw100_mean      float64\n",
            "soilw100_std       float64\n",
            "elevation          float64\n",
            "slope              float64\n",
            "aspect             float64\n",
            "vegetation_type      int64\n",
            "road_dist          float64\n",
            "river_dist         float64\n",
            "locality_dist      float64\n",
            "dtype: object    year  event_date  is_fire  soilw40_mean  soilw40_std  soilw200_mean  \\\n",
            "0  2024  2024-03-01        0          0.34          0.0           0.46   \n",
            "1  2024  2024-03-01        0          0.36          0.0           0.38   \n",
            "2  2024  2024-03-01        0          0.35          0.0           0.44   \n",
            "3  2024  2024-03-01        0          0.35          0.0           0.38   \n",
            "4  2024  2024-03-01        0          0.36          0.0           0.41   \n",
            "\n",
            "   soilw200_std  tmin_mean  tmin_std  snod_mean  ...  soilw10_std  \\\n",
            "0           0.0   -19.0125  2.390121   0.134250  ...          0.0   \n",
            "1           0.0   -13.5875  3.853176   0.129375  ...          0.0   \n",
            "2           0.0   -14.4875  1.962096   0.178625  ...          0.0   \n",
            "3           0.0   -15.2875  6.186492   0.143625  ...          0.0   \n",
            "4           0.0   -14.2125  4.077267   0.140625  ...          0.0   \n",
            "\n",
            "   soilw100_mean  soilw100_std  elevation      slope      aspect  \\\n",
            "0           0.33           0.0     2214.0  13.906085   39.996078   \n",
            "1           0.35           0.0      849.0   6.824051  282.706177   \n",
            "2           0.32           0.0      472.0   0.633459  199.093491   \n",
            "3           0.30           0.0      784.0   4.401981   58.882362   \n",
            "4           0.35           0.0      884.0   3.040766  275.861542   \n",
            "\n",
            "   vegetation_type      road_dist    river_dist  locality_dist  \n",
            "0               21  279246.134278  12763.348115   27921.440441  \n",
            "1               18   72010.297452   8816.743841   21366.124105  \n",
            "2               18  665535.090753  22987.812032   86292.492518  \n",
            "3               18   44680.049751   8541.776895   45273.988857  \n",
            "4               17  143938.399536   7520.180463   79470.921820  \n",
            "\n",
            "[5 rows x 42 columns]\n"
          ]
        }
      ],
      "source": [
        "# read the test dataset and drop columns to correspond to the training dataset\n",
        "test_ds = pd.read_csv(train_files_path + \"test_dataset_2024.csv\", sep=\";\").drop(columns=[\"Unnamed: 0\"])\n",
        "test_ds[\"vegetation_type\"] = test_ds[\"vegetation_type\"].astype(int)\n",
        "print(test_ds.dtypes, test_ds.head(5))"
      ]
    },
    {
      "cell_type": "code",
      "execution_count": 39,
      "metadata": {
        "colab": {
          "base_uri": "https://localhost:8080/",
          "height": 625
        },
        "id": "jq4Z4z9E4mDD",
        "outputId": "25f60d10-d7fc-48de-bbca-082d012f72eb"
      },
      "outputs": [
        {
          "output_type": "stream",
          "name": "stdout",
          "text": [
            "t_mean             float64\n",
            "wind_speed_mean    float64\n",
            "rh_mean            float64\n",
            "apcp_mean          float64\n",
            "wind_dir_std       float64\n",
            "soilw10_mean       float64\n",
            "elevation          float64\n",
            "slope              float64\n",
            "aspect             float64\n",
            "road_dist          float64\n",
            "river_dist         float64\n",
            "locality_dist      float64\n",
            "vegetation_type      int64\n",
            "event_date          object\n",
            "is_fire              int64\n",
            "dtype: object\n",
            "(18308, 15)\n",
            "Index(['t_mean', 'wind_speed_mean', 'rh_mean', 'apcp_mean', 'wind_dir_std',\n",
            "       'soilw10_mean', 'elevation', 'slope', 'aspect', 'road_dist',\n",
            "       'river_dist', 'locality_dist', 'vegetation_type', 'event_date',\n",
            "       'is_fire'],\n",
            "      dtype='object')\n",
            "RangeIndex(start=0, stop=18308, step=1)\n"
          ]
        },
        {
          "output_type": "execute_result",
          "data": {
            "text/plain": [
              "     t_mean  wind_speed_mean   rh_mean  apcp_mean  wind_dir_std  soilw10_mean  \\\n",
              "0 -1.887257        -0.047571  1.201984   0.150494     -0.531109      1.525053   \n",
              "1 -1.750273         1.728178  1.210773   0.905277     -0.650823      1.406636   \n",
              "2 -1.786003         1.670896  1.173733   0.282581     -0.550192      1.169801   \n",
              "3 -1.402096         1.398805  1.230234   0.792060     -0.510173      1.761887   \n",
              "4 -2.172439         1.055112  1.218934   0.697712      0.366810      0.459299   \n",
              "\n",
              "   elevation     slope    aspect  road_dist  river_dist  locality_dist  \\\n",
              "0   1.476445 -0.047134 -0.580267  -0.087056   -0.089247      -0.334921   \n",
              "1  -0.855097  0.893102  1.294228   0.963490   -0.367656      -0.819439   \n",
              "2  -0.417496 -0.792476  0.918920   0.988931    0.837171       0.624715   \n",
              "3   0.104126 -0.575298  0.020310  -0.119628   -0.039831      -0.335354   \n",
              "4  -0.603039 -0.730377  0.150135   2.615564   -0.142636      -0.073070   \n",
              "\n",
              "   vegetation_type  event_date  is_fire  \n",
              "0               18  2015-03-01        0  \n",
              "1               15  2015-03-01        0  \n",
              "2               11  2015-03-01        0  \n",
              "3               11  2015-03-01        0  \n",
              "4               18  2015-03-01        0  "
            ],
            "text/html": [
              "\n",
              "  <div id=\"df-08253719-2cbf-4ab0-9d44-fd83da93ec81\" class=\"colab-df-container\">\n",
              "    <div>\n",
              "<style scoped>\n",
              "    .dataframe tbody tr th:only-of-type {\n",
              "        vertical-align: middle;\n",
              "    }\n",
              "\n",
              "    .dataframe tbody tr th {\n",
              "        vertical-align: top;\n",
              "    }\n",
              "\n",
              "    .dataframe thead th {\n",
              "        text-align: right;\n",
              "    }\n",
              "</style>\n",
              "<table border=\"1\" class=\"dataframe\">\n",
              "  <thead>\n",
              "    <tr style=\"text-align: right;\">\n",
              "      <th></th>\n",
              "      <th>t_mean</th>\n",
              "      <th>wind_speed_mean</th>\n",
              "      <th>rh_mean</th>\n",
              "      <th>apcp_mean</th>\n",
              "      <th>wind_dir_std</th>\n",
              "      <th>soilw10_mean</th>\n",
              "      <th>elevation</th>\n",
              "      <th>slope</th>\n",
              "      <th>aspect</th>\n",
              "      <th>road_dist</th>\n",
              "      <th>river_dist</th>\n",
              "      <th>locality_dist</th>\n",
              "      <th>vegetation_type</th>\n",
              "      <th>event_date</th>\n",
              "      <th>is_fire</th>\n",
              "    </tr>\n",
              "  </thead>\n",
              "  <tbody>\n",
              "    <tr>\n",
              "      <th>0</th>\n",
              "      <td>-1.887257</td>\n",
              "      <td>-0.047571</td>\n",
              "      <td>1.201984</td>\n",
              "      <td>0.150494</td>\n",
              "      <td>-0.531109</td>\n",
              "      <td>1.525053</td>\n",
              "      <td>1.476445</td>\n",
              "      <td>-0.047134</td>\n",
              "      <td>-0.580267</td>\n",
              "      <td>-0.087056</td>\n",
              "      <td>-0.089247</td>\n",
              "      <td>-0.334921</td>\n",
              "      <td>18</td>\n",
              "      <td>2015-03-01</td>\n",
              "      <td>0</td>\n",
              "    </tr>\n",
              "    <tr>\n",
              "      <th>1</th>\n",
              "      <td>-1.750273</td>\n",
              "      <td>1.728178</td>\n",
              "      <td>1.210773</td>\n",
              "      <td>0.905277</td>\n",
              "      <td>-0.650823</td>\n",
              "      <td>1.406636</td>\n",
              "      <td>-0.855097</td>\n",
              "      <td>0.893102</td>\n",
              "      <td>1.294228</td>\n",
              "      <td>0.963490</td>\n",
              "      <td>-0.367656</td>\n",
              "      <td>-0.819439</td>\n",
              "      <td>15</td>\n",
              "      <td>2015-03-01</td>\n",
              "      <td>0</td>\n",
              "    </tr>\n",
              "    <tr>\n",
              "      <th>2</th>\n",
              "      <td>-1.786003</td>\n",
              "      <td>1.670896</td>\n",
              "      <td>1.173733</td>\n",
              "      <td>0.282581</td>\n",
              "      <td>-0.550192</td>\n",
              "      <td>1.169801</td>\n",
              "      <td>-0.417496</td>\n",
              "      <td>-0.792476</td>\n",
              "      <td>0.918920</td>\n",
              "      <td>0.988931</td>\n",
              "      <td>0.837171</td>\n",
              "      <td>0.624715</td>\n",
              "      <td>11</td>\n",
              "      <td>2015-03-01</td>\n",
              "      <td>0</td>\n",
              "    </tr>\n",
              "    <tr>\n",
              "      <th>3</th>\n",
              "      <td>-1.402096</td>\n",
              "      <td>1.398805</td>\n",
              "      <td>1.230234</td>\n",
              "      <td>0.792060</td>\n",
              "      <td>-0.510173</td>\n",
              "      <td>1.761887</td>\n",
              "      <td>0.104126</td>\n",
              "      <td>-0.575298</td>\n",
              "      <td>0.020310</td>\n",
              "      <td>-0.119628</td>\n",
              "      <td>-0.039831</td>\n",
              "      <td>-0.335354</td>\n",
              "      <td>11</td>\n",
              "      <td>2015-03-01</td>\n",
              "      <td>0</td>\n",
              "    </tr>\n",
              "    <tr>\n",
              "      <th>4</th>\n",
              "      <td>-2.172439</td>\n",
              "      <td>1.055112</td>\n",
              "      <td>1.218934</td>\n",
              "      <td>0.697712</td>\n",
              "      <td>0.366810</td>\n",
              "      <td>0.459299</td>\n",
              "      <td>-0.603039</td>\n",
              "      <td>-0.730377</td>\n",
              "      <td>0.150135</td>\n",
              "      <td>2.615564</td>\n",
              "      <td>-0.142636</td>\n",
              "      <td>-0.073070</td>\n",
              "      <td>18</td>\n",
              "      <td>2015-03-01</td>\n",
              "      <td>0</td>\n",
              "    </tr>\n",
              "  </tbody>\n",
              "</table>\n",
              "</div>\n",
              "    <div class=\"colab-df-buttons\">\n",
              "\n",
              "  <div class=\"colab-df-container\">\n",
              "    <button class=\"colab-df-convert\" onclick=\"convertToInteractive('df-08253719-2cbf-4ab0-9d44-fd83da93ec81')\"\n",
              "            title=\"Convert this dataframe to an interactive table.\"\n",
              "            style=\"display:none;\">\n",
              "\n",
              "  <svg xmlns=\"http://www.w3.org/2000/svg\" height=\"24px\" viewBox=\"0 -960 960 960\">\n",
              "    <path d=\"M120-120v-720h720v720H120Zm60-500h600v-160H180v160Zm220 220h160v-160H400v160Zm0 220h160v-160H400v160ZM180-400h160v-160H180v160Zm440 0h160v-160H620v160ZM180-180h160v-160H180v160Zm440 0h160v-160H620v160Z\"/>\n",
              "  </svg>\n",
              "    </button>\n",
              "\n",
              "  <style>\n",
              "    .colab-df-container {\n",
              "      display:flex;\n",
              "      gap: 12px;\n",
              "    }\n",
              "\n",
              "    .colab-df-convert {\n",
              "      background-color: #E8F0FE;\n",
              "      border: none;\n",
              "      border-radius: 50%;\n",
              "      cursor: pointer;\n",
              "      display: none;\n",
              "      fill: #1967D2;\n",
              "      height: 32px;\n",
              "      padding: 0 0 0 0;\n",
              "      width: 32px;\n",
              "    }\n",
              "\n",
              "    .colab-df-convert:hover {\n",
              "      background-color: #E2EBFA;\n",
              "      box-shadow: 0px 1px 2px rgba(60, 64, 67, 0.3), 0px 1px 3px 1px rgba(60, 64, 67, 0.15);\n",
              "      fill: #174EA6;\n",
              "    }\n",
              "\n",
              "    .colab-df-buttons div {\n",
              "      margin-bottom: 4px;\n",
              "    }\n",
              "\n",
              "    [theme=dark] .colab-df-convert {\n",
              "      background-color: #3B4455;\n",
              "      fill: #D2E3FC;\n",
              "    }\n",
              "\n",
              "    [theme=dark] .colab-df-convert:hover {\n",
              "      background-color: #434B5C;\n",
              "      box-shadow: 0px 1px 3px 1px rgba(0, 0, 0, 0.15);\n",
              "      filter: drop-shadow(0px 1px 2px rgba(0, 0, 0, 0.3));\n",
              "      fill: #FFFFFF;\n",
              "    }\n",
              "  </style>\n",
              "\n",
              "    <script>\n",
              "      const buttonEl =\n",
              "        document.querySelector('#df-08253719-2cbf-4ab0-9d44-fd83da93ec81 button.colab-df-convert');\n",
              "      buttonEl.style.display =\n",
              "        google.colab.kernel.accessAllowed ? 'block' : 'none';\n",
              "\n",
              "      async function convertToInteractive(key) {\n",
              "        const element = document.querySelector('#df-08253719-2cbf-4ab0-9d44-fd83da93ec81');\n",
              "        const dataTable =\n",
              "          await google.colab.kernel.invokeFunction('convertToInteractive',\n",
              "                                                    [key], {});\n",
              "        if (!dataTable) return;\n",
              "\n",
              "        const docLinkHtml = 'Like what you see? Visit the ' +\n",
              "          '<a target=\"_blank\" href=https://colab.research.google.com/notebooks/data_table.ipynb>data table notebook</a>'\n",
              "          + ' to learn more about interactive tables.';\n",
              "        element.innerHTML = '';\n",
              "        dataTable['output_type'] = 'display_data';\n",
              "        await google.colab.output.renderOutput(dataTable, element);\n",
              "        const docLink = document.createElement('div');\n",
              "        docLink.innerHTML = docLinkHtml;\n",
              "        element.appendChild(docLink);\n",
              "      }\n",
              "    </script>\n",
              "  </div>\n",
              "\n",
              "\n",
              "    <div id=\"df-d3e2bb52-9ea6-4c95-adee-c3e9f5715885\">\n",
              "      <button class=\"colab-df-quickchart\" onclick=\"quickchart('df-d3e2bb52-9ea6-4c95-adee-c3e9f5715885')\"\n",
              "                title=\"Suggest charts\"\n",
              "                style=\"display:none;\">\n",
              "\n",
              "<svg xmlns=\"http://www.w3.org/2000/svg\" height=\"24px\"viewBox=\"0 0 24 24\"\n",
              "     width=\"24px\">\n",
              "    <g>\n",
              "        <path d=\"M19 3H5c-1.1 0-2 .9-2 2v14c0 1.1.9 2 2 2h14c1.1 0 2-.9 2-2V5c0-1.1-.9-2-2-2zM9 17H7v-7h2v7zm4 0h-2V7h2v10zm4 0h-2v-4h2v4z\"/>\n",
              "    </g>\n",
              "</svg>\n",
              "      </button>\n",
              "\n",
              "<style>\n",
              "  .colab-df-quickchart {\n",
              "      --bg-color: #E8F0FE;\n",
              "      --fill-color: #1967D2;\n",
              "      --hover-bg-color: #E2EBFA;\n",
              "      --hover-fill-color: #174EA6;\n",
              "      --disabled-fill-color: #AAA;\n",
              "      --disabled-bg-color: #DDD;\n",
              "  }\n",
              "\n",
              "  [theme=dark] .colab-df-quickchart {\n",
              "      --bg-color: #3B4455;\n",
              "      --fill-color: #D2E3FC;\n",
              "      --hover-bg-color: #434B5C;\n",
              "      --hover-fill-color: #FFFFFF;\n",
              "      --disabled-bg-color: #3B4455;\n",
              "      --disabled-fill-color: #666;\n",
              "  }\n",
              "\n",
              "  .colab-df-quickchart {\n",
              "    background-color: var(--bg-color);\n",
              "    border: none;\n",
              "    border-radius: 50%;\n",
              "    cursor: pointer;\n",
              "    display: none;\n",
              "    fill: var(--fill-color);\n",
              "    height: 32px;\n",
              "    padding: 0;\n",
              "    width: 32px;\n",
              "  }\n",
              "\n",
              "  .colab-df-quickchart:hover {\n",
              "    background-color: var(--hover-bg-color);\n",
              "    box-shadow: 0 1px 2px rgba(60, 64, 67, 0.3), 0 1px 3px 1px rgba(60, 64, 67, 0.15);\n",
              "    fill: var(--button-hover-fill-color);\n",
              "  }\n",
              "\n",
              "  .colab-df-quickchart-complete:disabled,\n",
              "  .colab-df-quickchart-complete:disabled:hover {\n",
              "    background-color: var(--disabled-bg-color);\n",
              "    fill: var(--disabled-fill-color);\n",
              "    box-shadow: none;\n",
              "  }\n",
              "\n",
              "  .colab-df-spinner {\n",
              "    border: 2px solid var(--fill-color);\n",
              "    border-color: transparent;\n",
              "    border-bottom-color: var(--fill-color);\n",
              "    animation:\n",
              "      spin 1s steps(1) infinite;\n",
              "  }\n",
              "\n",
              "  @keyframes spin {\n",
              "    0% {\n",
              "      border-color: transparent;\n",
              "      border-bottom-color: var(--fill-color);\n",
              "      border-left-color: var(--fill-color);\n",
              "    }\n",
              "    20% {\n",
              "      border-color: transparent;\n",
              "      border-left-color: var(--fill-color);\n",
              "      border-top-color: var(--fill-color);\n",
              "    }\n",
              "    30% {\n",
              "      border-color: transparent;\n",
              "      border-left-color: var(--fill-color);\n",
              "      border-top-color: var(--fill-color);\n",
              "      border-right-color: var(--fill-color);\n",
              "    }\n",
              "    40% {\n",
              "      border-color: transparent;\n",
              "      border-right-color: var(--fill-color);\n",
              "      border-top-color: var(--fill-color);\n",
              "    }\n",
              "    60% {\n",
              "      border-color: transparent;\n",
              "      border-right-color: var(--fill-color);\n",
              "    }\n",
              "    80% {\n",
              "      border-color: transparent;\n",
              "      border-right-color: var(--fill-color);\n",
              "      border-bottom-color: var(--fill-color);\n",
              "    }\n",
              "    90% {\n",
              "      border-color: transparent;\n",
              "      border-bottom-color: var(--fill-color);\n",
              "    }\n",
              "  }\n",
              "</style>\n",
              "\n",
              "      <script>\n",
              "        async function quickchart(key) {\n",
              "          const quickchartButtonEl =\n",
              "            document.querySelector('#' + key + ' button');\n",
              "          quickchartButtonEl.disabled = true;  // To prevent multiple clicks.\n",
              "          quickchartButtonEl.classList.add('colab-df-spinner');\n",
              "          try {\n",
              "            const charts = await google.colab.kernel.invokeFunction(\n",
              "                'suggestCharts', [key], {});\n",
              "          } catch (error) {\n",
              "            console.error('Error during call to suggestCharts:', error);\n",
              "          }\n",
              "          quickchartButtonEl.classList.remove('colab-df-spinner');\n",
              "          quickchartButtonEl.classList.add('colab-df-quickchart-complete');\n",
              "        }\n",
              "        (() => {\n",
              "          let quickchartButtonEl =\n",
              "            document.querySelector('#df-d3e2bb52-9ea6-4c95-adee-c3e9f5715885 button');\n",
              "          quickchartButtonEl.style.display =\n",
              "            google.colab.kernel.accessAllowed ? 'block' : 'none';\n",
              "        })();\n",
              "      </script>\n",
              "    </div>\n",
              "    </div>\n",
              "  </div>\n"
            ],
            "application/vnd.google.colaboratory.intrinsic+json": {
              "type": "dataframe",
              "variable_name": "train_ds",
              "summary": "{\n  \"name\": \"train_ds\",\n  \"rows\": 18308,\n  \"fields\": [\n    {\n      \"column\": \"t_mean\",\n      \"properties\": {\n        \"dtype\": \"number\",\n        \"std\": 0.9999999999999968,\n        \"min\": -3.805585053345289,\n        \"max\": 2.13816375688181,\n        \"num_unique_values\": 13486,\n        \"samples\": [\n          0.578677280241691,\n          1.027778602559272,\n          -0.1806722505410587\n        ],\n        \"semantic_type\": \"\",\n        \"description\": \"\"\n      }\n    },\n    {\n      \"column\": \"wind_speed_mean\",\n      \"properties\": {\n        \"dtype\": \"number\",\n        \"std\": 1.0000000000000036,\n        \"min\": -2.03812880004479,\n        \"max\": 4.964624501454915,\n        \"num_unique_values\": 634,\n        \"samples\": [\n          1.985948250510255,\n          0.7114185085195114,\n          -0.6060729101675498\n        ],\n        \"semantic_type\": \"\",\n        \"description\": \"\"\n      }\n    },\n    {\n      \"column\": \"rh_mean\",\n      \"properties\": {\n        \"dtype\": \"number\",\n        \"std\": 0.9999999999999979,\n        \"min\": -2.45680458728281,\n        \"max\": 1.2672743630082526,\n        \"num_unique_values\": 5170,\n        \"samples\": [\n          -0.2432000055690059,\n          1.125392730714628,\n          0.2521301177923641\n        ],\n        \"semantic_type\": \"\",\n        \"description\": \"\"\n      }\n    },\n    {\n      \"column\": \"apcp_mean\",\n      \"properties\": {\n        \"dtype\": \"number\",\n        \"std\": 1.00000000000003,\n        \"min\": -0.623158167970611,\n        \"max\": 12.547803410214824,\n        \"num_unique_values\": 565,\n        \"samples\": [\n          5.867974758814188,\n          0.776964108678901,\n          7.056757823893962\n        ],\n        \"semantic_type\": \"\",\n        \"description\": \"\"\n      }\n    },\n    {\n      \"column\": \"wind_dir_std\",\n      \"properties\": {\n        \"dtype\": \"number\",\n        \"std\": 0.9999999999999987,\n        \"min\": -1.5507451964700072,\n        \"max\": 4.481149195124909,\n        \"num_unique_values\": 17275,\n        \"samples\": [\n          -0.7959618837177852,\n          -1.2768263577109238,\n          1.4129353007917018\n        ],\n        \"semantic_type\": \"\",\n        \"description\": \"\"\n      }\n    },\n    {\n      \"column\": \"soilw10_mean\",\n      \"properties\": {\n        \"dtype\": \"number\",\n        \"std\": 0.9999999999999969,\n        \"min\": -1.7906237871453805,\n        \"max\": 1.8803035548270175,\n        \"num_unique_values\": 358,\n        \"samples\": [\n          -0.1835391636342772,\n          0.4741015488295267,\n          0.9181653401971552\n        ],\n        \"semantic_type\": \"\",\n        \"description\": \"\"\n      }\n    },\n    {\n      \"column\": \"elevation\",\n      \"properties\": {\n        \"dtype\": \"number\",\n        \"std\": 0.9999999999999973,\n        \"min\": -1.5657626828380455,\n        \"max\": 7.063744351103266,\n        \"num_unique_values\": 8081,\n        \"samples\": [\n          -0.0785762169058668,\n          -0.2915516943276685,\n          0.2063863211263076\n        ],\n        \"semantic_type\": \"\",\n        \"description\": \"\"\n      }\n    },\n    {\n      \"column\": \"slope\",\n      \"properties\": {\n        \"dtype\": \"number\",\n        \"std\": 0.9999999999999964,\n        \"min\": -0.97105335571784,\n        \"max\": 8.729306256582444,\n        \"num_unique_values\": 14751,\n        \"samples\": [\n          0.3562219645274032,\n          -0.6665304337875226,\n          1.951447336740029\n        ],\n        \"semantic_type\": \"\",\n        \"description\": \"\"\n      }\n    },\n    {\n      \"column\": \"aspect\",\n      \"properties\": {\n        \"dtype\": \"number\",\n        \"std\": 1.000000000000004,\n        \"min\": -1.2125652203714945,\n        \"max\": 2.1121706749772264,\n        \"num_unique_values\": 11623,\n        \"samples\": [\n          -0.3993266384805836,\n          -0.5998982539294218,\n          -0.5907727693115868\n        ],\n        \"semantic_type\": \"\",\n        \"description\": \"\"\n      }\n    },\n    {\n      \"column\": \"road_dist\",\n      \"properties\": {\n        \"dtype\": \"number\",\n        \"std\": 1.000000000000003,\n        \"min\": -1.0386158652809316,\n        \"max\": 2.998381780731704,\n        \"num_unique_values\": 18147,\n        \"samples\": [\n          -0.5105532659055062,\n          -0.5383000769743983,\n          -0.8440797083354775\n        ],\n        \"semantic_type\": \"\",\n        \"description\": \"\"\n      }\n    },\n    {\n      \"column\": \"river_dist\",\n      \"properties\": {\n        \"dtype\": \"number\",\n        \"std\": 0.9999999999999953,\n        \"min\": -1.1021375073495512,\n        \"max\": 6.153137702581705,\n        \"num_unique_values\": 17476,\n        \"samples\": [\n          0.3748194466128715,\n          -0.7822701001599968,\n          -0.8433180722073668\n        ],\n        \"semantic_type\": \"\",\n        \"description\": \"\"\n      }\n    },\n    {\n      \"column\": \"locality_dist\",\n      \"properties\": {\n        \"dtype\": \"number\",\n        \"std\": 1.0000000000000009,\n        \"min\": -1.099180591445885,\n        \"max\": 4.208801137968043,\n        \"num_unique_values\": 18308,\n        \"samples\": [\n          -1.0524431118741226,\n          -0.6911184644098217,\n          -0.4319290020669998\n        ],\n        \"semantic_type\": \"\",\n        \"description\": \"\"\n      }\n    },\n    {\n      \"column\": \"vegetation_type\",\n      \"properties\": {\n        \"dtype\": \"number\",\n        \"std\": 5,\n        \"min\": 1,\n        \"max\": 25,\n        \"num_unique_values\": 12,\n        \"samples\": [\n          13,\n          8,\n          18\n        ],\n        \"semantic_type\": \"\",\n        \"description\": \"\"\n      }\n    },\n    {\n      \"column\": \"event_date\",\n      \"properties\": {\n        \"dtype\": \"object\",\n        \"num_unique_values\": 2131,\n        \"samples\": [\n          \"2016-04-10\",\n          \"2023-06-22\",\n          \"2022-04-04\"\n        ],\n        \"semantic_type\": \"\",\n        \"description\": \"\"\n      }\n    },\n    {\n      \"column\": \"is_fire\",\n      \"properties\": {\n        \"dtype\": \"number\",\n        \"std\": 0,\n        \"min\": 0,\n        \"max\": 1,\n        \"num_unique_values\": 2,\n        \"samples\": [\n          1,\n          0\n        ],\n        \"semantic_type\": \"\",\n        \"description\": \"\"\n      }\n    }\n  ]\n}"
            }
          },
          "metadata": {},
          "execution_count": 39
        }
      ],
      "source": [
        "train_ds = pd.read_csv(train_files_path + \"dataset.csv\", sep=\";\").drop(columns=[\"Unnamed: 0\"])\n",
        "print(train_ds.dtypes, train_ds.shape, train_ds.columns, train_ds.index, sep=\"\\n\")\n",
        "train_ds.head(5)"
      ]
    },
    {
      "cell_type": "code",
      "execution_count": 40,
      "metadata": {
        "colab": {
          "base_uri": "https://localhost:8080/",
          "height": 621
        },
        "id": "50Db7Q8BzKZs",
        "outputId": "5e3c8996-fd72-4d51-d78e-598f6a5f8097"
      },
      "outputs": [
        {
          "output_type": "stream",
          "name": "stdout",
          "text": [
            "Index([    0,     1,     2,     3,     4,     5,     6,     7,     8,     9,\n",
            "       ...\n",
            "       18259, 18285, 18288, 18289, 18296, 18298, 18300, 18302, 18305, 18307],\n",
            "      dtype='int64', length=10649)\n",
            "2775 18308\n",
            "(2775,)\n"
          ]
        },
        {
          "output_type": "execute_result",
          "data": {
            "text/plain": [
              "(is_fire\n",
              " 0    7874\n",
              " 1    7659\n",
              " Name: count, dtype: int64,\n",
              " <Axes: >)"
            ]
          },
          "metadata": {},
          "execution_count": 40
        },
        {
          "output_type": "display_data",
          "data": {
            "text/plain": [
              "<Figure size 640x480 with 1 Axes>"
            ],
            "image/png": "[encoded data removed]"
          },
          "metadata": {}
        }
      ],
      "source": [
        "# drop nonfires\n",
        "drop_nonfires_idx = train_ds[(train_ds.is_fire == 0)].index\n",
        "assert drop_nonfires_idx.duplicated().sum() == 0\n",
        "print(drop_nonfires_idx)\n",
        "idx = drop_nonfires_idx.to_numpy()\n",
        "np.random.shuffle(idx)\n",
        "vc = train_ds.is_fire.value_counts()\n",
        "a = -215\n",
        "diff = vc[0] - vc[1] + a\n",
        "print(diff, train_ds.shape[0])\n",
        "drop_idx = idx[:diff]\n",
        "print(drop_idx.shape)\n",
        "\n",
        "train_ds = train_ds.drop(index=drop_idx)\n",
        "train_ds = train_ds.reset_index(drop=True)\n",
        "train_ds.is_fire.value_counts(), train_ds.is_fire.hist()"
      ]
    },
    {
      "cell_type": "code",
      "execution_count": 41,
      "metadata": {
        "colab": {
          "base_uri": "https://localhost:8080/"
        },
        "id": "nT21hUhXejuT",
        "outputId": "00a73621-c0c6-438a-c755-f0521ad63426"
      },
      "outputs": [
        {
          "output_type": "execute_result",
          "data": {
            "text/plain": [
              "Index(['t_mean', 'wind_speed_mean', 'rh_mean', 'apcp_mean', 'wind_dir_std',\n",
              "       'soilw10_mean', 'elevation', 'slope', 'aspect', 'road_dist',\n",
              "       'river_dist', 'locality_dist', 'vegetation_type', 'event_date',\n",
              "       'is_fire'],\n",
              "      dtype='object')"
            ]
          },
          "metadata": {},
          "execution_count": 41
        }
      ],
      "source": [
        "train_ds.columns"
      ]
    },
    {
      "cell_type": "code",
      "execution_count": 42,
      "metadata": {
        "colab": {
          "base_uri": "https://localhost:8080/"
        },
        "id": "MEXh5CXeNnfb",
        "outputId": "c54429d5-95e4-45f9-ced6-3a9ce6be025f"
      },
      "outputs": [
        {
          "output_type": "execute_result",
          "data": {
            "text/plain": [
              "(np.True_, np.True_)"
            ]
          },
          "metadata": {},
          "execution_count": 42
        }
      ],
      "source": [
        "train_ds.event_date.isnull().sum() == 0, test_ds.event_date.isnull().sum() == 0"
      ]
    },
    {
      "cell_type": "code",
      "execution_count": 43,
      "metadata": {
        "colab": {
          "base_uri": "https://localhost:8080/"
        },
        "id": "2ggWIMMCNncq",
        "outputId": "c7d84200-48c8-4148-f307-9565619a33fa"
      },
      "outputs": [
        {
          "output_type": "execute_result",
          "data": {
            "text/plain": [
              "(RangeIndex(start=0, stop=15533, step=1),\n",
              " RangeIndex(start=0, stop=1556, step=1))"
            ]
          },
          "metadata": {},
          "execution_count": 43
        }
      ],
      "source": [
        "train_ds.index, test_ds.index"
      ]
    },
    {
      "cell_type": "code",
      "execution_count": 44,
      "metadata": {
        "colab": {
          "base_uri": "https://localhost:8080/"
        },
        "id": "BkVkmTdH0hzp",
        "outputId": "692710f3-a02e-4946-dcfa-d865bd7db8d0"
      },
      "outputs": [
        {
          "output_type": "execute_result",
          "data": {
            "text/plain": [
              "(Index(['t_mean', 'wind_speed_mean', 'rh_mean', 'apcp_mean', 'wind_dir_std',\n",
              "        'soilw10_mean', 'elevation', 'slope', 'aspect', 'road_dist',\n",
              "        'river_dist', 'locality_dist', 'vegetation_type', 'event_date',\n",
              "        'is_fire'],\n",
              "       dtype='object'),\n",
              " np.True_,\n",
              " (15533, 15))"
            ]
          },
          "metadata": {},
          "execution_count": 44
        }
      ],
      "source": [
        "# exclude cols in train_ds\n",
        "ex_cols = [\n",
        "  # \"rh_mean\",\n",
        "  # \"rh_max\",\n",
        "  # \"rh_min\",\n",
        "  # \"rh_mode_num\",\n",
        "  # # \"t_mean\",\n",
        "  # \"t_max\",\n",
        "  # \"tmax_mean\",\n",
        "  # \"tmax_mode_num\",\n",
        "  # \"tmin_mean\",\n",
        "  # # \"soilw10_mean\",\n",
        "  # \"soilw10_min\",\n",
        "  # \"soilw10_max\",\n",
        "  # \"soilw10_mode_num\",\n",
        "  # \"tmpgr10_mean\",\n",
        "  # \"tmpgr10_min\",\n",
        "  # \"tmpgr10_max\",\n",
        "  # \"tmpgr10_mode_num\",\n",
        "]\n",
        "# try t_mean instead of tmpgr10_max\n",
        "# soilw10 and tmpgr10 include\n",
        "# using tmpgr10 and t_mean didn't really make a difference, model results were the same\n",
        "# try to take out t_mean and use t_max instead\n",
        "train_ds_ = train_ds.loc[:, ~train_ds.columns.isin(ex_cols)]\n",
        "train_ds_.columns, train_ds_.event_date.isnull().sum() == 0, train_ds_.shape"
      ]
    },
    {
      "cell_type": "code",
      "execution_count": 45,
      "metadata": {
        "colab": {
          "base_uri": "https://localhost:8080/",
          "height": 457
        },
        "id": "ltK0-RHJxca5",
        "outputId": "51853ee3-6ddf-4fc2-9626-da52413df104"
      },
      "outputs": [
        {
          "output_type": "execute_result",
          "data": {
            "text/plain": [
              "            feature       VIF\n",
              "0            t_mean  3.428430\n",
              "1   wind_speed_mean  1.377548\n",
              "2           rh_mean  5.127653\n",
              "3         apcp_mean  1.425767\n",
              "4      wind_dir_std  1.211231\n",
              "5      soilw10_mean  3.547454\n",
              "6         elevation  1.831554\n",
              "7             slope  1.676208\n",
              "8            aspect  1.106021\n",
              "9         road_dist  1.502447\n",
              "10       river_dist  1.025944\n",
              "11    locality_dist  1.441167\n",
              "12  vegetation_type  1.009520"
            ],
            "text/html": [
              "\n",
              "  <div id=\"df-75c44956-cd15-4205-9268-1f9d832dfcac\" class=\"colab-df-container\">\n",
              "    <div>\n",
              "<style scoped>\n",
              "    .dataframe tbody tr th:only-of-type {\n",
              "        vertical-align: middle;\n",
              "    }\n",
              "\n",
              "    .dataframe tbody tr th {\n",
              "        vertical-align: top;\n",
              "    }\n",
              "\n",
              "    .dataframe thead th {\n",
              "        text-align: right;\n",
              "    }\n",
              "</style>\n",
              "<table border=\"1\" class=\"dataframe\">\n",
              "  <thead>\n",
              "    <tr style=\"text-align: right;\">\n",
              "      <th></th>\n",
              "      <th>feature</th>\n",
              "      <th>VIF</th>\n",
              "    </tr>\n",
              "  </thead>\n",
              "  <tbody>\n",
              "    <tr>\n",
              "      <th>0</th>\n",
              "      <td>t_mean</td>\n",
              "      <td>3.428430</td>\n",
              "    </tr>\n",
              "    <tr>\n",
              "      <th>1</th>\n",
              "      <td>wind_speed_mean</td>\n",
              "      <td>1.377548</td>\n",
              "    </tr>\n",
              "    <tr>\n",
              "      <th>2</th>\n",
              "      <td>rh_mean</td>\n",
              "      <td>5.127653</td>\n",
              "    </tr>\n",
              "    <tr>\n",
              "      <th>3</th>\n",
              "      <td>apcp_mean</td>\n",
              "      <td>1.425767</td>\n",
              "    </tr>\n",
              "    <tr>\n",
              "      <th>4</th>\n",
              "      <td>wind_dir_std</td>\n",
              "      <td>1.211231</td>\n",
              "    </tr>\n",
              "    <tr>\n",
              "      <th>5</th>\n",
              "      <td>soilw10_mean</td>\n",
              "      <td>3.547454</td>\n",
              "    </tr>\n",
              "    <tr>\n",
              "      <th>6</th>\n",
              "      <td>elevation</td>\n",
              "      <td>1.831554</td>\n",
              "    </tr>\n",
              "    <tr>\n",
              "      <th>7</th>\n",
              "      <td>slope</td>\n",
              "      <td>1.676208</td>\n",
              "    </tr>\n",
              "    <tr>\n",
              "      <th>8</th>\n",
              "      <td>aspect</td>\n",
              "      <td>1.106021</td>\n",
              "    </tr>\n",
              "    <tr>\n",
              "      <th>9</th>\n",
              "      <td>road_dist</td>\n",
              "      <td>1.502447</td>\n",
              "    </tr>\n",
              "    <tr>\n",
              "      <th>10</th>\n",
              "      <td>river_dist</td>\n",
              "      <td>1.025944</td>\n",
              "    </tr>\n",
              "    <tr>\n",
              "      <th>11</th>\n",
              "      <td>locality_dist</td>\n",
              "      <td>1.441167</td>\n",
              "    </tr>\n",
              "    <tr>\n",
              "      <th>12</th>\n",
              "      <td>vegetation_type</td>\n",
              "      <td>1.009520</td>\n",
              "    </tr>\n",
              "  </tbody>\n",
              "</table>\n",
              "</div>\n",
              "    <div class=\"colab-df-buttons\">\n",
              "\n",
              "  <div class=\"colab-df-container\">\n",
              "    <button class=\"colab-df-convert\" onclick=\"convertToInteractive('df-75c44956-cd15-4205-9268-1f9d832dfcac')\"\n",
              "            title=\"Convert this dataframe to an interactive table.\"\n",
              "            style=\"display:none;\">\n",
              "\n",
              "  <svg xmlns=\"http://www.w3.org/2000/svg\" height=\"24px\" viewBox=\"0 -960 960 960\">\n",
              "    <path d=\"M120-120v-720h720v720H120Zm60-500h600v-160H180v160Zm220 220h160v-160H400v160Zm0 220h160v-160H400v160ZM180-400h160v-160H180v160Zm440 0h160v-160H620v160ZM180-180h160v-160H180v160Zm440 0h160v-160H620v160Z\"/>\n",
              "  </svg>\n",
              "    </button>\n",
              "\n",
              "  <style>\n",
              "    .colab-df-container {\n",
              "      display:flex;\n",
              "      gap: 12px;\n",
              "    }\n",
              "\n",
              "    .colab-df-convert {\n",
              "      background-color: #E8F0FE;\n",
              "      border: none;\n",
              "      border-radius: 50%;\n",
              "      cursor: pointer;\n",
              "      display: none;\n",
              "      fill: #1967D2;\n",
              "      height: 32px;\n",
              "      padding: 0 0 0 0;\n",
              "      width: 32px;\n",
              "    }\n",
              "\n",
              "    .colab-df-convert:hover {\n",
              "      background-color: #E2EBFA;\n",
              "      box-shadow: 0px 1px 2px rgba(60, 64, 67, 0.3), 0px 1px 3px 1px rgba(60, 64, 67, 0.15);\n",
              "      fill: #174EA6;\n",
              "    }\n",
              "\n",
              "    .colab-df-buttons div {\n",
              "      margin-bottom: 4px;\n",
              "    }\n",
              "\n",
              "    [theme=dark] .colab-df-convert {\n",
              "      background-color: #3B4455;\n",
              "      fill: #D2E3FC;\n",
              "    }\n",
              "\n",
              "    [theme=dark] .colab-df-convert:hover {\n",
              "      background-color: #434B5C;\n",
              "      box-shadow: 0px 1px 3px 1px rgba(0, 0, 0, 0.15);\n",
              "      filter: drop-shadow(0px 1px 2px rgba(0, 0, 0, 0.3));\n",
              "      fill: #FFFFFF;\n",
              "    }\n",
              "  </style>\n",
              "\n",
              "    <script>\n",
              "      const buttonEl =\n",
              "        document.querySelector('#df-75c44956-cd15-4205-9268-1f9d832dfcac button.colab-df-convert');\n",
              "      buttonEl.style.display =\n",
              "        google.colab.kernel.accessAllowed ? 'block' : 'none';\n",
              "\n",
              "      async function convertToInteractive(key) {\n",
              "        const element = document.querySelector('#df-75c44956-cd15-4205-9268-1f9d832dfcac');\n",
              "        const dataTable =\n",
              "          await google.colab.kernel.invokeFunction('convertToInteractive',\n",
              "                                                    [key], {});\n",
              "        if (!dataTable) return;\n",
              "\n",
              "        const docLinkHtml = 'Like what you see? Visit the ' +\n",
              "          '<a target=\"_blank\" href=https://colab.research.google.com/notebooks/data_table.ipynb>data table notebook</a>'\n",
              "          + ' to learn more about interactive tables.';\n",
              "        element.innerHTML = '';\n",
              "        dataTable['output_type'] = 'display_data';\n",
              "        await google.colab.output.renderOutput(dataTable, element);\n",
              "        const docLink = document.createElement('div');\n",
              "        docLink.innerHTML = docLinkHtml;\n",
              "        element.appendChild(docLink);\n",
              "      }\n",
              "    </script>\n",
              "  </div>\n",
              "\n",
              "\n",
              "    <div id=\"df-5ce19bf6-d095-48fa-8f50-29c2788cdfea\">\n",
              "      <button class=\"colab-df-quickchart\" onclick=\"quickchart('df-5ce19bf6-d095-48fa-8f50-29c2788cdfea')\"\n",
              "                title=\"Suggest charts\"\n",
              "                style=\"display:none;\">\n",
              "\n",
              "<svg xmlns=\"http://www.w3.org/2000/svg\" height=\"24px\"viewBox=\"0 0 24 24\"\n",
              "     width=\"24px\">\n",
              "    <g>\n",
              "        <path d=\"M19 3H5c-1.1 0-2 .9-2 2v14c0 1.1.9 2 2 2h14c1.1 0 2-.9 2-2V5c0-1.1-.9-2-2-2zM9 17H7v-7h2v7zm4 0h-2V7h2v10zm4 0h-2v-4h2v4z\"/>\n",
              "    </g>\n",
              "</svg>\n",
              "      </button>\n",
              "\n",
              "<style>\n",
              "  .colab-df-quickchart {\n",
              "      --bg-color: #E8F0FE;\n",
              "      --fill-color: #1967D2;\n",
              "      --hover-bg-color: #E2EBFA;\n",
              "      --hover-fill-color: #174EA6;\n",
              "      --disabled-fill-color: #AAA;\n",
              "      --disabled-bg-color: #DDD;\n",
              "  }\n",
              "\n",
              "  [theme=dark] .colab-df-quickchart {\n",
              "      --bg-color: #3B4455;\n",
              "      --fill-color: #D2E3FC;\n",
              "      --hover-bg-color: #434B5C;\n",
              "      --hover-fill-color: #FFFFFF;\n",
              "      --disabled-bg-color: #3B4455;\n",
              "      --disabled-fill-color: #666;\n",
              "  }\n",
              "\n",
              "  .colab-df-quickchart {\n",
              "    background-color: var(--bg-color);\n",
              "    border: none;\n",
              "    border-radius: 50%;\n",
              "    cursor: pointer;\n",
              "    display: none;\n",
              "    fill: var(--fill-color);\n",
              "    height: 32px;\n",
              "    padding: 0;\n",
              "    width: 32px;\n",
              "  }\n",
              "\n",
              "  .colab-df-quickchart:hover {\n",
              "    background-color: var(--hover-bg-color);\n",
              "    box-shadow: 0 1px 2px rgba(60, 64, 67, 0.3), 0 1px 3px 1px rgba(60, 64, 67, 0.15);\n",
              "    fill: var(--button-hover-fill-color);\n",
              "  }\n",
              "\n",
              "  .colab-df-quickchart-complete:disabled,\n",
              "  .colab-df-quickchart-complete:disabled:hover {\n",
              "    background-color: var(--disabled-bg-color);\n",
              "    fill: var(--disabled-fill-color);\n",
              "    box-shadow: none;\n",
              "  }\n",
              "\n",
              "  .colab-df-spinner {\n",
              "    border: 2px solid var(--fill-color);\n",
              "    border-color: transparent;\n",
              "    border-bottom-color: var(--fill-color);\n",
              "    animation:\n",
              "      spin 1s steps(1) infinite;\n",
              "  }\n",
              "\n",
              "  @keyframes spin {\n",
              "    0% {\n",
              "      border-color: transparent;\n",
              "      border-bottom-color: var(--fill-color);\n",
              "      border-left-color: var(--fill-color);\n",
              "    }\n",
              "    20% {\n",
              "      border-color: transparent;\n",
              "      border-left-color: var(--fill-color);\n",
              "      border-top-color: var(--fill-color);\n",
              "    }\n",
              "    30% {\n",
              "      border-color: transparent;\n",
              "      border-left-color: var(--fill-color);\n",
              "      border-top-color: var(--fill-color);\n",
              "      border-right-color: var(--fill-color);\n",
              "    }\n",
              "    40% {\n",
              "      border-color: transparent;\n",
              "      border-right-color: var(--fill-color);\n",
              "      border-top-color: var(--fill-color);\n",
              "    }\n",
              "    60% {\n",
              "      border-color: transparent;\n",
              "      border-right-color: var(--fill-color);\n",
              "    }\n",
              "    80% {\n",
              "      border-color: transparent;\n",
              "      border-right-color: var(--fill-color);\n",
              "      border-bottom-color: var(--fill-color);\n",
              "    }\n",
              "    90% {\n",
              "      border-color: transparent;\n",
              "      border-bottom-color: var(--fill-color);\n",
              "    }\n",
              "  }\n",
              "</style>\n",
              "\n",
              "      <script>\n",
              "        async function quickchart(key) {\n",
              "          const quickchartButtonEl =\n",
              "            document.querySelector('#' + key + ' button');\n",
              "          quickchartButtonEl.disabled = true;  // To prevent multiple clicks.\n",
              "          quickchartButtonEl.classList.add('colab-df-spinner');\n",
              "          try {\n",
              "            const charts = await google.colab.kernel.invokeFunction(\n",
              "                'suggestCharts', [key], {});\n",
              "          } catch (error) {\n",
              "            console.error('Error during call to suggestCharts:', error);\n",
              "          }\n",
              "          quickchartButtonEl.classList.remove('colab-df-spinner');\n",
              "          quickchartButtonEl.classList.add('colab-df-quickchart-complete');\n",
              "        }\n",
              "        (() => {\n",
              "          let quickchartButtonEl =\n",
              "            document.querySelector('#df-5ce19bf6-d095-48fa-8f50-29c2788cdfea button');\n",
              "          quickchartButtonEl.style.display =\n",
              "            google.colab.kernel.accessAllowed ? 'block' : 'none';\n",
              "        })();\n",
              "      </script>\n",
              "    </div>\n",
              "    </div>\n",
              "  </div>\n"
            ],
            "application/vnd.google.colaboratory.intrinsic+json": {
              "type": "dataframe",
              "variable_name": "VIF",
              "summary": "{\n  \"name\": \"VIF\",\n  \"rows\": 13,\n  \"fields\": [\n    {\n      \"column\": \"feature\",\n      \"properties\": {\n        \"dtype\": \"string\",\n        \"num_unique_values\": 13,\n        \"samples\": [\n          \"locality_dist\",\n          \"road_dist\",\n          \"t_mean\"\n        ],\n        \"semantic_type\": \"\",\n        \"description\": \"\"\n      }\n    },\n    {\n      \"column\": \"VIF\",\n      \"properties\": {\n        \"dtype\": \"number\",\n        \"std\": 1.2573868704467623,\n        \"min\": 1.0095199671267157,\n        \"max\": 5.1276527501377585,\n        \"num_unique_values\": 13,\n        \"samples\": [\n          1.4411666799776788,\n          1.5024469569663854,\n          3.428429960328156\n        ],\n        \"semantic_type\": \"\",\n        \"description\": \"\"\n      }\n    }\n  ]\n}"
            }
          },
          "metadata": {},
          "execution_count": 45
        }
      ],
      "source": [
        "train_ds_vif = train_ds_.loc[:, ~train_ds_.columns.isin([\"is_fire\", \"event_date\"])]\n",
        "VIF = pd.DataFrame()\n",
        "VIF[\"feature\"] = list(train_ds_vif.columns)\n",
        "VIF[\"VIF\"] = [variance_inflation_factor(train_ds_vif.values, i) for i in range(train_ds_vif.shape[1])]\n",
        "VIF"
      ]
    },
    {
      "cell_type": "code",
      "execution_count": 46,
      "metadata": {
        "colab": {
          "base_uri": "https://localhost:8080/",
          "height": 899
        },
        "id": "hAEfnV__E-nz",
        "outputId": "feb750e0-7afb-4604-d392-6dd7fb39d103"
      },
      "outputs": [
        {
          "output_type": "execute_result",
          "data": {
            "text/plain": [
              "(     t_mean  wind_speed_mean   rh_mean  apcp_mean  wind_dir_std  soilw10_mean  \\\n",
              " 0 -1.402096         1.398805  1.230234   0.792060     -0.510173      1.761887   \n",
              " 1 -2.172439         1.055112  1.218934   0.697712      0.366810      0.459299   \n",
              " 2 -1.859113         0.940547  1.158666   0.093886     -0.033866      1.525053   \n",
              " 3 -0.614052         4.377482 -0.148403  -0.585419     -0.782845      1.761887   \n",
              " 4 -1.952891         0.482290  1.231490   0.056146     -0.656463      1.761887   \n",
              " \n",
              "    elevation     slope    aspect  road_dist  river_dist  locality_dist  \\\n",
              " 0   0.104126 -0.575298  0.020310  -0.119628   -0.039831      -0.335354   \n",
              " 1  -0.603039 -0.730377  0.150135   2.615564   -0.142636      -0.073070   \n",
              " 2   0.685261  1.821564  1.398652   0.157983   -0.876581       0.938513   \n",
              " 3   0.503219  1.520277  1.528360  -0.793166    2.769690      -0.848137   \n",
              " 4  -1.128161 -0.537271 -0.385365  -1.013322    1.098218      -0.170857   \n",
              " \n",
              "    vegetation_type  \n",
              " 0               11  \n",
              " 1               18  \n",
              " 2               12  \n",
              " 3               17  \n",
              " 4               12  ,\n",
              " 0    0\n",
              " 1    0\n",
              " 2    0\n",
              " 3    0\n",
              " 4    0\n",
              " Name: is_fire, dtype: int64,\n",
              " <Axes: >)"
            ]
          },
          "metadata": {},
          "execution_count": 46
        },
        {
          "output_type": "display_data",
          "data": {
            "text/plain": [
              "<Figure size 640x480 with 1 Axes>"
            ],
            "image/png": "[encoded data removed]"
          },
          "metadata": {}
        }
      ],
      "source": [
        "features = train_ds_.loc[:, ~train_ds_.columns.isin([\"is_fire\", \"event_date\"])]\n",
        "target = train_ds_[\"is_fire\"]\n",
        "features = features.reset_index(drop=True)\n",
        "target = target.reset_index(drop=True)\n",
        "features.head(5), target.head(5), target.hist()"
      ]
    },
    {
      "cell_type": "code",
      "execution_count": 47,
      "metadata": {
        "colab": {
          "base_uri": "https://localhost:8080/"
        },
        "id": "jJXbmN0dHynT",
        "outputId": "b6df4a6b-453f-40ae-ed42-f492c6e2ac99"
      },
      "outputs": [
        {
          "output_type": "execute_result",
          "data": {
            "text/plain": [
              "(Index(['t_mean', 'wind_speed_mean', 'rh_mean', 'apcp_mean', 'wind_dir_std',\n",
              "        'soilw10_mean', 'elevation', 'slope', 'aspect', 'road_dist',\n",
              "        'river_dist', 'locality_dist', 'vegetation_type'],\n",
              "       dtype='object'),)"
            ]
          },
          "metadata": {},
          "execution_count": 47
        }
      ],
      "source": [
        "# lets test if vegetation type normalization works\n",
        "\n",
        "# # plt.hist(features.vegetation_type)\n",
        "# sc = MinMaxScaler()\n",
        "# vt = features.vegetation_type.to_numpy().reshape(-1, 1)\n",
        "# tr = sc.fit_transform(vt).reshape(1, -1)[0]\n",
        "# transform_ = tr\n",
        "\n",
        "# transform_ = scipy.special.boxcox1p(tr, 3)\n",
        "# print(transform_)\n",
        "# plt.hist(transform_)\n",
        "\n",
        "# normalize vegetation_type\n",
        "vt = features.vegetation_type\n",
        "transform_ = (vt - vt.mean()) / vt.std()\n",
        "# transform_ = vt\n",
        "\n",
        "features_ex = features.copy()\n",
        "features_ex.vegetation_type = transform_\n",
        "features_ex.columns, #features_ex.vegetation_type"
      ]
    },
    {
      "cell_type": "code",
      "execution_count": 48,
      "metadata": {
        "id": "NbVMucd-T44p"
      },
      "outputs": [],
      "source": [
        "# randomly permute train dataset if needed\n",
        "# rand_idx = np.random.permutation(len(features_ex))\n",
        "# print(rand_idx)\n",
        "# # Carefull !!! iloc, that doesn't mean that the index will correspond, check if it's the RangeIndex or not\n",
        "# features_ex = features_ex.iloc[rand_idx]\n",
        "# target = target.iloc[rand_idx]"
      ]
    },
    {
      "cell_type": "code",
      "execution_count": 49,
      "metadata": {
        "colab": {
          "base_uri": "https://localhost:8080/"
        },
        "id": "Vj_pMatQadSh",
        "outputId": "165b5e69-c7e6-4651-fec7-4cbd35da77f1"
      },
      "outputs": [
        {
          "output_type": "execute_result",
          "data": {
            "text/plain": [
              "(         t_mean  wind_speed_mean   rh_mean  apcp_mean  wind_dir_std  \\\n",
              " 0     -1.402096         1.398805  1.230234   0.792060     -0.510173   \n",
              " 1     -2.172439         1.055112  1.218934   0.697712      0.366810   \n",
              " 2     -1.859113         0.940547  1.158666   0.093886     -0.033866   \n",
              " 3     -0.614052         4.377482 -0.148403  -0.585419     -0.782845   \n",
              " 4     -1.952891         0.482290  1.231490   0.056146     -0.656463   \n",
              " ...         ...              ...       ...        ...           ...   \n",
              " 15528 -0.647144         2.014589  0.544055  -0.321245     -0.654007   \n",
              " 15529 -0.957612        -1.078651  0.044330  -0.623158      1.277295   \n",
              " 15530 -1.437606        -1.393704  0.452397  -0.601593      1.837182   \n",
              " 15531 -1.296444        -0.434226  0.640107  -0.601593      2.157542   \n",
              " 15532 -0.768407        -0.563111  0.185584  -0.623158      1.890655   \n",
              " \n",
              "        soilw10_mean  elevation     slope    aspect  road_dist  river_dist  \\\n",
              " 0          1.761887   0.104126 -0.575298  0.020310  -0.119628   -0.039831   \n",
              " 1          0.459299  -0.603039 -0.730377  0.150135   2.615564   -0.142636   \n",
              " 2          1.525053   0.685261  1.821564  1.398652   0.157983   -0.876581   \n",
              " 3          1.761887   0.503219  1.520277  1.528360  -0.793166    2.769690   \n",
              " 4          1.761887  -1.128161 -0.537271 -0.385365  -1.013322    1.098218   \n",
              " ...             ...        ...       ...       ...        ...         ...   \n",
              " 15528      0.725738  -0.295356  0.037399 -0.542111  -0.820305    2.228764   \n",
              " 15529      0.030038   0.026014 -0.184571 -0.161784  -0.944311   -0.059688   \n",
              " 15530      0.814550   0.867303 -0.539207  0.084963  -0.316172    0.806401   \n",
              " 15531      0.681331  -0.509100 -0.438116 -0.219297  -0.669321    0.507018   \n",
              " 15532      0.651727  -0.484011 -0.971053 -1.212565  -0.687906   -0.109376   \n",
              " \n",
              "        locality_dist  vegetation_type  \n",
              " 0          -0.335354        -0.442446  \n",
              " 1          -0.073070         0.899954  \n",
              " 2           0.938513        -0.250674  \n",
              " 3          -0.848137         0.708183  \n",
              " 4          -0.170857        -0.250674  \n",
              " ...              ...              ...  \n",
              " 15528      -0.412028        -0.442446  \n",
              " 15529      -1.047701         0.324640  \n",
              " 15530      -0.637776        -1.401303  \n",
              " 15531      -0.161473        -0.250674  \n",
              " 15532      -0.436390        -0.634217  \n",
              " \n",
              " [15533 rows x 13 columns],\n",
              " 0        0\n",
              " 1        0\n",
              " 2        0\n",
              " 3        0\n",
              " 4        0\n",
              "         ..\n",
              " 15528    1\n",
              " 15529    1\n",
              " 15530    0\n",
              " 15531    1\n",
              " 15532    0\n",
              " Name: is_fire, Length: 15533, dtype: int64)"
            ]
          },
          "metadata": {},
          "execution_count": 49
        }
      ],
      "source": [
        "features_ex, target"
      ]
    },
    {
      "cell_type": "code",
      "execution_count": 50,
      "metadata": {
        "colab": {
          "base_uri": "https://localhost:8080/",
          "height": 934
        },
        "id": "0m03VDYS0Hh6",
        "outputId": "3efa3265-62c5-4c9e-ba9c-a57489b77f93"
      },
      "outputs": [
        {
          "output_type": "execute_result",
          "data": {
            "text/plain": [
              "(     t_mean  wind_speed_mean   rh_mean  apcp_mean  wind_dir_std  soilw10_mean  \\\n",
              " 0 -1.402096         1.398805  1.230234   0.792060     -0.510173      1.761887   \n",
              " 1 -2.172439         1.055112  1.218934   0.697712      0.366810      0.459299   \n",
              " 2 -1.859113         0.940547  1.158666   0.093886     -0.033866      1.525053   \n",
              " 3 -0.614052         4.377482 -0.148403  -0.585419     -0.782845      1.761887   \n",
              " 4 -1.952891         0.482290  1.231490   0.056146     -0.656463      1.761887   \n",
              " \n",
              "    elevation     slope    aspect  road_dist  river_dist  locality_dist  \\\n",
              " 0   0.104126 -0.575298  0.020310  -0.119628   -0.039831      -0.335354   \n",
              " 1  -0.603039 -0.730377  0.150135   2.615564   -0.142636      -0.073070   \n",
              " 2   0.685261  1.821564  1.398652   0.157983   -0.876581       0.938513   \n",
              " 3   0.503219  1.520277  1.528360  -0.793166    2.769690      -0.848137   \n",
              " 4  -1.128161 -0.537271 -0.385365  -1.013322    1.098218      -0.170857   \n",
              " \n",
              "    vegetation_type  \n",
              " 0        -0.442446  \n",
              " 1         0.899954  \n",
              " 2        -0.250674  \n",
              " 3         0.708183  \n",
              " 4        -0.250674  ,\n",
              " 0    0\n",
              " 1    0\n",
              " 2    0\n",
              " 3    0\n",
              " 4    0\n",
              " Name: is_fire, dtype: int64,\n",
              " (15533, 13),\n",
              " (15533,),\n",
              " <Axes: >)"
            ]
          },
          "metadata": {},
          "execution_count": 50
        },
        {
          "output_type": "display_data",
          "data": {
            "text/plain": [
              "<Figure size 640x480 with 1 Axes>"
            ],
            "image/png": "[encoded data removed]"
          },
          "metadata": {}
        }
      ],
      "source": [
        "# X_train_ds, X_val_ds, y_train_ds, y_val_ds = train_test_split(features_ex, target, test_size=0.1, random_state=4)\n",
        "X_train_ds = features_ex.copy()\n",
        "y_train_ds = target.copy()\n",
        "X_train_ds.head(5), y_train_ds.head(5), X_train_ds.shape, y_train_ds.shape, y_train_ds.hist()"
      ]
    },
    {
      "cell_type": "markdown",
      "metadata": {
        "id": "qnewxDinO_Ut"
      },
      "source": [
        "Prepare the test dataset so that it corresponds to the train ds"
      ]
    },
    {
      "cell_type": "code",
      "execution_count": 51,
      "metadata": {
        "colab": {
          "base_uri": "https://localhost:8080/",
          "height": 882
        },
        "id": "QLCNcuXg0Hh_",
        "outputId": "e090c61b-3c37-407e-da2d-42ec32c718d3"
      },
      "outputs": [
        {
          "output_type": "stream",
          "name": "stdout",
          "text": [
            "Is the X train and X test columns order equal? True\n",
            "The target name: is_fire\n",
            "     t_mean  wind_speed_mean   rh_mean  apcp_mean  wind_dir_std  soilw10_mean  \\\n",
            "0 -1.982983         1.651980  0.946560  -0.422448     -1.355052      0.713305   \n",
            "1 -1.497209         0.109445  0.978408  -0.283478     -0.651410      1.139386   \n",
            "\n",
            "   elevation     slope    aspect  road_dist  river_dist  locality_dist  \\\n",
            "0   5.225032  3.599040 -0.828978   0.235872   -0.469630      -0.695104   \n",
            "1   0.754283  1.210331  1.390761  -0.743702   -0.655799      -0.808686   \n",
            "\n",
            "   vegetation_type  \n",
            "0         1.436138  \n",
            "1         0.815579  \n",
            "0       0\n",
            "1       0\n",
            "2       0\n",
            "3       0\n",
            "4       0\n",
            "       ..\n",
            "1551    0\n",
            "1552    0\n",
            "1553    0\n",
            "1554    0\n",
            "1555    0\n",
            "Name: is_fire, Length: 1556, dtype: int64\n"
          ]
        },
        {
          "output_type": "execute_result",
          "data": {
            "text/plain": [
              "<Axes: >"
            ]
          },
          "metadata": {},
          "execution_count": 51
        },
        {
          "output_type": "display_data",
          "data": {
            "text/plain": [
              "<Figure size 640x480 with 1 Axes>"
            ],
            "image/png": "[encoded data removed]"
          },
          "metadata": {}
        }
      ],
      "source": [
        "# prepare the test dataset\n",
        "\n",
        "target_col = target.name\n",
        "train_ds_cols = X_train_ds.columns.to_list() + [target_col]\n",
        "test_ds_ = test_ds.loc[:, test_ds.columns.isin(train_ds_cols)]\n",
        "# print(test_ds_.columns) #, test_ds_.head(1))\n",
        "# test_ds_.is_fire.hist()\n",
        "\n",
        "X_test_ds = test_ds_.loc[:, ~test_ds_.columns.isin([target_col])]\n",
        "# # arrange X_test_ds so that its columns order corresponds to the X_train_ds (carefull! pd.DataFrame)\n",
        "X_test_ds = X_test_ds.reindex(X_train_ds.columns, axis=\"columns\")\n",
        "# # assert that no NaN columns appeared after the reindex\n",
        "assert X_test_ds.isnull().sum().sum() == 0\n",
        "y_test_ds = test_ds_.loc[:, target_col]\n",
        "print(\"Is the X train and X test columns order equal?\", (X_train_ds.columns == X_test_ds.columns).all(), )\n",
        "print(\"The target name:\", y_test_ds.name)\n",
        "# print(X_train_ds.head(2), X_test_ds.head(2), sep=\"\\n\")\n",
        "\n",
        "# normalize X_test using z-score (like X_train)\n",
        "# print(\"*\" * 100, \"Normalizing the test dataset\", sep=\"\\n\")\n",
        "X_test_ds = (X_test_ds - X_test_ds.mean()) / X_test_ds.std()\n",
        "print(X_test_ds.head(2), y_test_ds, sep=\"\\n\")\n",
        "y_test_ds.hist()"
      ]
    },
    {
      "cell_type": "code",
      "execution_count": 52,
      "metadata": {
        "colab": {
          "base_uri": "https://localhost:8080/"
        },
        "id": "oR1Xlw_ePD6y",
        "outputId": "f900531c-351a-4b20-a002-7d02041925f3"
      },
      "outputs": [
        {
          "output_type": "execute_result",
          "data": {
            "text/plain": [
              "((15533, 13),\n",
              "          t_mean  wind_speed_mean   rh_mean  apcp_mean  wind_dir_std  \\\n",
              " 0     -1.402096         1.398805  1.230234   0.792060     -0.510173   \n",
              " 1     -2.172439         1.055112  1.218934   0.697712      0.366810   \n",
              " 2     -1.859113         0.940547  1.158666   0.093886     -0.033866   \n",
              " 3     -0.614052         4.377482 -0.148403  -0.585419     -0.782845   \n",
              " 4     -1.952891         0.482290  1.231490   0.056146     -0.656463   \n",
              " ...         ...              ...       ...        ...           ...   \n",
              " 15528 -0.647144         2.014589  0.544055  -0.321245     -0.654007   \n",
              " 15529 -0.957612        -1.078651  0.044330  -0.623158      1.277295   \n",
              " 15530 -1.437606        -1.393704  0.452397  -0.601593      1.837182   \n",
              " 15531 -1.296444        -0.434226  0.640107  -0.601593      2.157542   \n",
              " 15532 -0.768407        -0.563111  0.185584  -0.623158      1.890655   \n",
              " \n",
              "        soilw10_mean  elevation     slope    aspect  road_dist  river_dist  \\\n",
              " 0          1.761887   0.104126 -0.575298  0.020310  -0.119628   -0.039831   \n",
              " 1          0.459299  -0.603039 -0.730377  0.150135   2.615564   -0.142636   \n",
              " 2          1.525053   0.685261  1.821564  1.398652   0.157983   -0.876581   \n",
              " 3          1.761887   0.503219  1.520277  1.528360  -0.793166    2.769690   \n",
              " 4          1.761887  -1.128161 -0.537271 -0.385365  -1.013322    1.098218   \n",
              " ...             ...        ...       ...       ...        ...         ...   \n",
              " 15528      0.725738  -0.295356  0.037399 -0.542111  -0.820305    2.228764   \n",
              " 15529      0.030038   0.026014 -0.184571 -0.161784  -0.944311   -0.059688   \n",
              " 15530      0.814550   0.867303 -0.539207  0.084963  -0.316172    0.806401   \n",
              " 15531      0.681331  -0.509100 -0.438116 -0.219297  -0.669321    0.507018   \n",
              " 15532      0.651727  -0.484011 -0.971053 -1.212565  -0.687906   -0.109376   \n",
              " \n",
              "        locality_dist  vegetation_type  event_date  is_fire  \n",
              " 0          -0.335354               11  2015-03-01        0  \n",
              " 1          -0.073070               18  2015-03-01        0  \n",
              " 2           0.938513               12  2015-03-01        0  \n",
              " 3          -0.848137               17  2015-03-01        0  \n",
              " 4          -0.170857               12  2015-03-01        0  \n",
              " ...              ...              ...         ...      ...  \n",
              " 15528      -0.412028               11  2023-10-28        1  \n",
              " 15529      -1.047701               15  2023-10-30        1  \n",
              " 15530      -0.637776                6  2023-10-31        0  \n",
              " 15531      -0.161473               12  2023-10-31        1  \n",
              " 15532      -0.436390               10  2023-10-31        0  \n",
              " \n",
              " [15533 rows x 15 columns])"
            ]
          },
          "metadata": {},
          "execution_count": 52
        }
      ],
      "source": [
        "X_train_ds.shape, train_ds_"
      ]
    },
    {
      "cell_type": "code",
      "execution_count": 53,
      "metadata": {
        "colab": {
          "base_uri": "https://localhost:8080/"
        },
        "id": "_fkDonaNMnzZ",
        "outputId": "5967aadc-77b7-4563-d695-cf3cb3050889"
      },
      "outputs": [
        {
          "output_type": "stream",
          "name": "stdout",
          "text": [
            "0 0\n"
          ]
        },
        {
          "output_type": "execute_result",
          "data": {
            "text/plain": [
              "(np.True_, np.True_)"
            ]
          },
          "metadata": {},
          "execution_count": 53
        }
      ],
      "source": [
        "X_train_ds = X_train_ds.join(train_ds_[\"event_date\"])\n",
        "X_test_ds = X_test_ds.join(test_ds[\"event_date\"])\n",
        "print(X_train_ds.event_date.isnull().sum(), X_test_ds.event_date.isnull().sum())\n",
        "X_train_ds.index.duplicated().sum() == 0, X_test_ds.index.duplicated().sum() == 0,"
      ]
    },
    {
      "cell_type": "code",
      "execution_count": 54,
      "metadata": {
        "id": "W5_54FW6YOXT"
      },
      "outputs": [],
      "source": [
        "# permute the test dataset\n",
        "# rand_idx_test = np.random.permutation(len(X_test_ds))\n",
        "# X_test_ds = X_test_ds.iloc[rand_idx_test]\n",
        "# y_test_ds = y_test_ds.iloc[rand_idx_test]"
      ]
    },
    {
      "cell_type": "code",
      "execution_count": 55,
      "metadata": {
        "colab": {
          "base_uri": "https://localhost:8080/"
        },
        "id": "Mz3M2beWM_1Y",
        "outputId": "2f12f6d3-97aa-4896-a700-1255e8778ac8"
      },
      "outputs": [
        {
          "output_type": "execute_result",
          "data": {
            "text/plain": [
              "(     t_mean  wind_speed_mean   rh_mean  apcp_mean  wind_dir_std  soilw10_mean  \\\n",
              " 0 -1.402096         1.398805  1.230234   0.792060     -0.510173      1.761887   \n",
              " 1 -2.172439         1.055112  1.218934   0.697712      0.366810      0.459299   \n",
              " 2 -1.859113         0.940547  1.158666   0.093886     -0.033866      1.525053   \n",
              " 3 -0.614052         4.377482 -0.148403  -0.585419     -0.782845      1.761887   \n",
              " 4 -1.952891         0.482290  1.231490   0.056146     -0.656463      1.761887   \n",
              " \n",
              "    elevation     slope    aspect  road_dist  river_dist  locality_dist  \\\n",
              " 0   0.104126 -0.575298  0.020310  -0.119628   -0.039831      -0.335354   \n",
              " 1  -0.603039 -0.730377  0.150135   2.615564   -0.142636      -0.073070   \n",
              " 2   0.685261  1.821564  1.398652   0.157983   -0.876581       0.938513   \n",
              " 3   0.503219  1.520277  1.528360  -0.793166    2.769690      -0.848137   \n",
              " 4  -1.128161 -0.537271 -0.385365  -1.013322    1.098218      -0.170857   \n",
              " \n",
              "    vegetation_type  event_date  \n",
              " 0        -0.442446  2015-03-01  \n",
              " 1         0.899954  2015-03-01  \n",
              " 2        -0.250674  2015-03-01  \n",
              " 3         0.708183  2015-03-01  \n",
              " 4        -0.250674  2015-03-01  ,\n",
              " 0    0\n",
              " 1    0\n",
              " 2    0\n",
              " 3    0\n",
              " 4    0\n",
              " Name: is_fire, dtype: int64)"
            ]
          },
          "metadata": {},
          "execution_count": 55
        }
      ],
      "source": [
        "X_train_ds.head(5), y_train_ds.head(5)"
      ]
    },
    {
      "cell_type": "code",
      "execution_count": 56,
      "metadata": {
        "colab": {
          "base_uri": "https://localhost:8080/"
        },
        "id": "h883rYBia3WZ",
        "outputId": "68fd765b-3ff3-407a-e62d-a597c1d20621"
      },
      "outputs": [
        {
          "output_type": "execute_result",
          "data": {
            "text/plain": [
              "(     t_mean  wind_speed_mean   rh_mean  apcp_mean  wind_dir_std  soilw10_mean  \\\n",
              " 0 -1.982983         1.651980  0.946560  -0.422448     -1.355052      0.713305   \n",
              " 1 -1.497209         0.109445  0.978408  -0.283478     -0.651410      1.139386   \n",
              " 2 -1.679532         1.108420  1.049597   0.034168     -0.380244      1.139386   \n",
              " 3 -1.661299         0.432643  1.082694   0.173139     -0.466278      1.032866   \n",
              " 4 -1.551382         0.212280  1.007758  -0.144508     -0.724264      0.926345   \n",
              " \n",
              "    elevation     slope    aspect  road_dist  river_dist  locality_dist  \\\n",
              " 0   5.225032  3.599040 -0.828978   0.235872   -0.469630      -0.695104   \n",
              " 1   0.754283  1.210331  1.390761  -0.743702   -0.655799      -0.808686   \n",
              " 2  -0.480496 -0.877701  0.626070   2.061805    0.012679       0.316273   \n",
              " 3   0.541390  0.393388 -0.656251  -0.872888   -0.668769      -0.394442   \n",
              " 4   0.868917 -0.065738  1.328163  -0.403708   -0.716960       0.198078   \n",
              " \n",
              "    vegetation_type  event_date  \n",
              " 0         1.436138  2024-03-01  \n",
              " 1         0.815579  2024-03-01  \n",
              " 2         0.815579  2024-03-01  \n",
              " 3         0.815579  2024-03-01  \n",
              " 4         0.608727  2024-03-01  ,\n",
              " 0    0\n",
              " 1    0\n",
              " 2    0\n",
              " 3    0\n",
              " 4    0\n",
              " Name: is_fire, dtype: int64)"
            ]
          },
          "metadata": {},
          "execution_count": 56
        }
      ],
      "source": [
        "X_test_ds.head(5), y_test_ds.head(5)"
      ]
    },
    {
      "cell_type": "code",
      "execution_count": 57,
      "metadata": {
        "id": "U_44dwB-NKsm"
      },
      "outputs": [],
      "source": [
        "# https://www.kaggle.com/code/szaitseff/classification-of-time-series-with-lstm-rnn/notebook\n",
        "# time window for the net is 100 records (not days because the last 100 days may repeat because of the different coordinates)\n",
        "time_window = 100"
      ]
    },
    {
      "cell_type": "code",
      "execution_count": 58,
      "metadata": {
        "id": "Y0uhg01QNKqW"
      },
      "outputs": [],
      "source": [
        "X_train_ds[\"event_date\"] = pd.to_datetime(X_train_ds[\"event_date\"])\n",
        "X_test_ds[\"event_date\"] = pd.to_datetime(X_test_ds[\"event_date\"])"
      ]
    },
    {
      "cell_type": "code",
      "execution_count": 59,
      "metadata": {
        "colab": {
          "base_uri": "https://localhost:8080/"
        },
        "id": "e7B-ItEaNKn4",
        "outputId": "30466b43-d8ab-47bb-9213-b40e31fb9aa0"
      },
      "outputs": [
        {
          "output_type": "stream",
          "name": "stdout",
          "text": [
            "294 253\n"
          ]
        }
      ],
      "source": [
        "train_start_idx = X_train_ds[X_train_ds[\"event_date\"].dt.month == 4].index[0]\n",
        "test_start_idx = X_test_ds[X_test_ds[\"event_date\"].dt.month == 4].index[0]\n",
        "print(train_start_idx, test_start_idx)"
      ]
    },
    {
      "cell_type": "code",
      "execution_count": 60,
      "metadata": {
        "colab": {
          "base_uri": "https://localhost:8080/"
        },
        "id": "s5Dia5Pgu8KU",
        "outputId": "6cd283f2-a54a-4561-9438-003883835157"
      },
      "outputs": [
        {
          "output_type": "execute_result",
          "data": {
            "text/plain": [
              "((15533, 14), 15533, (1556, 14), 1556)"
            ]
          },
          "metadata": {},
          "execution_count": 60
        }
      ],
      "source": [
        "X_train_ds.shape, len(X_train_ds), X_test_ds.shape, len(X_test_ds)"
      ]
    },
    {
      "cell_type": "code",
      "execution_count": 61,
      "metadata": {
        "colab": {
          "base_uri": "https://localhost:8080/"
        },
        "id": "nx1cPRX7xJa-",
        "outputId": "0ff45430-9e64-474f-8cb6-b32b05e70e8d"
      },
      "outputs": [
        {
          "output_type": "execute_result",
          "data": {
            "text/plain": [
              "((15533, 13), 15533, (1556, 13), 1556)"
            ]
          },
          "metadata": {},
          "execution_count": 61
        }
      ],
      "source": [
        "X_train_ds = X_train_ds.loc[:, ~X_train_ds.columns.isin([\"event_date\"])]\n",
        "X_test_ds = X_test_ds.loc[:, ~X_test_ds.columns.isin([\"event_date\"])]\n",
        "X_train_ds.shape, len(X_train_ds), X_test_ds.shape, len(X_test_ds)"
      ]
    },
    {
      "cell_type": "code",
      "execution_count": 62,
      "metadata": {
        "colab": {
          "base_uri": "https://localhost:8080/"
        },
        "id": "dmCS5o-Jugzk",
        "outputId": "5412bcc7-4fb8-4b73-f6c6-bd64d722482f"
      },
      "outputs": [
        {
          "output_type": "stream",
          "name": "stdout",
          "text": [
            "Train shape features: (15239, 101, 13), target: (15239, 1)\n"
          ]
        }
      ],
      "source": [
        "# prepare train\n",
        "X_train_l, y_train_l = [], []\n",
        "for i in range(train_start_idx, len(X_train_ds)):\n",
        "  x = X_train_ds.loc[i - time_window : i].values\n",
        "  y = y_train_ds.loc[i]\n",
        "  X_train_l.append(x)\n",
        "  y_train_l.append(y)\n",
        "\n",
        "X_train, y_train = np.array(X_train_l), np.array(y_train_l).reshape(-1, 1)\n",
        "print(f\"Train shape features: {X_train.shape}, target: {y_train.shape}\")"
      ]
    },
    {
      "cell_type": "code",
      "execution_count": 63,
      "metadata": {
        "colab": {
          "base_uri": "https://localhost:8080/"
        },
        "id": "pDsUmJHiugxF",
        "outputId": "b3e7a8c9-5ff0-4634-86c9-da7820cbaac8"
      },
      "outputs": [
        {
          "output_type": "stream",
          "name": "stdout",
          "text": [
            "Test shape features: (1303, 101, 13), target: (1303, 1)\n"
          ]
        }
      ],
      "source": [
        "# prepare test\n",
        "X_test_l, y_test_l = [], []\n",
        "for i in range(test_start_idx, len(X_test_ds)):\n",
        "  x = X_test_ds.loc[i - time_window : i].values\n",
        "  y = y_test_ds.loc[i]\n",
        "  X_test_l.append(x)\n",
        "  y_test_l.append(y)\n",
        "\n",
        "X_test, y_test = np.array(X_test_l), np.array(y_test_l).reshape(-1, 1)\n",
        "print(f\"Test shape features: {X_test.shape}, target: {y_test.shape}\")"
      ]
    },
    {
      "cell_type": "code",
      "execution_count": 63,
      "metadata": {
        "id": "660-SOUtugnY"
      },
      "outputs": [],
      "source": []
    },
    {
      "cell_type": "markdown",
      "metadata": {
        "id": "lbNukg-CXY6U"
      },
      "source": [
        "##### Build and train the model"
      ]
    },
    {
      "cell_type": "code",
      "execution_count": 64,
      "metadata": {
        "id": "zci5R0kuTBJh"
      },
      "outputs": [],
      "source": [
        "class ANNModel(keras_tuner.HyperModel):\n",
        "  \"\"\"\n",
        "  The hypermodel class that builds the tf.keras.Sequential model and tunes its hyperparameters\n",
        "  Params:\n",
        "  input_shape: tuple - the shape of the train dataset in the following form: (n, ), where n is the\n",
        "  number of train features\n",
        "  \"\"\"\n",
        "\n",
        "  def __init__(self, input_shape: tuple) -> None:\n",
        "    self.input_shape = input_shape\n",
        "\n",
        "\n",
        "  # def build_model(self, n_layers: int, n_units: int, learning_rate: float, ) -> tf.keras.Sequential:\n",
        "  # def build_model(self, hp, learning_rate: float, ):\n",
        "  def build_model(self, hp, n_layers: int, learning_rate: float, ) -> tf.keras.Sequential:\n",
        "    \"\"\"\n",
        "    Description: build the model with the defined parameters\n",
        "    Params: the model parameters we want to tune\n",
        "    Returns: tf.keras.Sequential model\n",
        "    \"\"\"\n",
        "\n",
        "    # print(f\"I'm in build_model and I have the following params: {n_layers, n_units, learning_rate}\")\n",
        "\n",
        "    model = Sequential()\n",
        "    # model.add(Input(self.input_shape))\n",
        "\n",
        "    # n_units_ = []\n",
        "    # for i in range(n_layers):\n",
        "    #   u = hp.Int(f\"units_{i}\", 32, 512, step=2, sampling=\"log\")\n",
        "    #   model.add(Dense(units=u, activation=\"relu\", bias_regularizer=rg.L2(0.01)))\n",
        "    #   # model.add(Dense(units=n_units, activation=\"relu\", bias_regularizer=rg.L2(0.01))) #, kernel_regularizer=rg.L2(0.01)))\n",
        "    #   n_units_ += [u]\n",
        "\n",
        "    # model.add(tf.keras.layers.TimeDistributed(tf.keras.layers.Flatten()))\n",
        "    model.add(Input(shape=self.input_shape))\n",
        "    # model.add(tf.keras.layers.LSTM(32, return_sequences=True))\n",
        "    # model.add(tf.keras.layers.LSTM(64))\n",
        "    # model.add(tf.keras.layers.LSTM(32,))\n",
        "\n",
        "    # u = hp.Int(f\"lstm_units\", 32, 512, step=2, sampling=\"log\")\n",
        "    u1 = hp.Int(f\"lstm_units\", 8, 64, step=2, sampling=\"log\")\n",
        "    # n_units_ = []\n",
        "    for i in range(n_layers):\n",
        "      # u = hp.Int(f\"lstm_units_{i}\", 32, 512, step=2, sampling=\"log\")\n",
        "      model.add(tf.keras.layers.LSTM(units=u1, return_sequences=True)) #, bias_regularizer=rg.L2(0.01)))\n",
        "      # model.add(Dense(units=n_units, activation=\"relu\", bias_regularizer=rg.L2(0.01))) #, kernel_regularizer=rg.L2(0.01)))\n",
        "      # n_units_ += [u]\n",
        "\n",
        "    model.add(tf.keras.layers.Flatten())\n",
        "\n",
        "    u2 = hp.Int(f\"dense_units\", 8, 1024, step=2, sampling=\"log\")\n",
        "    dense_layers = hp.Int(\"dense_layers\", min_value=1, max_value=12, step=1)\n",
        "    for i in range(dense_layers):\n",
        "      model.add(Dense(units=u2, activation=\"relu\", bias_regularizer=rg.L2(0.01)))\n",
        "\n",
        "\n",
        "    # model.add(Dense(512, activation=\"relu\", bias_regularizer=rg.L2(0.01)))\n",
        "    # model.add(Dense(256, activation=\"relu\", bias_regularizer=rg.L2(0.01)))\n",
        "    # model.add(Dense(128, activation=\"relu\", bias_regularizer=rg.L2(0.01)))\n",
        "    # model.add(Dense(64, activation=\"relu\", bias_regularizer=rg.L2(0.01)))\n",
        "    # model.add(Dense(32, activation=\"relu\", bias_regularizer=rg.L2(0.01)))\n",
        "    # model.add(Dense(8, activation=\"relu\", bias_regularizer=rg.L2(0.01)))\n",
        "\n",
        "    model.add(Dense(1, activation=\"sigmoid\"))\n",
        "    model.compile(\n",
        "        optimizer=tf.optimizers.Adam(learning_rate=learning_rate),\n",
        "        loss=\"binary_crossentropy\",\n",
        "        metrics=[\"accuracy\", \"f1_score\", tf.metrics.AUC()] #, \"precision\", \"recall\"])\n",
        "    )\n",
        "\n",
        "    print(f\"I'm in build_model and I have the following params: {learning_rate, n_layers, u1, dense_layers, u2}\")\n",
        "\n",
        "    return model\n",
        "\n",
        "\n",
        "  def build(self, hp):\n",
        "    \"\"\"\n",
        "    Description: build the model\n",
        "    Params:\n",
        "    hp - the hyperparameters class: keras_tuner.HyperParameters()\n",
        "    Returns: the built model\n",
        "    \"\"\"\n",
        "    # n_layers = hp.Int(\"n_layers\", min_value=3, max_value=12, step=1)\n",
        "    # l_rate = hp.Float(\"l_rate\", min_value=1e-5, max_value=1e-2, step=10, sampling=\"log\")\n",
        "    # n_units = hp.Int(\"n_units\", min_value=32, max_value=1024, step=2, sampling=\"log\")\n",
        "\n",
        "    # n_layers = hp.Int(\"n_layers\", min_value=3, max_value=8, step=1)\n",
        "    # l_rate = hp.Float(\"l_rate\", min_value=1e-4, max_value=1e-1, step=10, sampling=\"log\")\n",
        "    # n_units = hp.Int(\"n_units\", min_value=32, max_value=256, step=2, sampling=\"log\")\n",
        "\n",
        "\n",
        "    # n_layers = hp.Int(\"n_layers\", min_value=1, max_value=5, step=1)\n",
        "    n_layers = hp.Int(\"lstm_layers\", min_value=1, max_value=4, step=1)\n",
        "    l_rate = hp.Float(\"l_rate\", min_value=1e-5, max_value=1e-1, step=10, sampling=\"log\")\n",
        "\n",
        "    # n_layers = 11\n",
        "    # l_rate = 7.04032e-6\n",
        "    # n_units = 64\n",
        "    # model = self.build_model(n_layers, n_units, l_rate)\n",
        "    model = self.build_model(hp, n_layers, l_rate)\n",
        "    # model = self.build_model(hp, l_rate)\n",
        "    return model\n",
        "\n",
        "\n",
        "  def fit(self, hp, model, x, y, batch_size = None, validation_split = None, **kwargs):\n",
        "    \"\"\"\n",
        "    Description: fit the model\n",
        "    Params:\n",
        "    hp - the hyperparameters class: keras_tuner.HyperParameters()\n",
        "    model - the model to fit (get in build)\n",
        "    x, y - train features and train target respectively\n",
        "    batch_size - the batch size\n",
        "    validation_split - the validation split\n",
        "    **kwargs - all the parameters that tf.keras.Model.fit method has\n",
        "    \"\"\"\n",
        "    b_s = [32, 64, 128, 256, 512]\n",
        "    # b_s = [32, 64, 128]\n",
        "    if batch_size is None:\n",
        "      batch_size = hp.Choice(\"b_size\", b_s)\n",
        "    print(\"I'm in fit and the batch size is\", batch_size)\n",
        "\n",
        "    v_s = [0.2, 0.15, 0.1, 0.25, 0.33]\n",
        "    # v_s = [0.2, 0.33]\n",
        "    if validation_split is None:\n",
        "      validation_split = hp.Choice(\"val_split\", v_s)\n",
        "    print(\"I'm in fit and the validation split is\", validation_split)\n",
        "\n",
        "    return model.fit(\n",
        "        x, y,\n",
        "        batch_size = batch_size,\n",
        "        validation_split = validation_split,\n",
        "        **kwargs,\n",
        "    )\n",
        "\n",
        "# usage\n",
        "# input_shape = (X_train.shape[1], )\n",
        "# hp = keras_tuner.HyperParameters()\n",
        "# model = ANNModel(input_shape)\n",
        "# m = model.build(hp)\n",
        "# model.fit(hp, m, x=X_train, y=y_train)\n",
        "# m.summary()"
      ]
    },
    {
      "cell_type": "code",
      "execution_count": 65,
      "metadata": {
        "id": "j8cF2AAApN2z"
      },
      "outputs": [],
      "source": [
        "# create a path for the tuner\n",
        "hp_tuner_path = \"tuner_dir\"\n",
        "if not os.path.exists(hp_tuner_path):\n",
        "  print(\"Creating the directory for the tuner. Path:\", hp_tuner_path)\n",
        "  os.mkdir(hp_tuner_path)\n",
        "\n",
        "# a couple of variables to use in search and fit\n",
        "callback_ = tf.keras.callbacks.EarlyStopping(monitor=\"val_loss\", patience=3, mode=\"min\", start_from_epoch=3)\n",
        "# if the values are None, tuner will use random search, else the specified value\n",
        "batch_size_ = None\n",
        "val_split_ = None"
      ]
    },
    {
      "cell_type": "code",
      "execution_count": 66,
      "metadata": {
        "colab": {
          "base_uri": "https://localhost:8080/"
        },
        "id": "T-T7SEb8TBHG",
        "outputId": "24c9e465-3bdf-46fb-f076-17762a38e444"
      },
      "outputs": [
        {
          "output_type": "stream",
          "name": "stdout",
          "text": [
            "Trial 7 Complete [00h 01m 56s]\n",
            "val_loss: 0.7150887846946716\n",
            "\n",
            "Best val_loss So Far: 0.34542033076286316\n",
            "Total elapsed time: 00h 10m 25s\n"
          ]
        }
      ],
      "source": [
        "# input_shape = (X_train.shape[1], )\n",
        "input_shape = X_train.shape[1:]\n",
        "rs_tuner = keras_tuner.RandomSearch(\n",
        "    ANNModel(input_shape),\n",
        "    objective=\"val_loss\",\n",
        "    max_trials = 7,\n",
        "    executions_per_trial = 1,\n",
        "    overwrite = True,\n",
        "    directory = hp_tuner_path,\n",
        "    project_name = \"fires\"\n",
        ")\n",
        "rs_tuner.search(X_train, y_train, epochs=50, batch_size=batch_size_, validation_split=val_split_, callbacks=[callback_])"
      ]
    },
    {
      "cell_type": "code",
      "execution_count": 67,
      "metadata": {
        "colab": {
          "base_uri": "https://localhost:8080/",
          "height": 1000
        },
        "id": "5LK4OMvOTBCM",
        "outputId": "e63f230b-5913-4dc7-aa6f-5dee8b472de4"
      },
      "outputs": [
        {
          "output_type": "stream",
          "name": "stdout",
          "text": [
            "Results summary\n",
            "Results in tuner_dir/fires\n",
            "Showing 10 best trials\n",
            "Objective(name=\"val_loss\", direction=\"min\")\n",
            "\n",
            "Trial 3 summary\n",
            "Hyperparameters:\n",
            "lstm_layers: 4\n",
            "l_rate: 0.01\n",
            "lstm_units: 16\n",
            "dense_units: 256\n",
            "dense_layers: 1\n",
            "b_size: 64\n",
            "val_split: 0.2\n",
            "Score: 0.34542033076286316\n",
            "\n",
            "Trial 5 summary\n",
            "Hyperparameters:\n",
            "lstm_layers: 4\n",
            "l_rate: 0.001\n",
            "lstm_units: 8\n",
            "dense_units: 64\n",
            "dense_layers: 1\n",
            "b_size: 32\n",
            "val_split: 0.33\n",
            "Score: 0.38837340474128723\n",
            "\n",
            "Trial 4 summary\n",
            "Hyperparameters:\n",
            "lstm_layers: 1\n",
            "l_rate: 0.0001\n",
            "lstm_units: 64\n",
            "dense_units: 256\n",
            "dense_layers: 1\n",
            "b_size: 32\n",
            "val_split: 0.25\n",
            "Score: 0.4032195508480072\n",
            "\n",
            "Trial 0 summary\n",
            "Hyperparameters:\n",
            "lstm_layers: 3\n",
            "l_rate: 0.001\n",
            "lstm_units: 8\n",
            "dense_units: 512\n",
            "dense_layers: 7\n",
            "b_size: 32\n",
            "val_split: 0.2\n",
            "Score: 0.48087820410728455\n",
            "\n",
            "Trial 2 summary\n",
            "Hyperparameters:\n",
            "lstm_layers: 3\n",
            "l_rate: 1e-05\n",
            "lstm_units: 64\n",
            "dense_units: 256\n",
            "dense_layers: 2\n",
            "b_size: 64\n",
            "val_split: 0.15\n",
            "Score: 0.5010010004043579\n",
            "\n",
            "Trial 1 summary\n",
            "Hyperparameters:\n",
            "lstm_layers: 2\n",
            "l_rate: 1e-05\n",
            "lstm_units: 8\n",
            "dense_units: 64\n",
            "dense_layers: 11\n",
            "b_size: 256\n",
            "val_split: 0.1\n",
            "Score: 0.5737075805664062\n",
            "\n",
            "Trial 6 summary\n",
            "Hyperparameters:\n",
            "lstm_layers: 4\n",
            "l_rate: 0.1\n",
            "lstm_units: 32\n",
            "dense_units: 1024\n",
            "dense_layers: 3\n",
            "b_size: 256\n",
            "val_split: 0.2\n",
            "Score: 0.7150887846946716\n",
            "I'm in build_model and I have the following params: (0.01, 4, 16, 1, 256)\n"
          ]
        },
        {
          "output_type": "stream",
          "name": "stderr",
          "text": [
            "/usr/local/lib/python3.11/dist-packages/keras/src/saving/saving_lib.py:757: UserWarning: Skipping variable loading for optimizer 'adam', because it has 2 variables whereas the saved optimizer has 34 variables. \n",
            "  saveable.load_own_variables(weights_store.get(inner_path))\n"
          ]
        },
        {
          "output_type": "display_data",
          "data": {
            "text/plain": [
              "\u001b[1mModel: \"sequential\"\u001b[0m\n"
            ],
            "text/html": [
              "<pre style=\"white-space:pre;overflow-x:auto;line-height:normal;font-family:Menlo,'DejaVu Sans Mono',consolas,'Courier New',monospace\"><span style=\"font-weight: bold\">Model: \"sequential\"</span>\n",
              "</pre>\n"
            ]
          },
          "metadata": {}
        },
        {
          "output_type": "display_data",
          "data": {
            "text/plain": [
              "┏━━━━━━━━━━━━━━━━━━━━━━━━━━━━━━━━━┳━━━━━━━━━━━━━━━━━━━━━━━━┳━━━━━━━━━━━━━━━┓\n",
              "┃\u001b[1m \u001b[0m\u001b[1mLayer (type)                   \u001b[0m\u001b[1m \u001b[0m┃\u001b[1m \u001b[0m\u001b[1mOutput Shape          \u001b[0m\u001b[1m \u001b[0m┃\u001b[1m \u001b[0m\u001b[1m      Param #\u001b[0m\u001b[1m \u001b[0m┃\n",
              "┡━━━━━━━━━━━━━━━━━━━━━━━━━━━━━━━━━╇━━━━━━━━━━━━━━━━━━━━━━━━╇━━━━━━━━━━━━━━━┩\n",
              "│ lstm (\u001b[38;5;33mLSTM\u001b[0m)                     │ (\u001b[38;5;45mNone\u001b[0m, \u001b[38;5;34m101\u001b[0m, \u001b[38;5;34m16\u001b[0m)        │         \u001b[38;5;34m1,920\u001b[0m │\n",
              "├─────────────────────────────────┼────────────────────────┼───────────────┤\n",
              "│ lstm_1 (\u001b[38;5;33mLSTM\u001b[0m)                   │ (\u001b[38;5;45mNone\u001b[0m, \u001b[38;5;34m101\u001b[0m, \u001b[38;5;34m16\u001b[0m)        │         \u001b[38;5;34m2,112\u001b[0m │\n",
              "├─────────────────────────────────┼────────────────────────┼───────────────┤\n",
              "│ lstm_2 (\u001b[38;5;33mLSTM\u001b[0m)                   │ (\u001b[38;5;45mNone\u001b[0m, \u001b[38;5;34m101\u001b[0m, \u001b[38;5;34m16\u001b[0m)        │         \u001b[38;5;34m2,112\u001b[0m │\n",
              "├─────────────────────────────────┼────────────────────────┼───────────────┤\n",
              "│ lstm_3 (\u001b[38;5;33mLSTM\u001b[0m)                   │ (\u001b[38;5;45mNone\u001b[0m, \u001b[38;5;34m101\u001b[0m, \u001b[38;5;34m16\u001b[0m)        │         \u001b[38;5;34m2,112\u001b[0m │\n",
              "├─────────────────────────────────┼────────────────────────┼───────────────┤\n",
              "│ flatten (\u001b[38;5;33mFlatten\u001b[0m)               │ (\u001b[38;5;45mNone\u001b[0m, \u001b[38;5;34m1616\u001b[0m)           │             \u001b[38;5;34m0\u001b[0m │\n",
              "├─────────────────────────────────┼────────────────────────┼───────────────┤\n",
              "│ dense (\u001b[38;5;33mDense\u001b[0m)                   │ (\u001b[38;5;45mNone\u001b[0m, \u001b[38;5;34m256\u001b[0m)            │       \u001b[38;5;34m413,952\u001b[0m │\n",
              "├─────────────────────────────────┼────────────────────────┼───────────────┤\n",
              "│ dense_1 (\u001b[38;5;33mDense\u001b[0m)                 │ (\u001b[38;5;45mNone\u001b[0m, \u001b[38;5;34m1\u001b[0m)              │           \u001b[38;5;34m257\u001b[0m │\n",
              "└─────────────────────────────────┴────────────────────────┴───────────────┘\n"
            ],
            "text/html": [
              "<pre style=\"white-space:pre;overflow-x:auto;line-height:normal;font-family:Menlo,'DejaVu Sans Mono',consolas,'Courier New',monospace\">┏━━━━━━━━━━━━━━━━━━━━━━━━━━━━━━━━━┳━━━━━━━━━━━━━━━━━━━━━━━━┳━━━━━━━━━━━━━━━┓\n",
              "┃<span style=\"font-weight: bold\"> Layer (type)                    </span>┃<span style=\"font-weight: bold\"> Output Shape           </span>┃<span style=\"font-weight: bold\">       Param # </span>┃\n",
              "┡━━━━━━━━━━━━━━━━━━━━━━━━━━━━━━━━━╇━━━━━━━━━━━━━━━━━━━━━━━━╇━━━━━━━━━━━━━━━┩\n",
              "│ lstm (<span style=\"color: #0087ff; text-decoration-color: #0087ff\">LSTM</span>)                     │ (<span style=\"color: #00d7ff; text-decoration-color: #00d7ff\">None</span>, <span style=\"color: #00af00; text-decoration-color: #00af00\">101</span>, <span style=\"color: #00af00; text-decoration-color: #00af00\">16</span>)        │         <span style=\"color: #00af00; text-decoration-color: #00af00\">1,920</span> │\n",
              "├─────────────────────────────────┼────────────────────────┼───────────────┤\n",
              "│ lstm_1 (<span style=\"color: #0087ff; text-decoration-color: #0087ff\">LSTM</span>)                   │ (<span style=\"color: #00d7ff; text-decoration-color: #00d7ff\">None</span>, <span style=\"color: #00af00; text-decoration-color: #00af00\">101</span>, <span style=\"color: #00af00; text-decoration-color: #00af00\">16</span>)        │         <span style=\"color: #00af00; text-decoration-color: #00af00\">2,112</span> │\n",
              "├─────────────────────────────────┼────────────────────────┼───────────────┤\n",
              "│ lstm_2 (<span style=\"color: #0087ff; text-decoration-color: #0087ff\">LSTM</span>)                   │ (<span style=\"color: #00d7ff; text-decoration-color: #00d7ff\">None</span>, <span style=\"color: #00af00; text-decoration-color: #00af00\">101</span>, <span style=\"color: #00af00; text-decoration-color: #00af00\">16</span>)        │         <span style=\"color: #00af00; text-decoration-color: #00af00\">2,112</span> │\n",
              "├─────────────────────────────────┼────────────────────────┼───────────────┤\n",
              "│ lstm_3 (<span style=\"color: #0087ff; text-decoration-color: #0087ff\">LSTM</span>)                   │ (<span style=\"color: #00d7ff; text-decoration-color: #00d7ff\">None</span>, <span style=\"color: #00af00; text-decoration-color: #00af00\">101</span>, <span style=\"color: #00af00; text-decoration-color: #00af00\">16</span>)        │         <span style=\"color: #00af00; text-decoration-color: #00af00\">2,112</span> │\n",
              "├─────────────────────────────────┼────────────────────────┼───────────────┤\n",
              "│ flatten (<span style=\"color: #0087ff; text-decoration-color: #0087ff\">Flatten</span>)               │ (<span style=\"color: #00d7ff; text-decoration-color: #00d7ff\">None</span>, <span style=\"color: #00af00; text-decoration-color: #00af00\">1616</span>)           │             <span style=\"color: #00af00; text-decoration-color: #00af00\">0</span> │\n",
              "├─────────────────────────────────┼────────────────────────┼───────────────┤\n",
              "│ dense (<span style=\"color: #0087ff; text-decoration-color: #0087ff\">Dense</span>)                   │ (<span style=\"color: #00d7ff; text-decoration-color: #00d7ff\">None</span>, <span style=\"color: #00af00; text-decoration-color: #00af00\">256</span>)            │       <span style=\"color: #00af00; text-decoration-color: #00af00\">413,952</span> │\n",
              "├─────────────────────────────────┼────────────────────────┼───────────────┤\n",
              "│ dense_1 (<span style=\"color: #0087ff; text-decoration-color: #0087ff\">Dense</span>)                 │ (<span style=\"color: #00d7ff; text-decoration-color: #00d7ff\">None</span>, <span style=\"color: #00af00; text-decoration-color: #00af00\">1</span>)              │           <span style=\"color: #00af00; text-decoration-color: #00af00\">257</span> │\n",
              "└─────────────────────────────────┴────────────────────────┴───────────────┘\n",
              "</pre>\n"
            ]
          },
          "metadata": {}
        },
        {
          "output_type": "display_data",
          "data": {
            "text/plain": [
              "\u001b[1m Total params: \u001b[0m\u001b[38;5;34m422,465\u001b[0m (1.61 MB)\n"
            ],
            "text/html": [
              "<pre style=\"white-space:pre;overflow-x:auto;line-height:normal;font-family:Menlo,'DejaVu Sans Mono',consolas,'Courier New',monospace\"><span style=\"font-weight: bold\"> Total params: </span><span style=\"color: #00af00; text-decoration-color: #00af00\">422,465</span> (1.61 MB)\n",
              "</pre>\n"
            ]
          },
          "metadata": {}
        },
        {
          "output_type": "display_data",
          "data": {
            "text/plain": [
              "\u001b[1m Trainable params: \u001b[0m\u001b[38;5;34m422,465\u001b[0m (1.61 MB)\n"
            ],
            "text/html": [
              "<pre style=\"white-space:pre;overflow-x:auto;line-height:normal;font-family:Menlo,'DejaVu Sans Mono',consolas,'Courier New',monospace\"><span style=\"font-weight: bold\"> Trainable params: </span><span style=\"color: #00af00; text-decoration-color: #00af00\">422,465</span> (1.61 MB)\n",
              "</pre>\n"
            ]
          },
          "metadata": {}
        },
        {
          "output_type": "display_data",
          "data": {
            "text/plain": [
              "\u001b[1m Non-trainable params: \u001b[0m\u001b[38;5;34m0\u001b[0m (0.00 B)\n"
            ],
            "text/html": [
              "<pre style=\"white-space:pre;overflow-x:auto;line-height:normal;font-family:Menlo,'DejaVu Sans Mono',consolas,'Courier New',monospace\"><span style=\"font-weight: bold\"> Non-trainable params: </span><span style=\"color: #00af00; text-decoration-color: #00af00\">0</span> (0.00 B)\n",
              "</pre>\n"
            ]
          },
          "metadata": {}
        },
        {
          "output_type": "execute_result",
          "data": {
            "text/plain": [
              "(None,\n",
              " <keras_tuner.src.engine.hyperparameters.hyperparameters.HyperParameters at 0x7ecd193875d0>,\n",
              " None)"
            ]
          },
          "metadata": {},
          "execution_count": 67
        }
      ],
      "source": [
        "rs_tuner.results_summary(), rs_tuner.get_best_hyperparameters()[0], rs_tuner.get_best_models()[0].summary()"
      ]
    },
    {
      "cell_type": "code",
      "execution_count": 101,
      "metadata": {
        "id": "tFspjtzq7v8Q",
        "colab": {
          "base_uri": "https://localhost:8080/",
          "height": 480
        },
        "outputId": "95a22011-ea82-49f3-871f-7ee83ccbba77"
      },
      "outputs": [
        {
          "output_type": "stream",
          "name": "stdout",
          "text": [
            "Refitting the model with the best hyperparams {'lstm_layers': 4, 'l_rate': 0.01, 'lstm_units': 16, 'dense_units': 256, 'dense_layers': 1, 'b_size': 64, 'val_split': 0.2, 'epoch': 100}\n",
            "I'm in build_model and I have the following params: (0.01, 4, 16, 1, 256)\n",
            "I'm in fit and the batch size is 64\n",
            "I'm in fit and the validation split is 0.2\n",
            "Epoch 1/100\n",
            "\u001b[1m189/191\u001b[0m \u001b[32m━━━━━━━━━━━━━━━━━━━\u001b[0m\u001b[37m━\u001b[0m \u001b[1m0s\u001b[0m 17ms/step - accuracy: 0.7175 - auc_2: 0.7899 - f1_score: 0.6645 - loss: 0.5840"
          ]
        },
        {
          "output_type": "error",
          "ename": "KeyboardInterrupt",
          "evalue": "",
          "traceback": [
            "\u001b[0;31m---------------------------------------------------------------------------\u001b[0m",
            "\u001b[0;31mKeyboardInterrupt\u001b[0m                         Traceback (most recent call last)",
            "\u001b[0;32m<ipython-input-101-104b79220abf>\u001b[0m in \u001b[0;36m<cell line: 0>\u001b[0;34m()\u001b[0m\n\u001b[1;32m      4\u001b[0m \u001b[0mprint\u001b[0m\u001b[0;34m(\u001b[0m\u001b[0;34m\"Refitting the model with the best hyperparams\"\u001b[0m\u001b[0;34m,\u001b[0m \u001b[0mbest_hp_params\u001b[0m\u001b[0;34m.\u001b[0m\u001b[0mvalues\u001b[0m\u001b[0;34m)\u001b[0m\u001b[0;34m\u001b[0m\u001b[0;34m\u001b[0m\u001b[0m\n\u001b[1;32m      5\u001b[0m \u001b[0mtuned_model\u001b[0m \u001b[0;34m=\u001b[0m \u001b[0mhp_model\u001b[0m\u001b[0;34m.\u001b[0m\u001b[0mbuild\u001b[0m\u001b[0;34m(\u001b[0m\u001b[0mbest_hp_params\u001b[0m\u001b[0;34m)\u001b[0m\u001b[0;34m\u001b[0m\u001b[0;34m\u001b[0m\u001b[0m\n\u001b[0;32m----> 6\u001b[0;31m model_history = hp_model.fit(\n\u001b[0m\u001b[1;32m      7\u001b[0m     \u001b[0mbest_hp_params\u001b[0m\u001b[0;34m,\u001b[0m \u001b[0mtuned_model\u001b[0m\u001b[0;34m,\u001b[0m\u001b[0;34m\u001b[0m\u001b[0;34m\u001b[0m\u001b[0m\n\u001b[1;32m      8\u001b[0m     \u001b[0mX_train\u001b[0m\u001b[0;34m,\u001b[0m \u001b[0my_train\u001b[0m\u001b[0;34m,\u001b[0m \u001b[0mepochs\u001b[0m \u001b[0;34m=\u001b[0m \u001b[0mbest_model_epochs_\u001b[0m\u001b[0;34m,\u001b[0m\u001b[0;34m\u001b[0m\u001b[0;34m\u001b[0m\u001b[0m\n",
            "\u001b[0;32m<ipython-input-64-b3651d8eacd7>\u001b[0m in \u001b[0;36mfit\u001b[0;34m(self, hp, model, x, y, batch_size, validation_split, **kwargs)\u001b[0m\n\u001b[1;32m    126\u001b[0m     \u001b[0mprint\u001b[0m\u001b[0;34m(\u001b[0m\u001b[0;34m\"I'm in fit and the validation split is\"\u001b[0m\u001b[0;34m,\u001b[0m \u001b[0mvalidation_split\u001b[0m\u001b[0;34m)\u001b[0m\u001b[0;34m\u001b[0m\u001b[0;34m\u001b[0m\u001b[0m\n\u001b[1;32m    127\u001b[0m \u001b[0;34m\u001b[0m\u001b[0m\n\u001b[0;32m--> 128\u001b[0;31m     return model.fit(\n\u001b[0m\u001b[1;32m    129\u001b[0m         \u001b[0mx\u001b[0m\u001b[0;34m,\u001b[0m \u001b[0my\u001b[0m\u001b[0;34m,\u001b[0m\u001b[0;34m\u001b[0m\u001b[0;34m\u001b[0m\u001b[0m\n\u001b[1;32m    130\u001b[0m         \u001b[0mbatch_size\u001b[0m \u001b[0;34m=\u001b[0m \u001b[0mbatch_size\u001b[0m\u001b[0;34m,\u001b[0m\u001b[0;34m\u001b[0m\u001b[0;34m\u001b[0m\u001b[0m\n",
            "\u001b[0;32m/usr/local/lib/python3.11/dist-packages/keras/src/utils/traceback_utils.py\u001b[0m in \u001b[0;36merror_handler\u001b[0;34m(*args, **kwargs)\u001b[0m\n\u001b[1;32m    115\u001b[0m         \u001b[0mfiltered_tb\u001b[0m \u001b[0;34m=\u001b[0m \u001b[0;32mNone\u001b[0m\u001b[0;34m\u001b[0m\u001b[0;34m\u001b[0m\u001b[0m\n\u001b[1;32m    116\u001b[0m         \u001b[0;32mtry\u001b[0m\u001b[0;34m:\u001b[0m\u001b[0;34m\u001b[0m\u001b[0;34m\u001b[0m\u001b[0m\n\u001b[0;32m--> 117\u001b[0;31m             \u001b[0;32mreturn\u001b[0m \u001b[0mfn\u001b[0m\u001b[0;34m(\u001b[0m\u001b[0;34m*\u001b[0m\u001b[0margs\u001b[0m\u001b[0;34m,\u001b[0m \u001b[0;34m**\u001b[0m\u001b[0mkwargs\u001b[0m\u001b[0;34m)\u001b[0m\u001b[0;34m\u001b[0m\u001b[0;34m\u001b[0m\u001b[0m\n\u001b[0m\u001b[1;32m    118\u001b[0m         \u001b[0;32mexcept\u001b[0m \u001b[0mException\u001b[0m \u001b[0;32mas\u001b[0m \u001b[0me\u001b[0m\u001b[0;34m:\u001b[0m\u001b[0;34m\u001b[0m\u001b[0;34m\u001b[0m\u001b[0m\n\u001b[1;32m    119\u001b[0m             \u001b[0mfiltered_tb\u001b[0m \u001b[0;34m=\u001b[0m \u001b[0m_process_traceback_frames\u001b[0m\u001b[0;34m(\u001b[0m\u001b[0me\u001b[0m\u001b[0;34m.\u001b[0m\u001b[0m__traceback__\u001b[0m\u001b[0;34m)\u001b[0m\u001b[0;34m\u001b[0m\u001b[0;34m\u001b[0m\u001b[0m\n",
            "\u001b[0;32m/usr/local/lib/python3.11/dist-packages/keras/src/backend/tensorflow/trainer.py\u001b[0m in \u001b[0;36mfit\u001b[0;34m(self, x, y, batch_size, epochs, verbose, callbacks, validation_split, validation_data, shuffle, class_weight, sample_weight, initial_epoch, steps_per_epoch, validation_steps, validation_batch_size, validation_freq)\u001b[0m\n\u001b[1;32m    383\u001b[0m                 \u001b[0;31m# Create EpochIterator for evaluation and cache it.\u001b[0m\u001b[0;34m\u001b[0m\u001b[0;34m\u001b[0m\u001b[0m\n\u001b[1;32m    384\u001b[0m                 \u001b[0;32mif\u001b[0m \u001b[0mgetattr\u001b[0m\u001b[0;34m(\u001b[0m\u001b[0mself\u001b[0m\u001b[0;34m,\u001b[0m \u001b[0;34m\"_eval_epoch_iterator\"\u001b[0m\u001b[0;34m,\u001b[0m \u001b[0;32mNone\u001b[0m\u001b[0;34m)\u001b[0m \u001b[0;32mis\u001b[0m \u001b[0;32mNone\u001b[0m\u001b[0;34m:\u001b[0m\u001b[0;34m\u001b[0m\u001b[0;34m\u001b[0m\u001b[0m\n\u001b[0;32m--> 385\u001b[0;31m                     self._eval_epoch_iterator = TFEpochIterator(\n\u001b[0m\u001b[1;32m    386\u001b[0m                         \u001b[0mx\u001b[0m\u001b[0;34m=\u001b[0m\u001b[0mval_x\u001b[0m\u001b[0;34m,\u001b[0m\u001b[0;34m\u001b[0m\u001b[0;34m\u001b[0m\u001b[0m\n\u001b[1;32m    387\u001b[0m                         \u001b[0my\u001b[0m\u001b[0;34m=\u001b[0m\u001b[0mval_y\u001b[0m\u001b[0;34m,\u001b[0m\u001b[0;34m\u001b[0m\u001b[0;34m\u001b[0m\u001b[0m\n",
            "\u001b[0;32m/usr/local/lib/python3.11/dist-packages/keras/src/backend/tensorflow/trainer.py\u001b[0m in \u001b[0;36m__init__\u001b[0;34m(self, distribute_strategy, *args, **kwargs)\u001b[0m\n\u001b[1;32m    720\u001b[0m         \u001b[0msuper\u001b[0m\u001b[0;34m(\u001b[0m\u001b[0;34m)\u001b[0m\u001b[0;34m.\u001b[0m\u001b[0m__init__\u001b[0m\u001b[0;34m(\u001b[0m\u001b[0;34m*\u001b[0m\u001b[0margs\u001b[0m\u001b[0;34m,\u001b[0m \u001b[0;34m**\u001b[0m\u001b[0mkwargs\u001b[0m\u001b[0;34m)\u001b[0m\u001b[0;34m\u001b[0m\u001b[0;34m\u001b[0m\u001b[0m\n\u001b[1;32m    721\u001b[0m         \u001b[0mself\u001b[0m\u001b[0;34m.\u001b[0m\u001b[0m_distribute_strategy\u001b[0m \u001b[0;34m=\u001b[0m \u001b[0mdistribute_strategy\u001b[0m\u001b[0;34m\u001b[0m\u001b[0;34m\u001b[0m\u001b[0m\n\u001b[0;32m--> 722\u001b[0;31m         \u001b[0mdataset\u001b[0m \u001b[0;34m=\u001b[0m \u001b[0mself\u001b[0m\u001b[0;34m.\u001b[0m\u001b[0mdata_adapter\u001b[0m\u001b[0;34m.\u001b[0m\u001b[0mget_tf_dataset\u001b[0m\u001b[0;34m(\u001b[0m\u001b[0;34m)\u001b[0m\u001b[0;34m\u001b[0m\u001b[0;34m\u001b[0m\u001b[0m\n\u001b[0m\u001b[1;32m    723\u001b[0m         \u001b[0;32mif\u001b[0m \u001b[0;32mnot\u001b[0m \u001b[0misinstance\u001b[0m\u001b[0;34m(\u001b[0m\u001b[0mdataset\u001b[0m\u001b[0;34m,\u001b[0m \u001b[0mtf\u001b[0m\u001b[0;34m.\u001b[0m\u001b[0mdistribute\u001b[0m\u001b[0;34m.\u001b[0m\u001b[0mDistributedDataset\u001b[0m\u001b[0;34m)\u001b[0m\u001b[0;34m:\u001b[0m\u001b[0;34m\u001b[0m\u001b[0;34m\u001b[0m\u001b[0m\n\u001b[1;32m    724\u001b[0m             dataset = self._distribute_strategy.experimental_distribute_dataset(\n",
            "\u001b[0;32m/usr/local/lib/python3.11/dist-packages/keras/src/trainers/data_adapters/array_data_adapter.py\u001b[0m in \u001b[0;36mget_tf_dataset\u001b[0;34m(self)\u001b[0m\n\u001b[1;32m    229\u001b[0m             \u001b[0;32mreturn\u001b[0m \u001b[0mdataset\u001b[0m\u001b[0;34m\u001b[0m\u001b[0;34m\u001b[0m\u001b[0m\n\u001b[1;32m    230\u001b[0m \u001b[0;34m\u001b[0m\u001b[0m\n\u001b[0;32m--> 231\u001b[0;31m         \u001b[0mindices_dataset\u001b[0m \u001b[0;34m=\u001b[0m \u001b[0mindices_dataset\u001b[0m\u001b[0;34m.\u001b[0m\u001b[0mflat_map\u001b[0m\u001b[0;34m(\u001b[0m\u001b[0mslice_batch_indices\u001b[0m\u001b[0;34m)\u001b[0m\u001b[0;34m\u001b[0m\u001b[0;34m\u001b[0m\u001b[0m\n\u001b[0m\u001b[1;32m    232\u001b[0m         \u001b[0;32mif\u001b[0m \u001b[0mshuffle\u001b[0m \u001b[0;34m==\u001b[0m \u001b[0;34m\"batch\"\u001b[0m\u001b[0;34m:\u001b[0m\u001b[0;34m\u001b[0m\u001b[0;34m\u001b[0m\u001b[0m\n\u001b[1;32m    233\u001b[0m             \u001b[0mindices_dataset\u001b[0m \u001b[0;34m=\u001b[0m \u001b[0mindices_dataset\u001b[0m\u001b[0;34m.\u001b[0m\u001b[0mmap\u001b[0m\u001b[0;34m(\u001b[0m\u001b[0mtf\u001b[0m\u001b[0;34m.\u001b[0m\u001b[0mrandom\u001b[0m\u001b[0;34m.\u001b[0m\u001b[0mshuffle\u001b[0m\u001b[0;34m)\u001b[0m\u001b[0;34m\u001b[0m\u001b[0;34m\u001b[0m\u001b[0m\n",
            "\u001b[0;32m/usr/local/lib/python3.11/dist-packages/tensorflow/python/data/ops/dataset_ops.py\u001b[0m in \u001b[0;36mflat_map\u001b[0;34m(self, map_func, name)\u001b[0m\n\u001b[1;32m   2387\u001b[0m     \u001b[0;31m# pylint: disable=g-import-not-at-top,protected-access\u001b[0m\u001b[0;34m\u001b[0m\u001b[0;34m\u001b[0m\u001b[0m\n\u001b[1;32m   2388\u001b[0m     \u001b[0;32mfrom\u001b[0m \u001b[0mtensorflow\u001b[0m\u001b[0;34m.\u001b[0m\u001b[0mpython\u001b[0m\u001b[0;34m.\u001b[0m\u001b[0mdata\u001b[0m\u001b[0;34m.\u001b[0m\u001b[0mops\u001b[0m \u001b[0;32mimport\u001b[0m \u001b[0mflat_map_op\u001b[0m\u001b[0;34m\u001b[0m\u001b[0;34m\u001b[0m\u001b[0m\n\u001b[0;32m-> 2389\u001b[0;31m     \u001b[0;32mreturn\u001b[0m \u001b[0mflat_map_op\u001b[0m\u001b[0;34m.\u001b[0m\u001b[0m_flat_map\u001b[0m\u001b[0;34m(\u001b[0m\u001b[0mself\u001b[0m\u001b[0;34m,\u001b[0m \u001b[0mmap_func\u001b[0m\u001b[0;34m,\u001b[0m \u001b[0mname\u001b[0m\u001b[0;34m=\u001b[0m\u001b[0mname\u001b[0m\u001b[0;34m)\u001b[0m\u001b[0;34m\u001b[0m\u001b[0;34m\u001b[0m\u001b[0m\n\u001b[0m\u001b[1;32m   2390\u001b[0m     \u001b[0;31m# pylint: enable=g-import-not-at-top,protected-access\u001b[0m\u001b[0;34m\u001b[0m\u001b[0;34m\u001b[0m\u001b[0m\n\u001b[1;32m   2391\u001b[0m \u001b[0;34m\u001b[0m\u001b[0m\n",
            "\u001b[0;32m/usr/local/lib/python3.11/dist-packages/tensorflow/python/data/ops/flat_map_op.py\u001b[0m in \u001b[0;36m_flat_map\u001b[0;34m(input_dataset, map_func, name)\u001b[0m\n\u001b[1;32m     22\u001b[0m \u001b[0;32mdef\u001b[0m \u001b[0m_flat_map\u001b[0m\u001b[0;34m(\u001b[0m\u001b[0minput_dataset\u001b[0m\u001b[0;34m,\u001b[0m \u001b[0mmap_func\u001b[0m\u001b[0;34m,\u001b[0m \u001b[0mname\u001b[0m\u001b[0;34m=\u001b[0m\u001b[0;32mNone\u001b[0m\u001b[0;34m)\u001b[0m\u001b[0;34m:\u001b[0m  \u001b[0;31m# pylint: disable=unused-private-name\u001b[0m\u001b[0;34m\u001b[0m\u001b[0;34m\u001b[0m\u001b[0m\n\u001b[1;32m     23\u001b[0m   \u001b[0;34m\"\"\"See `Dataset.flat_map()` for details.\"\"\"\u001b[0m\u001b[0;34m\u001b[0m\u001b[0;34m\u001b[0m\u001b[0m\n\u001b[0;32m---> 24\u001b[0;31m   \u001b[0;32mreturn\u001b[0m \u001b[0m_FlatMapDataset\u001b[0m\u001b[0;34m(\u001b[0m\u001b[0minput_dataset\u001b[0m\u001b[0;34m,\u001b[0m \u001b[0mmap_func\u001b[0m\u001b[0;34m,\u001b[0m \u001b[0mname\u001b[0m\u001b[0;34m)\u001b[0m\u001b[0;34m\u001b[0m\u001b[0;34m\u001b[0m\u001b[0m\n\u001b[0m\u001b[1;32m     25\u001b[0m \u001b[0;34m\u001b[0m\u001b[0m\n\u001b[1;32m     26\u001b[0m \u001b[0;34m\u001b[0m\u001b[0m\n",
            "\u001b[0;32m/usr/local/lib/python3.11/dist-packages/tensorflow/python/data/ops/flat_map_op.py\u001b[0m in \u001b[0;36m__init__\u001b[0;34m(self, input_dataset, map_func, name)\u001b[0m\n\u001b[1;32m     31\u001b[0m \u001b[0;34m\u001b[0m\u001b[0m\n\u001b[1;32m     32\u001b[0m     \u001b[0mself\u001b[0m\u001b[0;34m.\u001b[0m\u001b[0m_input_dataset\u001b[0m \u001b[0;34m=\u001b[0m \u001b[0minput_dataset\u001b[0m\u001b[0;34m\u001b[0m\u001b[0;34m\u001b[0m\u001b[0m\n\u001b[0;32m---> 33\u001b[0;31m     self._map_func = structured_function.StructuredFunctionWrapper(\n\u001b[0m\u001b[1;32m     34\u001b[0m         map_func, self._transformation_name(), dataset=input_dataset)\n\u001b[1;32m     35\u001b[0m     \u001b[0;32mif\u001b[0m \u001b[0;32mnot\u001b[0m \u001b[0misinstance\u001b[0m\u001b[0;34m(\u001b[0m\u001b[0mself\u001b[0m\u001b[0;34m.\u001b[0m\u001b[0m_map_func\u001b[0m\u001b[0;34m.\u001b[0m\u001b[0moutput_structure\u001b[0m\u001b[0;34m,\u001b[0m \u001b[0mdataset_ops\u001b[0m\u001b[0;34m.\u001b[0m\u001b[0mDatasetSpec\u001b[0m\u001b[0;34m)\u001b[0m\u001b[0;34m:\u001b[0m\u001b[0;34m\u001b[0m\u001b[0;34m\u001b[0m\u001b[0m\n",
            "\u001b[0;32m/usr/local/lib/python3.11/dist-packages/tensorflow/python/data/ops/structured_function.py\u001b[0m in \u001b[0;36m__init__\u001b[0;34m(self, func, transformation_name, dataset, input_classes, input_shapes, input_types, input_structure, add_to_graph, use_legacy_function, defun_kwargs)\u001b[0m\n\u001b[1;32m    263\u001b[0m         \u001b[0mfn_factory\u001b[0m \u001b[0;34m=\u001b[0m \u001b[0mtrace_tf_function\u001b[0m\u001b[0;34m(\u001b[0m\u001b[0mdefun_kwargs\u001b[0m\u001b[0;34m)\u001b[0m\u001b[0;34m\u001b[0m\u001b[0;34m\u001b[0m\u001b[0m\n\u001b[1;32m    264\u001b[0m \u001b[0;34m\u001b[0m\u001b[0m\n\u001b[0;32m--> 265\u001b[0;31m     \u001b[0mself\u001b[0m\u001b[0;34m.\u001b[0m\u001b[0m_function\u001b[0m \u001b[0;34m=\u001b[0m \u001b[0mfn_factory\u001b[0m\u001b[0;34m(\u001b[0m\u001b[0;34m)\u001b[0m\u001b[0;34m\u001b[0m\u001b[0;34m\u001b[0m\u001b[0m\n\u001b[0m\u001b[1;32m    266\u001b[0m     \u001b[0;31m# There is no graph to add in eager mode.\u001b[0m\u001b[0;34m\u001b[0m\u001b[0;34m\u001b[0m\u001b[0m\n\u001b[1;32m    267\u001b[0m     \u001b[0madd_to_graph\u001b[0m \u001b[0;34m&=\u001b[0m \u001b[0;32mnot\u001b[0m \u001b[0mcontext\u001b[0m\u001b[0;34m.\u001b[0m\u001b[0mexecuting_eagerly\u001b[0m\u001b[0;34m(\u001b[0m\u001b[0;34m)\u001b[0m\u001b[0;34m\u001b[0m\u001b[0;34m\u001b[0m\u001b[0m\n",
            "\u001b[0;32m/usr/local/lib/python3.11/dist-packages/tensorflow/python/eager/polymorphic_function/polymorphic_function.py\u001b[0m in \u001b[0;36mget_concrete_function\u001b[0;34m(self, *args, **kwargs)\u001b[0m\n\u001b[1;32m   1249\u001b[0m   \u001b[0;32mdef\u001b[0m \u001b[0mget_concrete_function\u001b[0m\u001b[0;34m(\u001b[0m\u001b[0mself\u001b[0m\u001b[0;34m,\u001b[0m \u001b[0;34m*\u001b[0m\u001b[0margs\u001b[0m\u001b[0;34m,\u001b[0m \u001b[0;34m**\u001b[0m\u001b[0mkwargs\u001b[0m\u001b[0;34m)\u001b[0m\u001b[0;34m:\u001b[0m\u001b[0;34m\u001b[0m\u001b[0;34m\u001b[0m\u001b[0m\n\u001b[1;32m   1250\u001b[0m     \u001b[0;31m# Implements PolymorphicFunction.get_concrete_function.\u001b[0m\u001b[0;34m\u001b[0m\u001b[0;34m\u001b[0m\u001b[0m\n\u001b[0;32m-> 1251\u001b[0;31m     \u001b[0mconcrete\u001b[0m \u001b[0;34m=\u001b[0m \u001b[0mself\u001b[0m\u001b[0;34m.\u001b[0m\u001b[0m_get_concrete_function_garbage_collected\u001b[0m\u001b[0;34m(\u001b[0m\u001b[0;34m*\u001b[0m\u001b[0margs\u001b[0m\u001b[0;34m,\u001b[0m \u001b[0;34m**\u001b[0m\u001b[0mkwargs\u001b[0m\u001b[0;34m)\u001b[0m\u001b[0;34m\u001b[0m\u001b[0;34m\u001b[0m\u001b[0m\n\u001b[0m\u001b[1;32m   1252\u001b[0m     \u001b[0mconcrete\u001b[0m\u001b[0;34m.\u001b[0m\u001b[0m_garbage_collector\u001b[0m\u001b[0;34m.\u001b[0m\u001b[0mrelease\u001b[0m\u001b[0;34m(\u001b[0m\u001b[0;34m)\u001b[0m  \u001b[0;31m# pylint: disable=protected-access\u001b[0m\u001b[0;34m\u001b[0m\u001b[0;34m\u001b[0m\u001b[0m\n\u001b[1;32m   1253\u001b[0m     \u001b[0;32mreturn\u001b[0m \u001b[0mconcrete\u001b[0m\u001b[0;34m\u001b[0m\u001b[0;34m\u001b[0m\u001b[0m\n",
            "\u001b[0;32m/usr/local/lib/python3.11/dist-packages/tensorflow/python/eager/polymorphic_function/polymorphic_function.py\u001b[0m in \u001b[0;36m_get_concrete_function_garbage_collected\u001b[0;34m(self, *args, **kwargs)\u001b[0m\n\u001b[1;32m   1219\u001b[0m       \u001b[0;32mif\u001b[0m \u001b[0mself\u001b[0m\u001b[0;34m.\u001b[0m\u001b[0m_variable_creation_config\u001b[0m \u001b[0;32mis\u001b[0m \u001b[0;32mNone\u001b[0m\u001b[0;34m:\u001b[0m\u001b[0;34m\u001b[0m\u001b[0;34m\u001b[0m\u001b[0m\n\u001b[1;32m   1220\u001b[0m         \u001b[0minitializers\u001b[0m \u001b[0;34m=\u001b[0m \u001b[0;34m[\u001b[0m\u001b[0;34m]\u001b[0m\u001b[0;34m\u001b[0m\u001b[0;34m\u001b[0m\u001b[0m\n\u001b[0;32m-> 1221\u001b[0;31m         \u001b[0mself\u001b[0m\u001b[0;34m.\u001b[0m\u001b[0m_initialize\u001b[0m\u001b[0;34m(\u001b[0m\u001b[0margs\u001b[0m\u001b[0;34m,\u001b[0m \u001b[0mkwargs\u001b[0m\u001b[0;34m,\u001b[0m \u001b[0madd_initializers_to\u001b[0m\u001b[0;34m=\u001b[0m\u001b[0minitializers\u001b[0m\u001b[0;34m)\u001b[0m\u001b[0;34m\u001b[0m\u001b[0;34m\u001b[0m\u001b[0m\n\u001b[0m\u001b[1;32m   1222\u001b[0m         \u001b[0mself\u001b[0m\u001b[0;34m.\u001b[0m\u001b[0m_initialize_uninitialized_variables\u001b[0m\u001b[0;34m(\u001b[0m\u001b[0minitializers\u001b[0m\u001b[0;34m)\u001b[0m\u001b[0;34m\u001b[0m\u001b[0;34m\u001b[0m\u001b[0m\n\u001b[1;32m   1223\u001b[0m \u001b[0;34m\u001b[0m\u001b[0m\n",
            "\u001b[0;32m/usr/local/lib/python3.11/dist-packages/tensorflow/python/eager/polymorphic_function/polymorphic_function.py\u001b[0m in \u001b[0;36m_initialize\u001b[0;34m(self, args, kwds, add_initializers_to)\u001b[0m\n\u001b[1;32m    694\u001b[0m     )\n\u001b[1;32m    695\u001b[0m     \u001b[0;31m# Force the definition of the function for these arguments\u001b[0m\u001b[0;34m\u001b[0m\u001b[0;34m\u001b[0m\u001b[0m\n\u001b[0;32m--> 696\u001b[0;31m     self._concrete_variable_creation_fn = tracing_compilation.trace_function(\n\u001b[0m\u001b[1;32m    697\u001b[0m         \u001b[0margs\u001b[0m\u001b[0;34m,\u001b[0m \u001b[0mkwds\u001b[0m\u001b[0;34m,\u001b[0m \u001b[0mself\u001b[0m\u001b[0;34m.\u001b[0m\u001b[0m_variable_creation_config\u001b[0m\u001b[0;34m\u001b[0m\u001b[0;34m\u001b[0m\u001b[0m\n\u001b[1;32m    698\u001b[0m     )\n",
            "\u001b[0;32m/usr/local/lib/python3.11/dist-packages/tensorflow/python/eager/polymorphic_function/tracing_compilation.py\u001b[0m in \u001b[0;36mtrace_function\u001b[0;34m(args, kwargs, tracing_options)\u001b[0m\n\u001b[1;32m    176\u001b[0m       \u001b[0mkwargs\u001b[0m \u001b[0;34m=\u001b[0m \u001b[0;34m{\u001b[0m\u001b[0;34m}\u001b[0m\u001b[0;34m\u001b[0m\u001b[0;34m\u001b[0m\u001b[0m\n\u001b[1;32m    177\u001b[0m \u001b[0;34m\u001b[0m\u001b[0m\n\u001b[0;32m--> 178\u001b[0;31m     concrete_function = _maybe_define_function(\n\u001b[0m\u001b[1;32m    179\u001b[0m         \u001b[0margs\u001b[0m\u001b[0;34m,\u001b[0m \u001b[0mkwargs\u001b[0m\u001b[0;34m,\u001b[0m \u001b[0mtracing_options\u001b[0m\u001b[0;34m\u001b[0m\u001b[0;34m\u001b[0m\u001b[0m\n\u001b[1;32m    180\u001b[0m     )\n",
            "\u001b[0;32m/usr/local/lib/python3.11/dist-packages/tensorflow/python/eager/polymorphic_function/tracing_compilation.py\u001b[0m in \u001b[0;36m_maybe_define_function\u001b[0;34m(args, kwargs, tracing_options)\u001b[0m\n\u001b[1;32m    281\u001b[0m         \u001b[0;32melse\u001b[0m\u001b[0;34m:\u001b[0m\u001b[0;34m\u001b[0m\u001b[0;34m\u001b[0m\u001b[0m\n\u001b[1;32m    282\u001b[0m           \u001b[0mtarget_func_type\u001b[0m \u001b[0;34m=\u001b[0m \u001b[0mlookup_func_type\u001b[0m\u001b[0;34m\u001b[0m\u001b[0;34m\u001b[0m\u001b[0m\n\u001b[0;32m--> 283\u001b[0;31m         concrete_function = _create_concrete_function(\n\u001b[0m\u001b[1;32m    284\u001b[0m             \u001b[0mtarget_func_type\u001b[0m\u001b[0;34m,\u001b[0m \u001b[0mlookup_func_context\u001b[0m\u001b[0;34m,\u001b[0m \u001b[0mfunc_graph\u001b[0m\u001b[0;34m,\u001b[0m \u001b[0mtracing_options\u001b[0m\u001b[0;34m\u001b[0m\u001b[0;34m\u001b[0m\u001b[0m\n\u001b[1;32m    285\u001b[0m         )\n",
            "\u001b[0;32m/usr/local/lib/python3.11/dist-packages/tensorflow/python/eager/polymorphic_function/tracing_compilation.py\u001b[0m in \u001b[0;36m_create_concrete_function\u001b[0;34m(function_type, type_context, func_graph, tracing_options)\u001b[0m\n\u001b[1;32m    308\u001b[0m       \u001b[0mattributes_lib\u001b[0m\u001b[0;34m.\u001b[0m\u001b[0mDISABLE_ACD\u001b[0m\u001b[0;34m,\u001b[0m \u001b[0;32mFalse\u001b[0m\u001b[0;34m\u001b[0m\u001b[0;34m\u001b[0m\u001b[0m\n\u001b[1;32m    309\u001b[0m   )\n\u001b[0;32m--> 310\u001b[0;31m   traced_func_graph = func_graph_module.func_graph_from_py_func(\n\u001b[0m\u001b[1;32m    311\u001b[0m       \u001b[0mtracing_options\u001b[0m\u001b[0;34m.\u001b[0m\u001b[0mname\u001b[0m\u001b[0;34m,\u001b[0m\u001b[0;34m\u001b[0m\u001b[0;34m\u001b[0m\u001b[0m\n\u001b[1;32m    312\u001b[0m       \u001b[0mtracing_options\u001b[0m\u001b[0;34m.\u001b[0m\u001b[0mpython_function\u001b[0m\u001b[0;34m,\u001b[0m\u001b[0;34m\u001b[0m\u001b[0;34m\u001b[0m\u001b[0m\n",
            "\u001b[0;32m/usr/local/lib/python3.11/dist-packages/tensorflow/python/framework/func_graph.py\u001b[0m in \u001b[0;36mfunc_graph_from_py_func\u001b[0;34m(name, python_func, args, kwargs, signature, func_graph, add_control_dependencies, arg_names, op_return_value, collections, capture_by_value, create_placeholders)\u001b[0m\n\u001b[1;32m   1057\u001b[0m \u001b[0;34m\u001b[0m\u001b[0m\n\u001b[1;32m   1058\u001b[0m     \u001b[0m_\u001b[0m\u001b[0;34m,\u001b[0m \u001b[0moriginal_func\u001b[0m \u001b[0;34m=\u001b[0m \u001b[0mtf_decorator\u001b[0m\u001b[0;34m.\u001b[0m\u001b[0munwrap\u001b[0m\u001b[0;34m(\u001b[0m\u001b[0mpython_func\u001b[0m\u001b[0;34m)\u001b[0m\u001b[0;34m\u001b[0m\u001b[0;34m\u001b[0m\u001b[0m\n\u001b[0;32m-> 1059\u001b[0;31m     \u001b[0mfunc_outputs\u001b[0m \u001b[0;34m=\u001b[0m \u001b[0mpython_func\u001b[0m\u001b[0;34m(\u001b[0m\u001b[0;34m*\u001b[0m\u001b[0mfunc_args\u001b[0m\u001b[0;34m,\u001b[0m \u001b[0;34m**\u001b[0m\u001b[0mfunc_kwargs\u001b[0m\u001b[0;34m)\u001b[0m\u001b[0;34m\u001b[0m\u001b[0;34m\u001b[0m\u001b[0m\n\u001b[0m\u001b[1;32m   1060\u001b[0m \u001b[0;34m\u001b[0m\u001b[0m\n\u001b[1;32m   1061\u001b[0m     \u001b[0;31m# invariant: `func_outputs` contains only Tensors, CompositeTensors,\u001b[0m\u001b[0;34m\u001b[0m\u001b[0;34m\u001b[0m\u001b[0m\n",
            "\u001b[0;32m/usr/local/lib/python3.11/dist-packages/tensorflow/python/eager/polymorphic_function/polymorphic_function.py\u001b[0m in \u001b[0;36mwrapped_fn\u001b[0;34m(*args, **kwds)\u001b[0m\n\u001b[1;32m    597\u001b[0m         \u001b[0;31m# the function a weak reference to itself to avoid a reference cycle.\u001b[0m\u001b[0;34m\u001b[0m\u001b[0;34m\u001b[0m\u001b[0m\n\u001b[1;32m    598\u001b[0m         \u001b[0;32mwith\u001b[0m \u001b[0mOptionalXlaContext\u001b[0m\u001b[0;34m(\u001b[0m\u001b[0mcompile_with_xla\u001b[0m\u001b[0;34m)\u001b[0m\u001b[0;34m:\u001b[0m\u001b[0;34m\u001b[0m\u001b[0;34m\u001b[0m\u001b[0m\n\u001b[0;32m--> 599\u001b[0;31m           \u001b[0mout\u001b[0m \u001b[0;34m=\u001b[0m \u001b[0mweak_wrapped_fn\u001b[0m\u001b[0;34m(\u001b[0m\u001b[0;34m)\u001b[0m\u001b[0;34m.\u001b[0m\u001b[0m__wrapped__\u001b[0m\u001b[0;34m(\u001b[0m\u001b[0;34m*\u001b[0m\u001b[0margs\u001b[0m\u001b[0;34m,\u001b[0m \u001b[0;34m**\u001b[0m\u001b[0mkwds\u001b[0m\u001b[0;34m)\u001b[0m\u001b[0;34m\u001b[0m\u001b[0;34m\u001b[0m\u001b[0m\n\u001b[0m\u001b[1;32m    600\u001b[0m         \u001b[0;32mreturn\u001b[0m \u001b[0mout\u001b[0m\u001b[0;34m\u001b[0m\u001b[0;34m\u001b[0m\u001b[0m\n\u001b[1;32m    601\u001b[0m \u001b[0;34m\u001b[0m\u001b[0m\n",
            "\u001b[0;32m/usr/local/lib/python3.11/dist-packages/tensorflow/python/data/ops/structured_function.py\u001b[0m in \u001b[0;36mwrapped_fn\u001b[0;34m(*args)\u001b[0m\n\u001b[1;32m    230\u001b[0m       \u001b[0;32mdef\u001b[0m \u001b[0mwrapped_fn\u001b[0m\u001b[0;34m(\u001b[0m\u001b[0;34m*\u001b[0m\u001b[0margs\u001b[0m\u001b[0;34m)\u001b[0m\u001b[0;34m:\u001b[0m  \u001b[0;31m# pylint: disable=missing-docstring\u001b[0m\u001b[0;34m\u001b[0m\u001b[0;34m\u001b[0m\u001b[0m\n\u001b[1;32m    231\u001b[0m         \u001b[0mret\u001b[0m \u001b[0;34m=\u001b[0m \u001b[0mwrapper_helper\u001b[0m\u001b[0;34m(\u001b[0m\u001b[0;34m*\u001b[0m\u001b[0margs\u001b[0m\u001b[0;34m)\u001b[0m\u001b[0;34m\u001b[0m\u001b[0;34m\u001b[0m\u001b[0m\n\u001b[0;32m--> 232\u001b[0;31m         \u001b[0mret\u001b[0m \u001b[0;34m=\u001b[0m \u001b[0mstructure\u001b[0m\u001b[0;34m.\u001b[0m\u001b[0mto_tensor_list\u001b[0m\u001b[0;34m(\u001b[0m\u001b[0mself\u001b[0m\u001b[0;34m.\u001b[0m\u001b[0m_output_structure\u001b[0m\u001b[0;34m,\u001b[0m \u001b[0mret\u001b[0m\u001b[0;34m)\u001b[0m\u001b[0;34m\u001b[0m\u001b[0;34m\u001b[0m\u001b[0m\n\u001b[0m\u001b[1;32m    233\u001b[0m         \u001b[0;32mreturn\u001b[0m \u001b[0;34m[\u001b[0m\u001b[0mops\u001b[0m\u001b[0;34m.\u001b[0m\u001b[0mconvert_to_tensor\u001b[0m\u001b[0;34m(\u001b[0m\u001b[0mt\u001b[0m\u001b[0;34m)\u001b[0m \u001b[0;32mfor\u001b[0m \u001b[0mt\u001b[0m \u001b[0;32min\u001b[0m \u001b[0mret\u001b[0m\u001b[0;34m]\u001b[0m\u001b[0;34m\u001b[0m\u001b[0;34m\u001b[0m\u001b[0m\n\u001b[1;32m    234\u001b[0m \u001b[0;34m\u001b[0m\u001b[0m\n",
            "\u001b[0;32m/usr/local/lib/python3.11/dist-packages/tensorflow/python/data/util/structure.py\u001b[0m in \u001b[0;36mto_tensor_list\u001b[0;34m(element_spec, element)\u001b[0m\n\u001b[1;32m    409\u001b[0m   \u001b[0;31m# pylint: disable=protected-access\u001b[0m\u001b[0;34m\u001b[0m\u001b[0;34m\u001b[0m\u001b[0m\n\u001b[1;32m    410\u001b[0m   \u001b[0;31m# pylint: disable=g-long-lambda\u001b[0m\u001b[0;34m\u001b[0m\u001b[0;34m\u001b[0m\u001b[0m\n\u001b[0;32m--> 411\u001b[0;31m   return _to_tensor_list_helper(\n\u001b[0m\u001b[1;32m    412\u001b[0m       \u001b[0;32mlambda\u001b[0m \u001b[0mstate\u001b[0m\u001b[0;34m,\u001b[0m \u001b[0mspec\u001b[0m\u001b[0;34m,\u001b[0m \u001b[0mcomponent\u001b[0m\u001b[0;34m:\u001b[0m \u001b[0mstate\u001b[0m \u001b[0;34m+\u001b[0m \u001b[0mspec\u001b[0m\u001b[0;34m.\u001b[0m\u001b[0m_to_tensor_list\u001b[0m\u001b[0;34m(\u001b[0m\u001b[0mcomponent\u001b[0m\u001b[0;34m)\u001b[0m\u001b[0;34m,\u001b[0m\u001b[0;34m\u001b[0m\u001b[0;34m\u001b[0m\u001b[0m\n\u001b[1;32m    413\u001b[0m       element_spec, element)\n",
            "\u001b[0;32m/usr/local/lib/python3.11/dist-packages/tensorflow/python/data/util/structure.py\u001b[0m in \u001b[0;36m_to_tensor_list_helper\u001b[0;34m(encode_fn, element_spec, element)\u001b[0m\n\u001b[1;32m    340\u001b[0m   \"\"\"\n\u001b[1;32m    341\u001b[0m \u001b[0;34m\u001b[0m\u001b[0m\n\u001b[0;32m--> 342\u001b[0;31m   \u001b[0mnest\u001b[0m\u001b[0;34m.\u001b[0m\u001b[0massert_same_structure\u001b[0m\u001b[0;34m(\u001b[0m\u001b[0melement_spec\u001b[0m\u001b[0;34m,\u001b[0m \u001b[0melement\u001b[0m\u001b[0;34m)\u001b[0m\u001b[0;34m\u001b[0m\u001b[0;34m\u001b[0m\u001b[0m\n\u001b[0m\u001b[1;32m    343\u001b[0m \u001b[0;34m\u001b[0m\u001b[0m\n\u001b[1;32m    344\u001b[0m   \u001b[0;32mdef\u001b[0m \u001b[0mreduce_fn\u001b[0m\u001b[0;34m(\u001b[0m\u001b[0mstate\u001b[0m\u001b[0;34m,\u001b[0m \u001b[0mvalue\u001b[0m\u001b[0;34m)\u001b[0m\u001b[0;34m:\u001b[0m\u001b[0;34m\u001b[0m\u001b[0;34m\u001b[0m\u001b[0m\n",
            "\u001b[0;32m/usr/local/lib/python3.11/dist-packages/tensorflow/python/data/util/nest.py\u001b[0m in \u001b[0;36massert_same_structure\u001b[0;34m(nest1, nest2, check_types)\u001b[0m\n\u001b[1;32m     62\u001b[0m       \u001b[0mtheir\u001b[0m \u001b[0msubstructures\u001b[0m\u001b[0;34m.\u001b[0m \u001b[0mOnly\u001b[0m \u001b[0mpossible\u001b[0m \u001b[0;32mif\u001b[0m\u001b[0;31m \u001b[0m\u001b[0;31m`\u001b[0m\u001b[0mcheck_types\u001b[0m\u001b[0;31m`\u001b[0m \u001b[0;32mis\u001b[0m\u001b[0;31m \u001b[0m\u001b[0;31m`\u001b[0m\u001b[0;32mTrue\u001b[0m\u001b[0;31m`\u001b[0m\u001b[0;34m.\u001b[0m\u001b[0;34m\u001b[0m\u001b[0;34m\u001b[0m\u001b[0m\n\u001b[1;32m     63\u001b[0m   \"\"\"\n\u001b[0;32m---> 64\u001b[0;31m   nest_util.assert_same_structure(\n\u001b[0m\u001b[1;32m     65\u001b[0m       \u001b[0mnest_util\u001b[0m\u001b[0;34m.\u001b[0m\u001b[0mModality\u001b[0m\u001b[0;34m.\u001b[0m\u001b[0mDATA\u001b[0m\u001b[0;34m,\u001b[0m \u001b[0mnest1\u001b[0m\u001b[0;34m,\u001b[0m \u001b[0mnest2\u001b[0m\u001b[0;34m,\u001b[0m \u001b[0mcheck_types\u001b[0m\u001b[0;34m\u001b[0m\u001b[0;34m\u001b[0m\u001b[0m\n\u001b[1;32m     66\u001b[0m   )\n",
            "\u001b[0;32m/usr/local/lib/python3.11/dist-packages/tensorflow/python/util/nest_util.py\u001b[0m in \u001b[0;36massert_same_structure\u001b[0;34m(modality, nest1, nest2, check_types, expand_composites)\u001b[0m\n\u001b[1;32m    511\u001b[0m     \u001b[0m_tf_core_assert_same_structure\u001b[0m\u001b[0;34m(\u001b[0m\u001b[0mnest1\u001b[0m\u001b[0;34m,\u001b[0m \u001b[0mnest2\u001b[0m\u001b[0;34m,\u001b[0m \u001b[0mcheck_types\u001b[0m\u001b[0;34m,\u001b[0m \u001b[0mexpand_composites\u001b[0m\u001b[0;34m)\u001b[0m\u001b[0;34m\u001b[0m\u001b[0;34m\u001b[0m\u001b[0m\n\u001b[1;32m    512\u001b[0m   \u001b[0;32melif\u001b[0m \u001b[0mmodality\u001b[0m \u001b[0;34m==\u001b[0m \u001b[0mModality\u001b[0m\u001b[0;34m.\u001b[0m\u001b[0mDATA\u001b[0m\u001b[0;34m:\u001b[0m\u001b[0;34m\u001b[0m\u001b[0;34m\u001b[0m\u001b[0m\n\u001b[0;32m--> 513\u001b[0;31m     \u001b[0m_tf_data_assert_same_structure\u001b[0m\u001b[0;34m(\u001b[0m\u001b[0mnest1\u001b[0m\u001b[0;34m,\u001b[0m \u001b[0mnest2\u001b[0m\u001b[0;34m,\u001b[0m \u001b[0mcheck_types\u001b[0m\u001b[0;34m)\u001b[0m\u001b[0;34m\u001b[0m\u001b[0;34m\u001b[0m\u001b[0m\n\u001b[0m\u001b[1;32m    514\u001b[0m   \u001b[0;32melse\u001b[0m\u001b[0;34m:\u001b[0m\u001b[0;34m\u001b[0m\u001b[0;34m\u001b[0m\u001b[0m\n\u001b[1;32m    515\u001b[0m     raise ValueError(\n",
            "\u001b[0;32m/usr/local/lib/python3.11/dist-packages/tensorflow/python/util/nest_util.py\u001b[0m in \u001b[0;36m_tf_data_assert_same_structure\u001b[0;34m(nest1, nest2, check_types)\u001b[0m\n\u001b[1;32m    539\u001b[0m \u001b[0;34m\u001b[0m\u001b[0m\n\u001b[1;32m    540\u001b[0m \u001b[0;34m\u001b[0m\u001b[0m\n\u001b[0;32m--> 541\u001b[0;31m \u001b[0;32mdef\u001b[0m \u001b[0m_tf_data_assert_same_structure\u001b[0m\u001b[0;34m(\u001b[0m\u001b[0mnest1\u001b[0m\u001b[0;34m,\u001b[0m \u001b[0mnest2\u001b[0m\u001b[0;34m,\u001b[0m \u001b[0mcheck_types\u001b[0m\u001b[0;34m=\u001b[0m\u001b[0;32mTrue\u001b[0m\u001b[0;34m)\u001b[0m\u001b[0;34m:\u001b[0m\u001b[0;34m\u001b[0m\u001b[0;34m\u001b[0m\u001b[0m\n\u001b[0m\u001b[1;32m    542\u001b[0m   \u001b[0m_pywrap_utils\u001b[0m\u001b[0;34m.\u001b[0m\u001b[0mAssertSameStructureForData\u001b[0m\u001b[0;34m(\u001b[0m\u001b[0mnest1\u001b[0m\u001b[0;34m,\u001b[0m \u001b[0mnest2\u001b[0m\u001b[0;34m,\u001b[0m \u001b[0mcheck_types\u001b[0m\u001b[0;34m)\u001b[0m\u001b[0;34m\u001b[0m\u001b[0;34m\u001b[0m\u001b[0m\n\u001b[1;32m    543\u001b[0m \u001b[0;34m\u001b[0m\u001b[0m\n",
            "\u001b[0;31mKeyboardInterrupt\u001b[0m: "
          ]
        }
      ],
      "source": [
        "best_model_epochs_ = 100\n",
        "hp_model = ANNModel(input_shape)\n",
        "best_hp_params = rs_tuner.get_best_hyperparameters()[0]\n",
        "print(\"Refitting the model with the best hyperparams\", best_hp_params.values)\n",
        "tuned_model = hp_model.build(best_hp_params)\n",
        "model_history = hp_model.fit(\n",
        "    best_hp_params, tuned_model,\n",
        "    X_train, y_train, epochs = best_model_epochs_,\n",
        "    batch_size = batch_size_,\n",
        "    validation_split = val_split_,\n",
        "    callbacks = [callback_],\n",
        ")"
      ]
    },
    {
      "cell_type": "code",
      "execution_count": 69,
      "metadata": {
        "colab": {
          "base_uri": "https://localhost:8080/",
          "height": 928
        },
        "id": "Bpe-BRHXuisA",
        "outputId": "34718aa2-7465-44a1-9b60-652b906f2708"
      },
      "outputs": [
        {
          "output_type": "display_data",
          "data": {
            "text/plain": [
              "\u001b[1mModel: \"sequential_1\"\u001b[0m\n"
            ],
            "text/html": [
              "<pre style=\"white-space:pre;overflow-x:auto;line-height:normal;font-family:Menlo,'DejaVu Sans Mono',consolas,'Courier New',monospace\"><span style=\"font-weight: bold\">Model: \"sequential_1\"</span>\n",
              "</pre>\n"
            ]
          },
          "metadata": {}
        },
        {
          "output_type": "display_data",
          "data": {
            "text/plain": [
              "┏━━━━━━━━━━━━━━━━━━━━━━━━━━━━━━━━━┳━━━━━━━━━━━━━━━━━━━━━━━━┳━━━━━━━━━━━━━━━┓\n",
              "┃\u001b[1m \u001b[0m\u001b[1mLayer (type)                   \u001b[0m\u001b[1m \u001b[0m┃\u001b[1m \u001b[0m\u001b[1mOutput Shape          \u001b[0m\u001b[1m \u001b[0m┃\u001b[1m \u001b[0m\u001b[1m      Param #\u001b[0m\u001b[1m \u001b[0m┃\n",
              "┡━━━━━━━━━━━━━━━━━━━━━━━━━━━━━━━━━╇━━━━━━━━━━━━━━━━━━━━━━━━╇━━━━━━━━━━━━━━━┩\n",
              "│ lstm_4 (\u001b[38;5;33mLSTM\u001b[0m)                   │ (\u001b[38;5;45mNone\u001b[0m, \u001b[38;5;34m101\u001b[0m, \u001b[38;5;34m16\u001b[0m)        │         \u001b[38;5;34m1,920\u001b[0m │\n",
              "├─────────────────────────────────┼────────────────────────┼───────────────┤\n",
              "│ lstm_5 (\u001b[38;5;33mLSTM\u001b[0m)                   │ (\u001b[38;5;45mNone\u001b[0m, \u001b[38;5;34m101\u001b[0m, \u001b[38;5;34m16\u001b[0m)        │         \u001b[38;5;34m2,112\u001b[0m │\n",
              "├─────────────────────────────────┼────────────────────────┼───────────────┤\n",
              "│ lstm_6 (\u001b[38;5;33mLSTM\u001b[0m)                   │ (\u001b[38;5;45mNone\u001b[0m, \u001b[38;5;34m101\u001b[0m, \u001b[38;5;34m16\u001b[0m)        │         \u001b[38;5;34m2,112\u001b[0m │\n",
              "├─────────────────────────────────┼────────────────────────┼───────────────┤\n",
              "│ lstm_7 (\u001b[38;5;33mLSTM\u001b[0m)                   │ (\u001b[38;5;45mNone\u001b[0m, \u001b[38;5;34m101\u001b[0m, \u001b[38;5;34m16\u001b[0m)        │         \u001b[38;5;34m2,112\u001b[0m │\n",
              "├─────────────────────────────────┼────────────────────────┼───────────────┤\n",
              "│ flatten_1 (\u001b[38;5;33mFlatten\u001b[0m)             │ (\u001b[38;5;45mNone\u001b[0m, \u001b[38;5;34m1616\u001b[0m)           │             \u001b[38;5;34m0\u001b[0m │\n",
              "├─────────────────────────────────┼────────────────────────┼───────────────┤\n",
              "│ dense_2 (\u001b[38;5;33mDense\u001b[0m)                 │ (\u001b[38;5;45mNone\u001b[0m, \u001b[38;5;34m256\u001b[0m)            │       \u001b[38;5;34m413,952\u001b[0m │\n",
              "├─────────────────────────────────┼────────────────────────┼───────────────┤\n",
              "│ dense_3 (\u001b[38;5;33mDense\u001b[0m)                 │ (\u001b[38;5;45mNone\u001b[0m, \u001b[38;5;34m1\u001b[0m)              │           \u001b[38;5;34m257\u001b[0m │\n",
              "└─────────────────────────────────┴────────────────────────┴───────────────┘\n"
            ],
            "text/html": [
              "<pre style=\"white-space:pre;overflow-x:auto;line-height:normal;font-family:Menlo,'DejaVu Sans Mono',consolas,'Courier New',monospace\">┏━━━━━━━━━━━━━━━━━━━━━━━━━━━━━━━━━┳━━━━━━━━━━━━━━━━━━━━━━━━┳━━━━━━━━━━━━━━━┓\n",
              "┃<span style=\"font-weight: bold\"> Layer (type)                    </span>┃<span style=\"font-weight: bold\"> Output Shape           </span>┃<span style=\"font-weight: bold\">       Param # </span>┃\n",
              "┡━━━━━━━━━━━━━━━━━━━━━━━━━━━━━━━━━╇━━━━━━━━━━━━━━━━━━━━━━━━╇━━━━━━━━━━━━━━━┩\n",
              "│ lstm_4 (<span style=\"color: #0087ff; text-decoration-color: #0087ff\">LSTM</span>)                   │ (<span style=\"color: #00d7ff; text-decoration-color: #00d7ff\">None</span>, <span style=\"color: #00af00; text-decoration-color: #00af00\">101</span>, <span style=\"color: #00af00; text-decoration-color: #00af00\">16</span>)        │         <span style=\"color: #00af00; text-decoration-color: #00af00\">1,920</span> │\n",
              "├─────────────────────────────────┼────────────────────────┼───────────────┤\n",
              "│ lstm_5 (<span style=\"color: #0087ff; text-decoration-color: #0087ff\">LSTM</span>)                   │ (<span style=\"color: #00d7ff; text-decoration-color: #00d7ff\">None</span>, <span style=\"color: #00af00; text-decoration-color: #00af00\">101</span>, <span style=\"color: #00af00; text-decoration-color: #00af00\">16</span>)        │         <span style=\"color: #00af00; text-decoration-color: #00af00\">2,112</span> │\n",
              "├─────────────────────────────────┼────────────────────────┼───────────────┤\n",
              "│ lstm_6 (<span style=\"color: #0087ff; text-decoration-color: #0087ff\">LSTM</span>)                   │ (<span style=\"color: #00d7ff; text-decoration-color: #00d7ff\">None</span>, <span style=\"color: #00af00; text-decoration-color: #00af00\">101</span>, <span style=\"color: #00af00; text-decoration-color: #00af00\">16</span>)        │         <span style=\"color: #00af00; text-decoration-color: #00af00\">2,112</span> │\n",
              "├─────────────────────────────────┼────────────────────────┼───────────────┤\n",
              "│ lstm_7 (<span style=\"color: #0087ff; text-decoration-color: #0087ff\">LSTM</span>)                   │ (<span style=\"color: #00d7ff; text-decoration-color: #00d7ff\">None</span>, <span style=\"color: #00af00; text-decoration-color: #00af00\">101</span>, <span style=\"color: #00af00; text-decoration-color: #00af00\">16</span>)        │         <span style=\"color: #00af00; text-decoration-color: #00af00\">2,112</span> │\n",
              "├─────────────────────────────────┼────────────────────────┼───────────────┤\n",
              "│ flatten_1 (<span style=\"color: #0087ff; text-decoration-color: #0087ff\">Flatten</span>)             │ (<span style=\"color: #00d7ff; text-decoration-color: #00d7ff\">None</span>, <span style=\"color: #00af00; text-decoration-color: #00af00\">1616</span>)           │             <span style=\"color: #00af00; text-decoration-color: #00af00\">0</span> │\n",
              "├─────────────────────────────────┼────────────────────────┼───────────────┤\n",
              "│ dense_2 (<span style=\"color: #0087ff; text-decoration-color: #0087ff\">Dense</span>)                 │ (<span style=\"color: #00d7ff; text-decoration-color: #00d7ff\">None</span>, <span style=\"color: #00af00; text-decoration-color: #00af00\">256</span>)            │       <span style=\"color: #00af00; text-decoration-color: #00af00\">413,952</span> │\n",
              "├─────────────────────────────────┼────────────────────────┼───────────────┤\n",
              "│ dense_3 (<span style=\"color: #0087ff; text-decoration-color: #0087ff\">Dense</span>)                 │ (<span style=\"color: #00d7ff; text-decoration-color: #00d7ff\">None</span>, <span style=\"color: #00af00; text-decoration-color: #00af00\">1</span>)              │           <span style=\"color: #00af00; text-decoration-color: #00af00\">257</span> │\n",
              "└─────────────────────────────────┴────────────────────────┴───────────────┘\n",
              "</pre>\n"
            ]
          },
          "metadata": {}
        },
        {
          "output_type": "display_data",
          "data": {
            "text/plain": [
              "\u001b[1m Total params: \u001b[0m\u001b[38;5;34m1,267,397\u001b[0m (4.83 MB)\n"
            ],
            "text/html": [
              "<pre style=\"white-space:pre;overflow-x:auto;line-height:normal;font-family:Menlo,'DejaVu Sans Mono',consolas,'Courier New',monospace\"><span style=\"font-weight: bold\"> Total params: </span><span style=\"color: #00af00; text-decoration-color: #00af00\">1,267,397</span> (4.83 MB)\n",
              "</pre>\n"
            ]
          },
          "metadata": {}
        },
        {
          "output_type": "display_data",
          "data": {
            "text/plain": [
              "\u001b[1m Trainable params: \u001b[0m\u001b[38;5;34m422,465\u001b[0m (1.61 MB)\n"
            ],
            "text/html": [
              "<pre style=\"white-space:pre;overflow-x:auto;line-height:normal;font-family:Menlo,'DejaVu Sans Mono',consolas,'Courier New',monospace\"><span style=\"font-weight: bold\"> Trainable params: </span><span style=\"color: #00af00; text-decoration-color: #00af00\">422,465</span> (1.61 MB)\n",
              "</pre>\n"
            ]
          },
          "metadata": {}
        },
        {
          "output_type": "display_data",
          "data": {
            "text/plain": [
              "\u001b[1m Non-trainable params: \u001b[0m\u001b[38;5;34m0\u001b[0m (0.00 B)\n"
            ],
            "text/html": [
              "<pre style=\"white-space:pre;overflow-x:auto;line-height:normal;font-family:Menlo,'DejaVu Sans Mono',consolas,'Courier New',monospace\"><span style=\"font-weight: bold\"> Non-trainable params: </span><span style=\"color: #00af00; text-decoration-color: #00af00\">0</span> (0.00 B)\n",
              "</pre>\n"
            ]
          },
          "metadata": {}
        },
        {
          "output_type": "display_data",
          "data": {
            "text/plain": [
              "\u001b[1m Optimizer params: \u001b[0m\u001b[38;5;34m844,932\u001b[0m (3.22 MB)\n"
            ],
            "text/html": [
              "<pre style=\"white-space:pre;overflow-x:auto;line-height:normal;font-family:Menlo,'DejaVu Sans Mono',consolas,'Courier New',monospace\"><span style=\"font-weight: bold\"> Optimizer params: </span><span style=\"color: #00af00; text-decoration-color: #00af00\">844,932</span> (3.22 MB)\n",
              "</pre>\n"
            ]
          },
          "metadata": {}
        },
        {
          "output_type": "execute_result",
          "data": {
            "image/png": "[encoded data removed]",
            "text/plain": [
              "<IPython.core.display.Image object>"
            ]
          },
          "metadata": {},
          "execution_count": 69
        }
      ],
      "source": [
        "tuned_model.summary()\n",
        "tf.keras.utils.plot_model(\n",
        "    model=tuned_model, to_file=\"arch.png\",\n",
        "    # show_layer_activations=True, show_shapes=True,\n",
        "    show_layer_names=True,\n",
        "    dpi=70\n",
        ")"
      ]
    },
    {
      "cell_type": "markdown",
      "metadata": {
        "id": "a2ccP6EwX1jt"
      },
      "source": [
        "Evaluate the results"
      ]
    },
    {
      "cell_type": "code",
      "execution_count": 70,
      "metadata": {
        "id": "kGqfQLuX0ALi"
      },
      "outputs": [],
      "source": [
        "# X_test = np.concatenate((X_test, X_train[-1000:]), axis=0)\n",
        "# y_test = np.concatenate((y_test, y_train[-1000:]), axis=0)"
      ]
    },
    {
      "cell_type": "code",
      "execution_count": 71,
      "metadata": {
        "id": "6rxzTjjl0HiC",
        "colab": {
          "base_uri": "https://localhost:8080/"
        },
        "outputId": "6ec4fe14-05ed-4f00-e128-3f536b22de83"
      },
      "outputs": [
        {
          "output_type": "stream",
          "name": "stdout",
          "text": [
            "\u001b[1m41/41\u001b[0m \u001b[32m━━━━━━━━━━━━━━━━━━━━\u001b[0m\u001b[37m\u001b[0m \u001b[1m1s\u001b[0m 15ms/step - accuracy: 0.8053 - auc_1: 0.8732 - f1_score: 0.6970 - loss: 0.5002\n",
            "[0.45881667733192444, 0.8204144239425659, 0.6751397848129272, 0.8930521607398987]\n"
          ]
        },
        {
          "output_type": "execute_result",
          "data": {
            "text/plain": [
              "['loss', 'compile_metrics']"
            ]
          },
          "metadata": {},
          "execution_count": 71
        }
      ],
      "source": [
        "print(tuned_model.evaluate(X_test, y_test))\n",
        "tuned_model.metrics_names"
      ]
    },
    {
      "cell_type": "code",
      "execution_count": 72,
      "metadata": {
        "id": "l3VGR-SvqFGx",
        "colab": {
          "base_uri": "https://localhost:8080/",
          "height": 499
        },
        "outputId": "4c446fa0-6569-4efa-e909-5bbc56ddac6c"
      },
      "outputs": [
        {
          "output_type": "stream",
          "name": "stdout",
          "text": [
            "\u001b[1m41/41\u001b[0m \u001b[32m━━━━━━━━━━━━━━━━━━━━\u001b[0m\u001b[37m\u001b[0m \u001b[1m1s\u001b[0m 14ms/step\n",
            "(1303, 1)\n",
            "AUC score: 0.8931241397514943\n"
          ]
        },
        {
          "output_type": "execute_result",
          "data": {
            "text/plain": [
              "[<matplotlib.lines.Line2D at 0x7ecc8d024ad0>]"
            ]
          },
          "metadata": {},
          "execution_count": 72
        },
        {
          "output_type": "display_data",
          "data": {
            "text/plain": [
              "<Figure size 640x480 with 1 Axes>"
            ],
            "image/png": "[encoded data removed]"
          },
          "metadata": {}
        }
      ],
      "source": [
        "y_pred = tuned_model.predict(X_test)\n",
        "print(y_pred.shape)\n",
        "print(\"AUC score:\", roc_auc_score(y_test, y_pred))\n",
        "fpr, tpr, thresh = roc_curve(y_test, y_pred)\n",
        "# # print(\"Thresh:\", thresh)\n",
        "# # print(\"FPR, TPR\", fpr, tpr)\n",
        "plt.plot([0, 1], [0, 1])\n",
        "plt.plot(fpr, tpr)\n",
        "# plt.plot(thresh)"
      ]
    },
    {
      "cell_type": "code",
      "execution_count": 73,
      "metadata": {
        "id": "RRperE-CRSkt",
        "colab": {
          "base_uri": "https://localhost:8080/",
          "height": 542
        },
        "outputId": "d67004c9-0e23-4e4d-905d-eb48e914dcbb"
      },
      "outputs": [
        {
          "output_type": "display_data",
          "data": {
            "text/html": [
              "<html>\n",
              "<head><meta charset=\"utf-8\" /></head>\n",
              "<body>\n",
              "    <div>            <script src=\"https://cdnjs.cloudflare.com/ajax/libs/mathjax/2.7.5/MathJax.js?config=TeX-AMS-MML_SVG\"></script><script type=\"text/javascript\">if (window.MathJax && window.MathJax.Hub && window.MathJax.Hub.Config) {window.MathJax.Hub.Config({SVG: {font: \"STIX-Web\"}});}</script>                <script type=\"text/javascript\">window.PlotlyConfig = {MathJaxConfig: 'local'};</script>\n",
              "        <script charset=\"utf-8\" src=\"https://cdn.plot.ly/plotly-2.35.2.min.js\"></script>                <div id=\"0ecc405e-f6a9-40f2-8de2-6306277d7695\" class=\"plotly-graph-div\" style=\"height:525px; width:100%;\"></div>            <script type=\"text/javascript\">                                    window.PLOTLYENV=window.PLOTLYENV || {};                                    if (document.getElementById(\"0ecc405e-f6a9-40f2-8de2-6306277d7695\")) {                    Plotly.newPlot(                        \"0ecc405e-f6a9-40f2-8de2-6306277d7695\",                        [{\"line\":{\"color\":\"darkorange\",\"width\":2},\"mode\":\"lines\",\"text\":[null,0.999113142490387,0.9955487251281738,0.9955050349235535,0.9949894547462463,0.9949477910995483,0.9948593378067017,0.9948260188102722,0.9948134422302246,0.9947974681854248,0.994629442691803,0.9946236610412598,0.9902245402336121,0.9899930357933044,0.9864174127578735,0.9863482713699341,0.9855384826660156,0.9854224920272827,0.9852088689804077,0.9851993322372437,0.983668863773346,0.9833753705024719,0.9781506061553955,0.9780900478363037,0.9743631482124329,0.9741868376731873,0.9736546277999878,0.9735725522041321,0.9700437784194946,0.9699389338493347,0.9666500091552734,0.9664311408996582,0.9642634391784668,0.9641817808151245,0.9615834951400757,0.9615697860717773,0.9533635973930359,0.9530922174453735,0.9529167413711548,0.951785147190094,0.9513288736343384,0.9512736797332764,0.9492670297622681,0.9491021633148193,0.9489714503288269,0.9485622048377991,0.9467032551765442,0.9455801844596863,0.9451180696487427,0.9448173642158508,0.9407837986946106,0.9403181076049805,0.9388577938079834,0.9385620951652527,0.9300982356071472,0.929813802242279,0.926180362701416,0.9258556962013245,0.9217090606689453,0.9199053049087524,0.9170583486557007,0.915653645992279,0.9151265025138855,0.9149490594863892,0.9136553406715393,0.9135258197784424,0.9134697318077087,0.9129471182823181,0.9121526479721069,0.9118034243583679,0.9105204939842224,0.9098120331764221,0.9081801772117615,0.9077936410903931,0.9068311452865601,0.904984176158905,0.9016884565353394,0.9014663696289062,0.9011150598526001,0.9008259177207947,0.8943354487419128,0.8929005861282349,0.8917821645736694,0.8916720151901245,0.8910642266273499,0.8895702362060547,0.8892072439193726,0.8887021541595459,0.8885308504104614,0.8879161477088928,0.884627640247345,0.8837624788284302,0.8780990242958069,0.8753106594085693,0.8747708201408386,0.8739940524101257,0.8716607689857483,0.8702139258384705,0.8651487827301025,0.8650925755500793,0.8611501455307007,0.861009955406189,0.8543211221694946,0.8542596697807312,0.8484679460525513,0.8474637269973755,0.8460090756416321,0.8440377116203308,0.8371841907501221,0.8365156054496765,0.8297520875930786,0.8289483189582825,0.8205190300941467,0.8192229866981506,0.8145390152931213,0.8117654323577881,0.8043628334999084,0.8028423190116882,0.7984873056411743,0.7965409755706787,0.7934595346450806,0.793339729309082,0.7828232049942017,0.7809876799583435,0.7727943062782288,0.769291341304779,0.7569499611854553,0.7555176615715027,0.74821537733078,0.7475442886352539,0.7467926740646362,0.7407656311988831,0.740759551525116,0.7371559739112854,0.7289413213729858,0.7235061526298523,0.7225039005279541,0.7214915752410889,0.7208613753318787,0.7179204821586609,0.7129389047622681,0.7122554183006287,0.7097209692001343,0.7083706259727478,0.7069050073623657,0.695446252822876,0.6929689645767212,0.690448522567749,0.6828255653381348,0.6802812814712524,0.6765945553779602,0.6729121804237366,0.6682066321372986,0.6655834317207336,0.6599722504615784,0.6596133708953857,0.6513611674308777,0.6487563848495483,0.6439809799194336,0.6410772204399109,0.6340007185935974,0.6339448690414429,0.6317771077156067,0.630590558052063,0.6300203204154968,0.6266565918922424,0.619377851486206,0.614918053150177,0.6055393218994141,0.6015768051147461,0.593445897102356,0.5927636623382568,0.585851788520813,0.5838510990142822,0.5814855098724365,0.5758551359176636,0.5744481086730957,0.5658473968505859,0.5591135025024414,0.5580077171325684,0.5514804124832153,0.5481128692626953,0.5420058965682983,0.5392882823944092,0.5174576044082642,0.5097041130065918,0.5051562190055847,0.502698540687561,0.4990476667881012,0.4981161057949066,0.4968414902687073,0.49499884247779846,0.49396228790283203,0.4916002154350281,0.4894197881221771,0.4878635108470917,0.4865209460258484,0.483150839805603,0.4763253629207611,0.4712742567062378,0.47055524587631226,0.46977633237838745,0.4686800539493561,0.4677612781524658,0.462325781583786,0.45625555515289307,0.45316803455352783,0.44988760352134705,0.44970664381980896,0.44650208950042725,0.4389711022377014,0.43068939447402954,0.4301067590713501,0.4299270808696747,0.4214595556259155,0.417785108089447,0.4052914083003998,0.3903742730617523,0.3881479501724243,0.37371084094047546,0.37274181842803955,0.36948758363723755,0.3537128269672394,0.35169166326522827,0.34535643458366394,0.3434154689311981,0.34086763858795166,0.3374786376953125,0.33653756976127625,0.331271231174469,0.3311595618724823,0.32660096883773804,0.3157723844051361,0.3122081160545349,0.3087325394153595,0.30785852670669556,0.29930588603019714,0.28998562693595886,0.2891162931919098,0.280244380235672,0.2777528166770935,0.2771044969558716,0.2762281894683838,0.25266844034194946,0.2525697350502014,0.2453773319721222,0.24410933256149292,0.2302928864955902,0.22597673535346985,0.22291338443756104,0.216206893324852,0.19028255343437195,0.1882377564907074,0.18785902857780457,0.18700234591960907,0.17800945043563843,0.17525017261505127,0.17417770624160767,0.1740274876356125,0.17064255475997925,0.16986258327960968,0.16969333589076996,0.16761302947998047,0.1656922549009323,0.16374440491199493,0.1507168710231781,0.1506843864917755,0.13968969881534576,0.1363433450460434,0.13325285911560059,0.13017991185188293,0.127992182970047,0.1271289438009262,0.12698039412498474,0.12289993464946747,0.11201741546392441,0.11088871210813522,0.10802380740642548,0.10784295946359634,0.10433174669742584,0.10348375886678696,0.09644167870283127,0.09605970233678818,0.093760184943676,0.0926894024014473,0.09102519601583481,0.09055958688259125,0.08707594871520996,0.08581798523664474,0.08362238109111786,0.08331841230392456,0.08255764842033386,0.0820419117808342,0.07824500650167465,0.07791893184185028,0.0748467668890953,0.07414130866527557,0.0693231001496315,0.06899111717939377,0.06412160396575928,0.061177466064691544,0.059925585985183716,0.0597720742225647,0.05973783880472183,0.059210844337940216,0.055888280272483826,0.055579762905836105,0.04910774901509285,0.047938670963048935,0.04735344648361206,0.04670676961541176,0.04595109447836876,0.045410990715026855,0.03980523720383644,0.039249490946531296,0.035786207765340805,0.03573969006538391,0.034812696278095245,0.03455985337495804,0.03029187023639679,0.029350219294428825,0.023836081847548485,0.023818524554371834,0.022815028205513954,0.02277311123907566,0.018434759229421616,0.01838546060025692,0.017993206158280373,0.017992928624153137,0.015359967947006226,0.015231360681355,0.014163767918944359,0.014122340828180313,0.01315790694206953,0.012652374804019928,0.008784018456935883,0.008682504296302795,0.007351952139288187,0.007306740153580904,0.0069862972013652325,0.006930218543857336,0.005137621890753508,0.005125190131366253,0.0010579549707472324,0.0010566877899691463,0.00031582117662765086],\"x\":[0.0,0.0,0.0,0.001564945226917058,0.001564945226917058,0.003129890453834116,0.003129890453834116,0.004694835680751174,0.004694835680751174,0.006259780907668232,0.006259780907668232,0.00782472613458529,0.00782472613458529,0.010954616588419406,0.010954616588419406,0.012519561815336464,0.012519561815336464,0.014084507042253521,0.014084507042253521,0.01564945226917058,0.01564945226917058,0.017214397496087636,0.017214397496087636,0.018779342723004695,0.018779342723004695,0.02034428794992175,0.02034428794992175,0.02190923317683881,0.02190923317683881,0.023474178403755867,0.023474178403755867,0.026604068857589983,0.026604068857589983,0.028169014084507043,0.028169014084507043,0.0297339593114241,0.0297339593114241,0.03129890453834116,0.03129890453834116,0.03442879499217527,0.03442879499217527,0.03755868544600939,0.03755868544600939,0.03912363067292645,0.03912363067292645,0.0406885758998435,0.0406885758998435,0.04225352112676056,0.04225352112676056,0.04381846635367762,0.04381846635367762,0.046948356807511735,0.046948356807511735,0.048513302034428794,0.048513302034428794,0.050078247261345854,0.050078247261345854,0.051643192488262914,0.051643192488262914,0.053208137715179966,0.053208137715179966,0.056338028169014086,0.056338028169014086,0.0594679186228482,0.0594679186228482,0.06103286384976526,0.06103286384976526,0.06259780907668232,0.06259780907668232,0.06572769953051644,0.06572769953051644,0.06729264475743349,0.06729264475743349,0.07042253521126761,0.07042253521126761,0.07355242566510173,0.07355242566510173,0.07511737089201878,0.07511737089201878,0.07668231611893583,0.07668231611893583,0.07981220657276995,0.07981220657276995,0.081377151799687,0.081377151799687,0.08294209702660407,0.08294209702660407,0.08607198748043818,0.08607198748043818,0.08763693270735524,0.08763693270735524,0.0892018779342723,0.0892018779342723,0.09233176838810642,0.09233176838810642,0.09389671361502347,0.09389671361502347,0.09546165884194054,0.09546165884194054,0.09702660406885759,0.09702660406885759,0.09859154929577464,0.09859154929577464,0.10015649452269171,0.10015649452269171,0.10172143974960876,0.10172143974960876,0.10485133020344288,0.10485133020344288,0.10641627543035993,0.10641627543035993,0.107981220657277,0.107981220657277,0.1111111111111111,0.1111111111111111,0.11267605633802817,0.11267605633802817,0.11424100156494522,0.11424100156494522,0.11580594679186229,0.11580594679186229,0.11737089201877934,0.11737089201877934,0.1189358372456964,0.1189358372456964,0.12206572769953052,0.12206572769953052,0.12519561815336464,0.12519561815336464,0.1267605633802817,0.1267605633802817,0.1298904538341158,0.1298904538341158,0.13145539906103287,0.13145539906103287,0.13458528951486698,0.13458528951486698,0.13615023474178403,0.13615023474178403,0.13771517996870108,0.13771517996870108,0.13928012519561817,0.13928012519561817,0.14084507042253522,0.14084507042253522,0.14553990610328638,0.14553990610328638,0.1486697965571205,0.1486697965571205,0.15023474178403756,0.15023474178403756,0.15179968701095461,0.15179968701095461,0.15492957746478872,0.15492957746478872,0.1564945226917058,0.1564945226917058,0.15805946791862285,0.15805946791862285,0.1596244131455399,0.1596244131455399,0.16118935837245696,0.16118935837245696,0.162754303599374,0.162754303599374,0.16588419405320814,0.16588419405320814,0.16901408450704225,0.16901408450704225,0.1705790297339593,0.1705790297339593,0.17214397496087636,0.17214397496087636,0.17370892018779344,0.17370892018779344,0.1752738654147105,0.1752738654147105,0.17996870109546165,0.17996870109546165,0.18153364632237873,0.18153364632237873,0.18309859154929578,0.18309859154929578,0.18622848200312989,0.18622848200312989,0.19092331768388107,0.19092331768388107,0.19561815336463223,0.19561815336463223,0.19718309859154928,0.19718309859154928,0.20031298904538342,0.20031298904538342,0.20344287949921752,0.20344287949921752,0.20500782472613457,0.20500782472613457,0.20657276995305165,0.20657276995305165,0.2112676056338028,0.2112676056338028,0.21439749608763695,0.21439749608763695,0.215962441314554,0.215962441314554,0.2190923317683881,0.2190923317683881,0.2222222222222222,0.2222222222222222,0.2237871674491393,0.2237871674491393,0.2269170579029734,0.2269170579029734,0.22848200312989045,0.22848200312989045,0.2300469483568075,0.2300469483568075,0.2378716744913928,0.2378716744913928,0.24413145539906103,0.24413145539906103,0.2519561815336463,0.2519561815336463,0.25508607198748046,0.25508607198748046,0.25821596244131456,0.25821596244131456,0.2597809076682316,0.2597809076682316,0.26291079812206575,0.26291079812206575,0.2644757433489828,0.2644757433489828,0.26604068857589985,0.26604068857589985,0.2676056338028169,0.2676056338028169,0.27073552425665104,0.27073552425665104,0.27386541471048514,0.27386541471048514,0.27699530516431925,0.27699530516431925,0.28325508607198746,0.28325508607198746,0.28794992175273865,0.28794992175273865,0.29264475743348983,0.29264475743348983,0.297339593114241,0.297339593114241,0.31768388106416273,0.31768388106416273,0.3192488262910798,0.3192488262910798,0.325508607198748,0.325508607198748,0.3270735524256651,0.3270735524256651,0.3286384976525822,0.3286384976525822,0.3302034428794992,0.3302034428794992,0.3333333333333333,0.3333333333333333,0.3442879499217527,0.3442879499217527,0.352112676056338,0.352112676056338,0.3615023474178404,0.3615023474178404,0.3646322378716745,0.3646322378716745,0.36619718309859156,0.36619718309859156,0.38028169014084506,0.38028169014084506,0.38967136150234744,0.38967136150234744,0.39123630672926446,0.39123630672926446,0.40062597809076683,0.40062597809076683,0.40375586854460094,0.40375586854460094,0.4084507042253521,0.4084507042253521,0.4131455399061033,0.4131455399061033,0.4162754303599374,0.4162754303599374,0.4194053208137715,0.4194053208137715,0.4381846635367762,0.4381846635367762,0.4460093896713615,0.4460093896713615,0.460093896713615,0.460093896713615,0.46635367762128327,0.46635367762128327,0.47104851330203446,0.47104851330203446,0.4726134585289515,0.4726134585289515,0.48200312989045385,0.48200312989045385,0.5023474178403756,0.5023474178403756,0.5054773082942097,0.5054773082942097,0.5101721439749609,0.5101721439749609,0.5258215962441315,0.5258215962441315,0.5383411580594679,0.5383411580594679,0.5414710485133021,0.5414710485133021,0.568075117370892,0.568075117370892,0.6134585289514867,0.6134585289514867,0.6244131455399061,0.6244131455399061,0.6619718309859155,0.6619718309859155,0.6651017214397497,0.6651017214397497,0.6901408450704225,0.6901408450704225,0.704225352112676,0.704225352112676,0.7136150234741784,0.7136150234741784,0.7668231611893583,0.7668231611893583,0.7887323943661971,0.7887323943661971,0.7949921752738655,0.7949921752738655,0.8356807511737089,0.8356807511737089,0.9796557120500783,0.9796557120500783,1.0],\"y\":[0.0,0.0015060240963855422,0.03162650602409638,0.03162650602409638,0.046686746987951805,0.046686746987951805,0.04969879518072289,0.04969879518072289,0.05120481927710843,0.05120481927710843,0.060240963855421686,0.060240963855421686,0.13253012048192772,0.13253012048192772,0.18825301204819278,0.18825301204819278,0.2033132530120482,0.2033132530120482,0.2063253012048193,0.2063253012048193,0.2289156626506024,0.2289156626506024,0.28313253012048195,0.28313253012048195,0.3192771084337349,0.3192771084337349,0.32228915662650603,0.32228915662650603,0.34789156626506024,0.34789156626506024,0.3704819277108434,0.3704819277108434,0.3825301204819277,0.3825301204819277,0.40210843373493976,0.40210843373493976,0.44126506024096385,0.44126506024096385,0.4442771084337349,0.4442771084337349,0.4503012048192771,0.4503012048192771,0.4623493975903614,0.4623493975903614,0.463855421686747,0.463855421686747,0.4743975903614458,0.4743975903614458,0.47740963855421686,0.47740963855421686,0.4924698795180723,0.4924698795180723,0.5045180722891566,0.5045180722891566,0.5376506024096386,0.5376506024096386,0.5421686746987951,0.5421686746987951,0.5512048192771084,0.5512048192771084,0.5602409638554217,0.5602409638554217,0.5617469879518072,0.5617469879518072,0.5632530120481928,0.5632530120481928,0.5647590361445783,0.5647590361445783,0.5662650602409639,0.5662650602409639,0.5692771084337349,0.5692771084337349,0.5737951807228916,0.5737951807228916,0.5798192771084337,0.5798192771084337,0.5843373493975904,0.5843373493975904,0.5858433734939759,0.5858433734939759,0.6039156626506024,0.6039156626506024,0.6054216867469879,0.6054216867469879,0.608433734939759,0.608433734939759,0.6114457831325302,0.6114457831325302,0.6144578313253012,0.6144578313253012,0.6174698795180723,0.6174698795180723,0.6325301204819277,0.6325301204819277,0.6370481927710844,0.6370481927710844,0.6400602409638554,0.6400602409638554,0.6430722891566265,0.6430722891566265,0.6536144578313253,0.6536144578313253,0.6596385542168675,0.6596385542168675,0.6701807228915663,0.6701807228915663,0.6716867469879518,0.6716867469879518,0.677710843373494,0.677710843373494,0.6792168674698795,0.6792168674698795,0.6912650602409639,0.6912650602409639,0.6957831325301205,0.6957831325301205,0.7078313253012049,0.7078313253012049,0.713855421686747,0.713855421686747,0.7153614457831325,0.7153614457831325,0.7213855421686747,0.7213855421686747,0.7243975903614458,0.7243975903614458,0.733433734939759,0.733433734939759,0.7394578313253012,0.7394578313253012,0.7424698795180723,0.7424698795180723,0.7439759036144579,0.7439759036144579,0.7484939759036144,0.7484939759036144,0.75,0.75,0.7515060240963856,0.7515060240963856,0.7575301204819277,0.7575301204819277,0.7605421686746988,0.7605421686746988,0.7620481927710844,0.7620481927710844,0.7635542168674698,0.7635542168674698,0.7680722891566265,0.7680722891566265,0.7725903614457831,0.7725903614457831,0.7740963855421686,0.7740963855421686,0.7756024096385542,0.7756024096385542,0.7816265060240963,0.7816265060240963,0.7891566265060241,0.7891566265060241,0.7921686746987951,0.7921686746987951,0.7951807228915663,0.7951807228915663,0.7966867469879518,0.7966867469879518,0.8012048192771084,0.8012048192771084,0.802710843373494,0.802710843373494,0.8102409638554217,0.8102409638554217,0.8147590361445783,0.8147590361445783,0.8177710843373494,0.8177710843373494,0.8192771084337349,0.8192771084337349,0.8207831325301205,0.8207831325301205,0.822289156626506,0.822289156626506,0.8268072289156626,0.8268072289156626,0.8328313253012049,0.8328313253012049,0.8358433734939759,0.8358433734939759,0.8373493975903614,0.8373493975903614,0.838855421686747,0.838855421686747,0.8403614457831325,0.8403614457831325,0.8433734939759037,0.8433734939759037,0.8463855421686747,0.8463855421686747,0.8478915662650602,0.8478915662650602,0.8493975903614458,0.8493975903614458,0.8509036144578314,0.8509036144578314,0.8524096385542169,0.8524096385542169,0.8539156626506024,0.8539156626506024,0.8569277108433735,0.8569277108433735,0.8614457831325302,0.8614457831325302,0.8629518072289156,0.8629518072289156,0.8644578313253012,0.8644578313253012,0.8674698795180723,0.8674698795180723,0.8689759036144579,0.8689759036144579,0.8719879518072289,0.8719879518072289,0.8765060240963856,0.8765060240963856,0.8825301204819277,0.8825301204819277,0.8840361445783133,0.8840361445783133,0.8855421686746988,0.8855421686746988,0.8870481927710844,0.8870481927710844,0.8930722891566265,0.8930722891566265,0.8960843373493976,0.8960843373493976,0.8990963855421686,0.8990963855421686,0.9006024096385542,0.9006024096385542,0.9036144578313253,0.9036144578313253,0.9051204819277109,0.9051204819277109,0.9066265060240963,0.9066265060240963,0.9081325301204819,0.9081325301204819,0.9096385542168675,0.9096385542168675,0.9126506024096386,0.9126506024096386,0.9141566265060241,0.9141566265060241,0.9156626506024096,0.9156626506024096,0.9186746987951807,0.9186746987951807,0.9201807228915663,0.9201807228915663,0.9216867469879518,0.9216867469879518,0.9231927710843374,0.9231927710843374,0.9262048192771084,0.9262048192771084,0.927710843373494,0.927710843373494,0.9292168674698795,0.9292168674698795,0.9307228915662651,0.9307228915662651,0.9322289156626506,0.9322289156626506,0.9337349397590361,0.9337349397590361,0.9352409638554217,0.9352409638554217,0.9382530120481928,0.9382530120481928,0.9397590361445783,0.9397590361445783,0.9427710843373494,0.9427710843373494,0.9457831325301205,0.9457831325301205,0.947289156626506,0.947289156626506,0.9487951807228916,0.9487951807228916,0.9503012048192772,0.9503012048192772,0.9518072289156626,0.9518072289156626,0.9548192771084337,0.9548192771084337,0.9563253012048193,0.9563253012048193,0.9593373493975904,0.9593373493975904,0.9608433734939759,0.9608433734939759,0.9623493975903614,0.9623493975903614,0.963855421686747,0.963855421686747,0.9653614457831325,0.9653614457831325,0.9668674698795181,0.9668674698795181,0.9683734939759037,0.9683734939759037,0.9698795180722891,0.9698795180722891,0.9728915662650602,0.9728915662650602,0.9743975903614458,0.9743975903614458,0.9759036144578314,0.9759036144578314,0.9774096385542169,0.9774096385542169,0.9789156626506024,0.9789156626506024,0.9804216867469879,0.9804216867469879,0.9819277108433735,0.9819277108433735,0.983433734939759,0.983433734939759,0.9849397590361446,0.9849397590361446,0.9864457831325302,0.9864457831325302,0.9909638554216867,0.9909638554216867,0.9939759036144579,0.9939759036144579,0.9954819277108434,0.9954819277108434,0.9969879518072289,0.9969879518072289,0.9984939759036144,0.9984939759036144,1.0,1.0],\"type\":\"scatter\"},{\"line\":{\"color\":\"navy\",\"dash\":\"dash\",\"width\":2},\"mode\":\"lines\",\"name\":\"Reference Line\",\"x\":[0,1],\"y\":[0,1],\"type\":\"scatter\"}],                        {\"template\":{\"data\":{\"histogram2dcontour\":[{\"type\":\"histogram2dcontour\",\"colorbar\":{\"outlinewidth\":0,\"ticks\":\"\"},\"colorscale\":[[0.0,\"#0d0887\"],[0.1111111111111111,\"#46039f\"],[0.2222222222222222,\"#7201a8\"],[0.3333333333333333,\"#9c179e\"],[0.4444444444444444,\"#bd3786\"],[0.5555555555555556,\"#d8576b\"],[0.6666666666666666,\"#ed7953\"],[0.7777777777777778,\"#fb9f3a\"],[0.8888888888888888,\"#fdca26\"],[1.0,\"#f0f921\"]]}],\"choropleth\":[{\"type\":\"choropleth\",\"colorbar\":{\"outlinewidth\":0,\"ticks\":\"\"}}],\"histogram2d\":[{\"type\":\"histogram2d\",\"colorbar\":{\"outlinewidth\":0,\"ticks\":\"\"},\"colorscale\":[[0.0,\"#0d0887\"],[0.1111111111111111,\"#46039f\"],[0.2222222222222222,\"#7201a8\"],[0.3333333333333333,\"#9c179e\"],[0.4444444444444444,\"#bd3786\"],[0.5555555555555556,\"#d8576b\"],[0.6666666666666666,\"#ed7953\"],[0.7777777777777778,\"#fb9f3a\"],[0.8888888888888888,\"#fdca26\"],[1.0,\"#f0f921\"]]}],\"heatmap\":[{\"type\":\"heatmap\",\"colorbar\":{\"outlinewidth\":0,\"ticks\":\"\"},\"colorscale\":[[0.0,\"#0d0887\"],[0.1111111111111111,\"#46039f\"],[0.2222222222222222,\"#7201a8\"],[0.3333333333333333,\"#9c179e\"],[0.4444444444444444,\"#bd3786\"],[0.5555555555555556,\"#d8576b\"],[0.6666666666666666,\"#ed7953\"],[0.7777777777777778,\"#fb9f3a\"],[0.8888888888888888,\"#fdca26\"],[1.0,\"#f0f921\"]]}],\"heatmapgl\":[{\"type\":\"heatmapgl\",\"colorbar\":{\"outlinewidth\":0,\"ticks\":\"\"},\"colorscale\":[[0.0,\"#0d0887\"],[0.1111111111111111,\"#46039f\"],[0.2222222222222222,\"#7201a8\"],[0.3333333333333333,\"#9c179e\"],[0.4444444444444444,\"#bd3786\"],[0.5555555555555556,\"#d8576b\"],[0.6666666666666666,\"#ed7953\"],[0.7777777777777778,\"#fb9f3a\"],[0.8888888888888888,\"#fdca26\"],[1.0,\"#f0f921\"]]}],\"contourcarpet\":[{\"type\":\"contourcarpet\",\"colorbar\":{\"outlinewidth\":0,\"ticks\":\"\"}}],\"contour\":[{\"type\":\"contour\",\"colorbar\":{\"outlinewidth\":0,\"ticks\":\"\"},\"colorscale\":[[0.0,\"#0d0887\"],[0.1111111111111111,\"#46039f\"],[0.2222222222222222,\"#7201a8\"],[0.3333333333333333,\"#9c179e\"],[0.4444444444444444,\"#bd3786\"],[0.5555555555555556,\"#d8576b\"],[0.6666666666666666,\"#ed7953\"],[0.7777777777777778,\"#fb9f3a\"],[0.8888888888888888,\"#fdca26\"],[1.0,\"#f0f921\"]]}],\"surface\":[{\"type\":\"surface\",\"colorbar\":{\"outlinewidth\":0,\"ticks\":\"\"},\"colorscale\":[[0.0,\"#0d0887\"],[0.1111111111111111,\"#46039f\"],[0.2222222222222222,\"#7201a8\"],[0.3333333333333333,\"#9c179e\"],[0.4444444444444444,\"#bd3786\"],[0.5555555555555556,\"#d8576b\"],[0.6666666666666666,\"#ed7953\"],[0.7777777777777778,\"#fb9f3a\"],[0.8888888888888888,\"#fdca26\"],[1.0,\"#f0f921\"]]}],\"mesh3d\":[{\"type\":\"mesh3d\",\"colorbar\":{\"outlinewidth\":0,\"ticks\":\"\"}}],\"scatter\":[{\"fillpattern\":{\"fillmode\":\"overlay\",\"size\":10,\"solidity\":0.2},\"type\":\"scatter\"}],\"parcoords\":[{\"type\":\"parcoords\",\"line\":{\"colorbar\":{\"outlinewidth\":0,\"ticks\":\"\"}}}],\"scatterpolargl\":[{\"type\":\"scatterpolargl\",\"marker\":{\"colorbar\":{\"outlinewidth\":0,\"ticks\":\"\"}}}],\"bar\":[{\"error_x\":{\"color\":\"#2a3f5f\"},\"error_y\":{\"color\":\"#2a3f5f\"},\"marker\":{\"line\":{\"color\":\"#E5ECF6\",\"width\":0.5},\"pattern\":{\"fillmode\":\"overlay\",\"size\":10,\"solidity\":0.2}},\"type\":\"bar\"}],\"scattergeo\":[{\"type\":\"scattergeo\",\"marker\":{\"colorbar\":{\"outlinewidth\":0,\"ticks\":\"\"}}}],\"scatterpolar\":[{\"type\":\"scatterpolar\",\"marker\":{\"colorbar\":{\"outlinewidth\":0,\"ticks\":\"\"}}}],\"histogram\":[{\"marker\":{\"pattern\":{\"fillmode\":\"overlay\",\"size\":10,\"solidity\":0.2}},\"type\":\"histogram\"}],\"scattergl\":[{\"type\":\"scattergl\",\"marker\":{\"colorbar\":{\"outlinewidth\":0,\"ticks\":\"\"}}}],\"scatter3d\":[{\"type\":\"scatter3d\",\"line\":{\"colorbar\":{\"outlinewidth\":0,\"ticks\":\"\"}},\"marker\":{\"colorbar\":{\"outlinewidth\":0,\"ticks\":\"\"}}}],\"scattermapbox\":[{\"type\":\"scattermapbox\",\"marker\":{\"colorbar\":{\"outlinewidth\":0,\"ticks\":\"\"}}}],\"scatterternary\":[{\"type\":\"scatterternary\",\"marker\":{\"colorbar\":{\"outlinewidth\":0,\"ticks\":\"\"}}}],\"scattercarpet\":[{\"type\":\"scattercarpet\",\"marker\":{\"colorbar\":{\"outlinewidth\":0,\"ticks\":\"\"}}}],\"carpet\":[{\"aaxis\":{\"endlinecolor\":\"#2a3f5f\",\"gridcolor\":\"white\",\"linecolor\":\"white\",\"minorgridcolor\":\"white\",\"startlinecolor\":\"#2a3f5f\"},\"baxis\":{\"endlinecolor\":\"#2a3f5f\",\"gridcolor\":\"white\",\"linecolor\":\"white\",\"minorgridcolor\":\"white\",\"startlinecolor\":\"#2a3f5f\"},\"type\":\"carpet\"}],\"table\":[{\"cells\":{\"fill\":{\"color\":\"#EBF0F8\"},\"line\":{\"color\":\"white\"}},\"header\":{\"fill\":{\"color\":\"#C8D4E3\"},\"line\":{\"color\":\"white\"}},\"type\":\"table\"}],\"barpolar\":[{\"marker\":{\"line\":{\"color\":\"#E5ECF6\",\"width\":0.5},\"pattern\":{\"fillmode\":\"overlay\",\"size\":10,\"solidity\":0.2}},\"type\":\"barpolar\"}],\"pie\":[{\"automargin\":true,\"type\":\"pie\"}]},\"layout\":{\"autotypenumbers\":\"strict\",\"colorway\":[\"#636efa\",\"#EF553B\",\"#00cc96\",\"#ab63fa\",\"#FFA15A\",\"#19d3f3\",\"#FF6692\",\"#B6E880\",\"#FF97FF\",\"#FECB52\"],\"font\":{\"color\":\"#2a3f5f\"},\"hovermode\":\"closest\",\"hoverlabel\":{\"align\":\"left\"},\"paper_bgcolor\":\"white\",\"plot_bgcolor\":\"#E5ECF6\",\"polar\":{\"bgcolor\":\"#E5ECF6\",\"angularaxis\":{\"gridcolor\":\"white\",\"linecolor\":\"white\",\"ticks\":\"\"},\"radialaxis\":{\"gridcolor\":\"white\",\"linecolor\":\"white\",\"ticks\":\"\"}},\"ternary\":{\"bgcolor\":\"#E5ECF6\",\"aaxis\":{\"gridcolor\":\"white\",\"linecolor\":\"white\",\"ticks\":\"\"},\"baxis\":{\"gridcolor\":\"white\",\"linecolor\":\"white\",\"ticks\":\"\"},\"caxis\":{\"gridcolor\":\"white\",\"linecolor\":\"white\",\"ticks\":\"\"}},\"coloraxis\":{\"colorbar\":{\"outlinewidth\":0,\"ticks\":\"\"}},\"colorscale\":{\"sequential\":[[0.0,\"#0d0887\"],[0.1111111111111111,\"#46039f\"],[0.2222222222222222,\"#7201a8\"],[0.3333333333333333,\"#9c179e\"],[0.4444444444444444,\"#bd3786\"],[0.5555555555555556,\"#d8576b\"],[0.6666666666666666,\"#ed7953\"],[0.7777777777777778,\"#fb9f3a\"],[0.8888888888888888,\"#fdca26\"],[1.0,\"#f0f921\"]],\"sequentialminus\":[[0.0,\"#0d0887\"],[0.1111111111111111,\"#46039f\"],[0.2222222222222222,\"#7201a8\"],[0.3333333333333333,\"#9c179e\"],[0.4444444444444444,\"#bd3786\"],[0.5555555555555556,\"#d8576b\"],[0.6666666666666666,\"#ed7953\"],[0.7777777777777778,\"#fb9f3a\"],[0.8888888888888888,\"#fdca26\"],[1.0,\"#f0f921\"]],\"diverging\":[[0,\"#8e0152\"],[0.1,\"#c51b7d\"],[0.2,\"#de77ae\"],[0.3,\"#f1b6da\"],[0.4,\"#fde0ef\"],[0.5,\"#f7f7f7\"],[0.6,\"#e6f5d0\"],[0.7,\"#b8e186\"],[0.8,\"#7fbc41\"],[0.9,\"#4d9221\"],[1,\"#276419\"]]},\"xaxis\":{\"gridcolor\":\"white\",\"linecolor\":\"white\",\"ticks\":\"\",\"title\":{\"standoff\":15},\"zerolinecolor\":\"white\",\"automargin\":true,\"zerolinewidth\":2},\"yaxis\":{\"gridcolor\":\"white\",\"linecolor\":\"white\",\"ticks\":\"\",\"title\":{\"standoff\":15},\"zerolinecolor\":\"white\",\"automargin\":true,\"zerolinewidth\":2},\"scene\":{\"xaxis\":{\"backgroundcolor\":\"#E5ECF6\",\"gridcolor\":\"white\",\"linecolor\":\"white\",\"showbackground\":true,\"ticks\":\"\",\"zerolinecolor\":\"white\",\"gridwidth\":2},\"yaxis\":{\"backgroundcolor\":\"#E5ECF6\",\"gridcolor\":\"white\",\"linecolor\":\"white\",\"showbackground\":true,\"ticks\":\"\",\"zerolinecolor\":\"white\",\"gridwidth\":2},\"zaxis\":{\"backgroundcolor\":\"#E5ECF6\",\"gridcolor\":\"white\",\"linecolor\":\"white\",\"showbackground\":true,\"ticks\":\"\",\"zerolinecolor\":\"white\",\"gridwidth\":2}},\"shapedefaults\":{\"line\":{\"color\":\"#2a3f5f\"}},\"annotationdefaults\":{\"arrowcolor\":\"#2a3f5f\",\"arrowhead\":0,\"arrowwidth\":1},\"geo\":{\"bgcolor\":\"white\",\"landcolor\":\"#E5ECF6\",\"subunitcolor\":\"white\",\"showland\":true,\"showlakes\":true,\"lakecolor\":\"white\"},\"title\":{\"x\":0.05},\"mapbox\":{\"style\":\"light\"}}},\"title\":{\"text\":\"Interactive ROC Curve\"},\"xaxis\":{\"title\":{\"text\":\"False Positive Rate\"}},\"yaxis\":{\"title\":{\"text\":\"True Positive Rate\"}}},                        {\"responsive\": true}                    ).then(function(){\n",
              "                            \n",
              "var gd = document.getElementById('0ecc405e-f6a9-40f2-8de2-6306277d7695');\n",
              "var x = new MutationObserver(function (mutations, observer) {{\n",
              "        var display = window.getComputedStyle(gd).display;\n",
              "        if (!display || display === 'none') {{\n",
              "            console.log([gd, 'removed!']);\n",
              "            Plotly.purge(gd);\n",
              "            observer.disconnect();\n",
              "        }}\n",
              "}});\n",
              "\n",
              "// Listen for the removal of the full notebook cells\n",
              "var notebookContainer = gd.closest('#notebook-container');\n",
              "if (notebookContainer) {{\n",
              "    x.observe(notebookContainer, {childList: true});\n",
              "}}\n",
              "\n",
              "// Listen for the clearing of the current output cell\n",
              "var outputEl = gd.closest('.output');\n",
              "if (outputEl) {{\n",
              "    x.observe(outputEl, {childList: true});\n",
              "}}\n",
              "\n",
              "                        })                };                            </script>        </div>\n",
              "</body>\n",
              "</html>"
            ]
          },
          "metadata": {}
        }
      ],
      "source": [
        "import plotly.graph_objs as go\n",
        "\n",
        "trace = go.Scatter(x=fpr, y=tpr, mode='lines', line=dict(color='darkorange', width=2), text=thresh)\n",
        "reference_line = go.Scatter(x=[0,1], y=[0,1], mode='lines', name='Reference Line',\n",
        "                            line=dict(color='navy', width=2, dash='dash'))\n",
        "fig = go.Figure(data=[trace, reference_line])\n",
        "fig.update_layout(title='Interactive ROC Curve',\n",
        "                  xaxis_title='False Positive Rate',\n",
        "                  yaxis_title='True Positive Rate')\n",
        "fig.show()"
      ]
    },
    {
      "cell_type": "code",
      "execution_count": 74,
      "metadata": {
        "id": "8GtCxGeo0HiC",
        "colab": {
          "base_uri": "https://localhost:8080/"
        },
        "outputId": "7eb47229-d420-4874-fa91-bc7df40dcfca"
      },
      "outputs": [
        {
          "output_type": "stream",
          "name": "stdout",
          "text": [
            "(1303, 1)\n"
          ]
        },
        {
          "output_type": "execute_result",
          "data": {
            "text/plain": [
              "array([0, 1])"
            ]
          },
          "metadata": {},
          "execution_count": 74
        }
      ],
      "source": [
        "thresh_ = 0.5\n",
        "y_pred_class = (y_pred > thresh_).astype(int)\n",
        "print(y_pred_class.shape)\n",
        "np.unique(y_pred_class)"
      ]
    },
    {
      "cell_type": "code",
      "execution_count": 75,
      "metadata": {
        "id": "-wNCing60HiC",
        "colab": {
          "base_uri": "https://localhost:8080/",
          "height": 605
        },
        "outputId": "fee9dd10-dc24-445c-ef82-f6dde371018c"
      },
      "outputs": [
        {
          "output_type": "stream",
          "name": "stdout",
          "text": [
            "              precision    recall  f1-score   support\n",
            "\n",
            "           0       0.83      0.80      0.81       639\n",
            "           1       0.82      0.84      0.83       664\n",
            "\n",
            "    accuracy                           0.82      1303\n",
            "   macro avg       0.82      0.82      0.82      1303\n",
            "weighted avg       0.82      0.82      0.82      1303\n",
            "\n"
          ]
        },
        {
          "output_type": "execute_result",
          "data": {
            "text/plain": [
              "<Axes: >"
            ]
          },
          "metadata": {},
          "execution_count": 75
        },
        {
          "output_type": "display_data",
          "data": {
            "text/plain": [
              "<Figure size 640x480 with 2 Axes>"
            ],
            "image/png": "[encoded data removed]"
          },
          "metadata": {}
        }
      ],
      "source": [
        "print(classification_report(y_true=y_test, y_pred=y_pred_class))\n",
        "cm = confusion_matrix(y_true=y_test, y_pred=y_pred_class)\n",
        "sns.heatmap(cm, annot=True, fmt=\"g\")"
      ]
    },
    {
      "cell_type": "code",
      "execution_count": 76,
      "metadata": {
        "id": "LcP0rDiR7v5q",
        "colab": {
          "base_uri": "https://localhost:8080/"
        },
        "outputId": "041b9975-ba55-4a51-8c77-1ef8236fcd02"
      },
      "outputs": [
        {
          "output_type": "stream",
          "name": "stdout",
          "text": [
            "Removing the hp tuner directory. Path: tuner_dir\n"
          ]
        }
      ],
      "source": [
        "# remove the keras_tuner folder\n",
        "if os.path.exists(hp_tuner_path):\n",
        "  print(\"Removing the hp tuner directory. Path:\", hp_tuner_path)\n",
        "  try:\n",
        "    shutil.rmtree(hp_tuner_path)\n",
        "  except Exception as e:\n",
        "    print(e)"
      ]
    },
    {
      "cell_type": "code",
      "execution_count": 76,
      "metadata": {
        "id": "-96T5O0vGPvh"
      },
      "outputs": [],
      "source": []
    },
    {
      "cell_type": "markdown",
      "metadata": {
        "id": "JOj6f_TXGpSH"
      },
      "source": [
        "##### Save and load model"
      ]
    },
    {
      "cell_type": "code",
      "execution_count": 78,
      "metadata": {
        "id": "ZffCnhwgf4nl"
      },
      "outputs": [],
      "source": [
        "# add save history\n",
        "model_dir_path = \"data_and_models/\"\n",
        "if not os.path.exists(model_dir_path):\n",
        "  os.mkdir(model_dir_path)"
      ]
    },
    {
      "cell_type": "code",
      "execution_count": 79,
      "metadata": {
        "id": "H3Lr9xSAf8Yg"
      },
      "outputs": [],
      "source": [
        "# save train and test data\n",
        "# train_d = {\"x_train\" : X_train.tolist(), \"y_train\": y_train.tolist(), \"ordered_train_columns\" : X_train_ds.columns.tolist()}\n",
        "# test_d = {\"x_test\": X_test.tolist(), \"y_test\": y_test.tolist(), \"ordered_test_columns\" : X_test_ds.columns.tolist()}\n",
        "\n",
        "# with open(model_dir_path + \"train_ds.json\", \"w\") as f:\n",
        "#   json.dump(train_d, f)\n",
        "\n",
        "# with open(model_dir_path + \"test_ds.json\", \"w\") as f:\n",
        "#   json.dump(test_d, f)"
      ]
    },
    {
      "cell_type": "code",
      "execution_count": 102,
      "metadata": {
        "id": "pSBAMoyszbZ-",
        "colab": {
          "base_uri": "https://localhost:8080/"
        },
        "outputId": "e4c75930-0485-4def-8ea9-326773f6ba4d"
      },
      "outputs": [
        {
          "output_type": "stream",
          "name": "stderr",
          "text": [
            "WARNING:absl:You are saving your model as an HDF5 file via `model.save()` or `keras.saving.save_model(model)`. This file format is considered legacy. We recommend using instead the native Keras format, e.g. `model.save('my_model.keras')` or `keras.saving.save_model(model, 'my_model.keras')`. \n"
          ]
        }
      ],
      "source": [
        "# save model in the different formats\n",
        "tuned_model.save(model_dir_path + \"model.keras\", include_optimizer=True)\n",
        "tuned_model.save(model_dir_path + \"model.h5\", include_optimizer=True)\n",
        "tuned_model.save_weights(model_dir_path + \"model.weights.h5\")\n",
        "with open(model_dir_path + \"model_arch.json\", \"w\") as f:\n",
        "  json.dump(tuned_model.to_json(), f)\n",
        "\n",
        "best_hp_params.values[\"epochs\"] = best_model_epochs_\n",
        "with open(model_dir_path + \"model_params.json\", \"w\") as f:\n",
        "  json.dump(best_hp_params.values, f)"
      ]
    },
    {
      "cell_type": "code",
      "execution_count": 103,
      "metadata": {
        "id": "nVu_1fPaivLL"
      },
      "outputs": [],
      "source": [
        "# save for shap and evaluation\n",
        "%%bash\n",
        "p=drive/MyDrive/vkr/train_data/for_shap/data_and_models_in_work\n",
        "# echo $p\n",
        "cp -r data_and_models/ $p"
      ]
    },
    {
      "cell_type": "code",
      "execution_count": 81,
      "metadata": {
        "id": "Qz9VIvF5zeVb"
      },
      "outputs": [],
      "source": []
    },
    {
      "cell_type": "code",
      "execution_count": 81,
      "metadata": {
        "id": "AtCmd5FDzeS3"
      },
      "outputs": [],
      "source": []
    },
    {
      "cell_type": "code",
      "execution_count": 81,
      "metadata": {
        "id": "dgD7sTifvwt5"
      },
      "outputs": [],
      "source": []
    }
  ],
  "metadata": {
    "colab": {
      "provenance": [],
      "gpuType": "T4"
    },
    "kernelspec": {
      "display_name": "Python 3",
      "name": "python3"
    },
    "language_info": {
      "name": "python"
    },
    "accelerator": "GPU"
  },
  "nbformat": 4,
  "nbformat_minor": 0
}
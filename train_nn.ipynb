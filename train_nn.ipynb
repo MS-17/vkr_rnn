{
 "cells": [
  {
   "cell_type": "code",
   "execution_count": 1,
   "metadata": {
    "id": "ACISDipu4cYB"
   },
   "outputs": [],
   "source": [
    "%%bash\n",
    "data_path=/content/drive/MyDrive/vkr/\n",
    "cp -r $data_path/train_data ."
   ]
  },
  {
   "cell_type": "code",
   "execution_count": 2,
   "metadata": {
    "colab": {
     "base_uri": "https://localhost:8080/"
    },
    "id": "uaf5inNfa1Iz",
    "outputId": "71fd394d-8d3e-4dbb-b69e-d42fd3000122"
   },
   "outputs": [
    {
     "name": "stdout",
     "output_type": "stream",
     "text": [
      "Collecting keras-tuner\n",
      "  Downloading keras_tuner-1.4.7-py3-none-any.whl.metadata (5.4 kB)\n",
      "Requirement already satisfied: keras in /usr/local/lib/python3.11/dist-packages (from keras-tuner) (3.8.0)\n",
      "Requirement already satisfied: packaging in /usr/local/lib/python3.11/dist-packages (from keras-tuner) (24.2)\n",
      "Requirement already satisfied: requests in /usr/local/lib/python3.11/dist-packages (from keras-tuner) (2.32.3)\n",
      "Collecting kt-legacy (from keras-tuner)\n",
      "  Downloading kt_legacy-1.0.5-py3-none-any.whl.metadata (221 bytes)\n",
      "Requirement already satisfied: absl-py in /usr/local/lib/python3.11/dist-packages (from keras->keras-tuner) (1.4.0)\n",
      "Requirement already satisfied: numpy in /usr/local/lib/python3.11/dist-packages (from keras->keras-tuner) (2.0.2)\n",
      "Requirement already satisfied: rich in /usr/local/lib/python3.11/dist-packages (from keras->keras-tuner) (13.9.4)\n",
      "Requirement already satisfied: namex in /usr/local/lib/python3.11/dist-packages (from keras->keras-tuner) (0.0.9)\n",
      "Requirement already satisfied: h5py in /usr/local/lib/python3.11/dist-packages (from keras->keras-tuner) (3.13.0)\n",
      "Requirement already satisfied: optree in /usr/local/lib/python3.11/dist-packages (from keras->keras-tuner) (0.15.0)\n",
      "Requirement already satisfied: ml-dtypes in /usr/local/lib/python3.11/dist-packages (from keras->keras-tuner) (0.4.1)\n",
      "Requirement already satisfied: charset-normalizer<4,>=2 in /usr/local/lib/python3.11/dist-packages (from requests->keras-tuner) (3.4.2)\n",
      "Requirement already satisfied: idna<4,>=2.5 in /usr/local/lib/python3.11/dist-packages (from requests->keras-tuner) (3.10)\n",
      "Requirement already satisfied: urllib3<3,>=1.21.1 in /usr/local/lib/python3.11/dist-packages (from requests->keras-tuner) (2.4.0)\n",
      "Requirement already satisfied: certifi>=2017.4.17 in /usr/local/lib/python3.11/dist-packages (from requests->keras-tuner) (2025.4.26)\n",
      "Requirement already satisfied: typing-extensions>=4.5.0 in /usr/local/lib/python3.11/dist-packages (from optree->keras->keras-tuner) (4.13.2)\n",
      "Requirement already satisfied: markdown-it-py>=2.2.0 in /usr/local/lib/python3.11/dist-packages (from rich->keras->keras-tuner) (3.0.0)\n",
      "Requirement already satisfied: pygments<3.0.0,>=2.13.0 in /usr/local/lib/python3.11/dist-packages (from rich->keras->keras-tuner) (2.19.1)\n",
      "Requirement already satisfied: mdurl~=0.1 in /usr/local/lib/python3.11/dist-packages (from markdown-it-py>=2.2.0->rich->keras->keras-tuner) (0.1.2)\n",
      "Downloading keras_tuner-1.4.7-py3-none-any.whl (129 kB)\n",
      "\u001b[2K   \u001b[90m━━━━━━━━━━━━━━━━━━━━━━━━━━━━━━━━━━━━━━━━\u001b[0m \u001b[32m129.1/129.1 kB\u001b[0m \u001b[31m10.7 MB/s\u001b[0m eta \u001b[36m0:00:00\u001b[0m\n",
      "\u001b[?25hDownloading kt_legacy-1.0.5-py3-none-any.whl (9.6 kB)\n",
      "Installing collected packages: kt-legacy, keras-tuner\n",
      "Successfully installed keras-tuner-1.4.7 kt-legacy-1.0.5\n"
     ]
    }
   ],
   "source": [
    "!pip install keras-tuner"
   ]
  },
  {
   "cell_type": "code",
   "execution_count": 3,
   "metadata": {
    "id": "YmnpXMqW4mJR"
   },
   "outputs": [],
   "source": [
    "# !pip install mapclassify\n",
    "import geopandas as gpd\n",
    "import folium\n",
    "\n",
    "import pandas as pd\n",
    "import matplotlib.pyplot as plt\n",
    "import numpy as np\n",
    "import seaborn as sns\n",
    "import graphviz\n",
    "\n",
    "from calendar import monthrange\n",
    "import os, json, shutil\n",
    "\n",
    "import tensorflow as tf\n",
    "from tensorflow.keras import Sequential\n",
    "from tensorflow.keras.layers import Input, Dense\n",
    "from tensorflow.keras import regularizers as rg\n",
    "import keras_tuner\n",
    "\n",
    "from sklearn.metrics import classification_report, confusion_matrix, roc_auc_score, roc_curve\n",
    "from sklearn.model_selection import train_test_split\n",
    "import scipy.stats as st\n",
    "import scipy\n",
    "\n",
    "from statsmodels.stats.outliers_influence import variance_inflation_factor\n",
    "\n",
    "# from sklearn.preprocessing import MinMaxScaler\n"
   ]
  },
  {
   "cell_type": "code",
   "execution_count": 4,
   "metadata": {
    "id": "uQ23-rqQ5viJ"
   },
   "outputs": [],
   "source": [
    "train_files_path = \"train_data/\""
   ]
  },
  {
   "cell_type": "markdown",
   "metadata": {
    "id": "oByOMJZ5zCXX"
   },
   "source": [
    "##### Prepare datasets"
   ]
  },
  {
   "cell_type": "code",
   "execution_count": 5,
   "metadata": {
    "colab": {
     "base_uri": "https://localhost:8080/"
    },
    "id": "WyFH2C7A-yJQ",
    "outputId": "d34e4fd5-d14c-48c9-d8e4-e3953b1cb75a"
   },
   "outputs": [
    {
     "name": "stdout",
     "output_type": "stream",
     "text": [
      "year                 int64\n",
      "event_date          object\n",
      "is_fire              int64\n",
      "soilw40_mean       float64\n",
      "soilw40_std        float64\n",
      "soilw200_mean      float64\n",
      "soilw200_std       float64\n",
      "tmin_mean          float64\n",
      "tmin_std           float64\n",
      "snod_mean          float64\n",
      "snod_std           float64\n",
      "tmpgr40_mean       float64\n",
      "tmpgr40_std        float64\n",
      "t_mean             float64\n",
      "t_std              float64\n",
      "wind_speed_mean    float64\n",
      "wind_speed_std     float64\n",
      "tmpgr100_mean      float64\n",
      "tmpgr100_std       float64\n",
      "tmpgr10_mean       float64\n",
      "tmpgr10_std        float64\n",
      "tmax_mean          float64\n",
      "tmax_std           float64\n",
      "rh_mean            float64\n",
      "rh_std             float64\n",
      "apcp_mean          float64\n",
      "apcp_std           float64\n",
      "wind_dir_mean      float64\n",
      "wind_dir_std       float64\n",
      "tmpgr200_mean      float64\n",
      "tmpgr200_std       float64\n",
      "soilw10_mean       float64\n",
      "soilw10_std        float64\n",
      "soilw100_mean      float64\n",
      "soilw100_std       float64\n",
      "elevation          float64\n",
      "slope              float64\n",
      "aspect             float64\n",
      "vegetation_type      int64\n",
      "road_dist          float64\n",
      "river_dist         float64\n",
      "locality_dist      float64\n",
      "dtype: object    year  event_date  is_fire  soilw40_mean  soilw40_std  soilw200_mean  \\\n",
      "0  2024  2024-03-01        0          0.34          0.0           0.46   \n",
      "1  2024  2024-03-01        0          0.36          0.0           0.38   \n",
      "2  2024  2024-03-01        0          0.35          0.0           0.44   \n",
      "3  2024  2024-03-01        0          0.35          0.0           0.38   \n",
      "4  2024  2024-03-01        0          0.36          0.0           0.41   \n",
      "\n",
      "   soilw200_std  tmin_mean  tmin_std  snod_mean  ...  soilw10_std  \\\n",
      "0           0.0   -19.0125  2.390121   0.134250  ...          0.0   \n",
      "1           0.0   -13.5875  3.853176   0.129375  ...          0.0   \n",
      "2           0.0   -14.4875  1.962096   0.178625  ...          0.0   \n",
      "3           0.0   -15.2875  6.186492   0.143625  ...          0.0   \n",
      "4           0.0   -14.2125  4.077267   0.140625  ...          0.0   \n",
      "\n",
      "   soilw100_mean  soilw100_std  elevation      slope      aspect  \\\n",
      "0           0.33           0.0     2214.0  13.906085   39.996078   \n",
      "1           0.35           0.0      849.0   6.824051  282.706177   \n",
      "2           0.32           0.0      472.0   0.633459  199.093491   \n",
      "3           0.30           0.0      784.0   4.401981   58.882362   \n",
      "4           0.35           0.0      884.0   3.040766  275.861542   \n",
      "\n",
      "   vegetation_type      road_dist    river_dist  locality_dist  \n",
      "0               21  279246.134278  12763.348115   27921.440441  \n",
      "1               18   72010.297452   8816.743841   21366.124105  \n",
      "2               18  665535.090753  22987.812032   86292.492518  \n",
      "3               18   44680.049751   8541.776895   45273.988857  \n",
      "4               17  143938.399536   7520.180463   79470.921820  \n",
      "\n",
      "[5 rows x 42 columns]\n"
     ]
    }
   ],
   "source": [
    "# read the test dataset and drop columns to correspond to the training dataset\n",
    "test_ds = pd.read_csv(train_files_path + \"test_dataset_2024.csv\", sep=\";\").drop(columns=[\"Unnamed: 0\"])\n",
    "test_ds[\"vegetation_type\"] = test_ds[\"vegetation_type\"].astype(int)\n",
    "print(test_ds.dtypes, test_ds.head(5))"
   ]
  },
  {
   "cell_type": "code",
   "execution_count": 6,
   "metadata": {
    "colab": {
     "base_uri": "https://localhost:8080/",
     "height": 625
    },
    "id": "jq4Z4z9E4mDD",
    "outputId": "6ec97873-3b73-47c5-ace5-ff825c44c42c"
   },
   "outputs": [
    {
     "name": "stdout",
     "output_type": "stream",
     "text": [
      "t_mean             float64\n",
      "wind_speed_mean    float64\n",
      "rh_mean            float64\n",
      "apcp_mean          float64\n",
      "wind_dir_std       float64\n",
      "soilw10_mean       float64\n",
      "elevation          float64\n",
      "slope              float64\n",
      "aspect             float64\n",
      "road_dist          float64\n",
      "river_dist         float64\n",
      "locality_dist      float64\n",
      "vegetation_type      int64\n",
      "event_date          object\n",
      "is_fire              int64\n",
      "dtype: object\n",
      "(18308, 15)\n",
      "Index(['t_mean', 'wind_speed_mean', 'rh_mean', 'apcp_mean', 'wind_dir_std',\n",
      "       'soilw10_mean', 'elevation', 'slope', 'aspect', 'road_dist',\n",
      "       'river_dist', 'locality_dist', 'vegetation_type', 'event_date',\n",
      "       'is_fire'],\n",
      "      dtype='object')\n",
      "RangeIndex(start=0, stop=18308, step=1)\n"
     ]
    },
    {
     "data": {
      "application/vnd.google.colaboratory.intrinsic+json": {
       "summary": "{\n  \"name\": \"train_ds\",\n  \"rows\": 18308,\n  \"fields\": [\n    {\n      \"column\": \"t_mean\",\n      \"properties\": {\n        \"dtype\": \"number\",\n        \"std\": 0.9999999999999968,\n        \"min\": -3.805585053345289,\n        \"max\": 2.13816375688181,\n        \"num_unique_values\": 13486,\n        \"samples\": [\n          0.578677280241691,\n          1.027778602559272,\n          -0.1806722505410587\n        ],\n        \"semantic_type\": \"\",\n        \"description\": \"\"\n      }\n    },\n    {\n      \"column\": \"wind_speed_mean\",\n      \"properties\": {\n        \"dtype\": \"number\",\n        \"std\": 1.0000000000000036,\n        \"min\": -2.03812880004479,\n        \"max\": 4.964624501454915,\n        \"num_unique_values\": 634,\n        \"samples\": [\n          1.985948250510255,\n          0.7114185085195114,\n          -0.6060729101675498\n        ],\n        \"semantic_type\": \"\",\n        \"description\": \"\"\n      }\n    },\n    {\n      \"column\": \"rh_mean\",\n      \"properties\": {\n        \"dtype\": \"number\",\n        \"std\": 0.9999999999999979,\n        \"min\": -2.45680458728281,\n        \"max\": 1.2672743630082526,\n        \"num_unique_values\": 5170,\n        \"samples\": [\n          -0.2432000055690059,\n          1.125392730714628,\n          0.2521301177923641\n        ],\n        \"semantic_type\": \"\",\n        \"description\": \"\"\n      }\n    },\n    {\n      \"column\": \"apcp_mean\",\n      \"properties\": {\n        \"dtype\": \"number\",\n        \"std\": 1.00000000000003,\n        \"min\": -0.623158167970611,\n        \"max\": 12.547803410214824,\n        \"num_unique_values\": 565,\n        \"samples\": [\n          5.867974758814188,\n          0.776964108678901,\n          7.056757823893962\n        ],\n        \"semantic_type\": \"\",\n        \"description\": \"\"\n      }\n    },\n    {\n      \"column\": \"wind_dir_std\",\n      \"properties\": {\n        \"dtype\": \"number\",\n        \"std\": 0.9999999999999987,\n        \"min\": -1.5507451964700072,\n        \"max\": 4.481149195124909,\n        \"num_unique_values\": 17275,\n        \"samples\": [\n          -0.7959618837177852,\n          -1.2768263577109238,\n          1.4129353007917018\n        ],\n        \"semantic_type\": \"\",\n        \"description\": \"\"\n      }\n    },\n    {\n      \"column\": \"soilw10_mean\",\n      \"properties\": {\n        \"dtype\": \"number\",\n        \"std\": 0.9999999999999969,\n        \"min\": -1.7906237871453805,\n        \"max\": 1.8803035548270175,\n        \"num_unique_values\": 358,\n        \"samples\": [\n          -0.1835391636342772,\n          0.4741015488295267,\n          0.9181653401971552\n        ],\n        \"semantic_type\": \"\",\n        \"description\": \"\"\n      }\n    },\n    {\n      \"column\": \"elevation\",\n      \"properties\": {\n        \"dtype\": \"number\",\n        \"std\": 0.9999999999999973,\n        \"min\": -1.5657626828380455,\n        \"max\": 7.063744351103266,\n        \"num_unique_values\": 8081,\n        \"samples\": [\n          -0.0785762169058668,\n          -0.2915516943276685,\n          0.2063863211263076\n        ],\n        \"semantic_type\": \"\",\n        \"description\": \"\"\n      }\n    },\n    {\n      \"column\": \"slope\",\n      \"properties\": {\n        \"dtype\": \"number\",\n        \"std\": 0.9999999999999964,\n        \"min\": -0.97105335571784,\n        \"max\": 8.729306256582444,\n        \"num_unique_values\": 14751,\n        \"samples\": [\n          0.3562219645274032,\n          -0.6665304337875226,\n          1.951447336740029\n        ],\n        \"semantic_type\": \"\",\n        \"description\": \"\"\n      }\n    },\n    {\n      \"column\": \"aspect\",\n      \"properties\": {\n        \"dtype\": \"number\",\n        \"std\": 1.000000000000004,\n        \"min\": -1.2125652203714945,\n        \"max\": 2.1121706749772264,\n        \"num_unique_values\": 11623,\n        \"samples\": [\n          -0.3993266384805836,\n          -0.5998982539294218,\n          -0.5907727693115868\n        ],\n        \"semantic_type\": \"\",\n        \"description\": \"\"\n      }\n    },\n    {\n      \"column\": \"road_dist\",\n      \"properties\": {\n        \"dtype\": \"number\",\n        \"std\": 1.000000000000003,\n        \"min\": -1.0386158652809316,\n        \"max\": 2.998381780731704,\n        \"num_unique_values\": 18147,\n        \"samples\": [\n          -0.5105532659055062,\n          -0.5383000769743983,\n          -0.8440797083354775\n        ],\n        \"semantic_type\": \"\",\n        \"description\": \"\"\n      }\n    },\n    {\n      \"column\": \"river_dist\",\n      \"properties\": {\n        \"dtype\": \"number\",\n        \"std\": 0.9999999999999953,\n        \"min\": -1.1021375073495512,\n        \"max\": 6.153137702581705,\n        \"num_unique_values\": 17476,\n        \"samples\": [\n          0.3748194466128715,\n          -0.7822701001599968,\n          -0.8433180722073668\n        ],\n        \"semantic_type\": \"\",\n        \"description\": \"\"\n      }\n    },\n    {\n      \"column\": \"locality_dist\",\n      \"properties\": {\n        \"dtype\": \"number\",\n        \"std\": 1.0000000000000009,\n        \"min\": -1.099180591445885,\n        \"max\": 4.208801137968043,\n        \"num_unique_values\": 18308,\n        \"samples\": [\n          -1.0524431118741226,\n          -0.6911184644098217,\n          -0.4319290020669998\n        ],\n        \"semantic_type\": \"\",\n        \"description\": \"\"\n      }\n    },\n    {\n      \"column\": \"vegetation_type\",\n      \"properties\": {\n        \"dtype\": \"number\",\n        \"std\": 5,\n        \"min\": 1,\n        \"max\": 25,\n        \"num_unique_values\": 12,\n        \"samples\": [\n          13,\n          8,\n          18\n        ],\n        \"semantic_type\": \"\",\n        \"description\": \"\"\n      }\n    },\n    {\n      \"column\": \"event_date\",\n      \"properties\": {\n        \"dtype\": \"object\",\n        \"num_unique_values\": 2131,\n        \"samples\": [\n          \"2016-04-10\",\n          \"2023-06-22\",\n          \"2022-04-04\"\n        ],\n        \"semantic_type\": \"\",\n        \"description\": \"\"\n      }\n    },\n    {\n      \"column\": \"is_fire\",\n      \"properties\": {\n        \"dtype\": \"number\",\n        \"std\": 0,\n        \"min\": 0,\n        \"max\": 1,\n        \"num_unique_values\": 2,\n        \"samples\": [\n          1,\n          0\n        ],\n        \"semantic_type\": \"\",\n        \"description\": \"\"\n      }\n    }\n  ]\n}",
       "type": "dataframe",
       "variable_name": "train_ds"
      },
      "text/html": [
       "\n",
       "  <div id=\"df-a2318705-311b-465b-80b3-382c93c33371\" class=\"colab-df-container\">\n",
       "    <div>\n",
       "<style scoped>\n",
       "    .dataframe tbody tr th:only-of-type {\n",
       "        vertical-align: middle;\n",
       "    }\n",
       "\n",
       "    .dataframe tbody tr th {\n",
       "        vertical-align: top;\n",
       "    }\n",
       "\n",
       "    .dataframe thead th {\n",
       "        text-align: right;\n",
       "    }\n",
       "</style>\n",
       "<table border=\"1\" class=\"dataframe\">\n",
       "  <thead>\n",
       "    <tr style=\"text-align: right;\">\n",
       "      <th></th>\n",
       "      <th>t_mean</th>\n",
       "      <th>wind_speed_mean</th>\n",
       "      <th>rh_mean</th>\n",
       "      <th>apcp_mean</th>\n",
       "      <th>wind_dir_std</th>\n",
       "      <th>soilw10_mean</th>\n",
       "      <th>elevation</th>\n",
       "      <th>slope</th>\n",
       "      <th>aspect</th>\n",
       "      <th>road_dist</th>\n",
       "      <th>river_dist</th>\n",
       "      <th>locality_dist</th>\n",
       "      <th>vegetation_type</th>\n",
       "      <th>event_date</th>\n",
       "      <th>is_fire</th>\n",
       "    </tr>\n",
       "  </thead>\n",
       "  <tbody>\n",
       "    <tr>\n",
       "      <th>0</th>\n",
       "      <td>-1.887257</td>\n",
       "      <td>-0.047571</td>\n",
       "      <td>1.201984</td>\n",
       "      <td>0.150494</td>\n",
       "      <td>-0.531109</td>\n",
       "      <td>1.525053</td>\n",
       "      <td>1.476445</td>\n",
       "      <td>-0.047134</td>\n",
       "      <td>-0.580267</td>\n",
       "      <td>-0.087056</td>\n",
       "      <td>-0.089247</td>\n",
       "      <td>-0.334921</td>\n",
       "      <td>18</td>\n",
       "      <td>2015-03-01</td>\n",
       "      <td>0</td>\n",
       "    </tr>\n",
       "    <tr>\n",
       "      <th>1</th>\n",
       "      <td>-1.750273</td>\n",
       "      <td>1.728178</td>\n",
       "      <td>1.210773</td>\n",
       "      <td>0.905277</td>\n",
       "      <td>-0.650823</td>\n",
       "      <td>1.406636</td>\n",
       "      <td>-0.855097</td>\n",
       "      <td>0.893102</td>\n",
       "      <td>1.294228</td>\n",
       "      <td>0.963490</td>\n",
       "      <td>-0.367656</td>\n",
       "      <td>-0.819439</td>\n",
       "      <td>15</td>\n",
       "      <td>2015-03-01</td>\n",
       "      <td>0</td>\n",
       "    </tr>\n",
       "    <tr>\n",
       "      <th>2</th>\n",
       "      <td>-1.786003</td>\n",
       "      <td>1.670896</td>\n",
       "      <td>1.173733</td>\n",
       "      <td>0.282581</td>\n",
       "      <td>-0.550192</td>\n",
       "      <td>1.169801</td>\n",
       "      <td>-0.417496</td>\n",
       "      <td>-0.792476</td>\n",
       "      <td>0.918920</td>\n",
       "      <td>0.988931</td>\n",
       "      <td>0.837171</td>\n",
       "      <td>0.624715</td>\n",
       "      <td>11</td>\n",
       "      <td>2015-03-01</td>\n",
       "      <td>0</td>\n",
       "    </tr>\n",
       "    <tr>\n",
       "      <th>3</th>\n",
       "      <td>-1.402096</td>\n",
       "      <td>1.398805</td>\n",
       "      <td>1.230234</td>\n",
       "      <td>0.792060</td>\n",
       "      <td>-0.510173</td>\n",
       "      <td>1.761887</td>\n",
       "      <td>0.104126</td>\n",
       "      <td>-0.575298</td>\n",
       "      <td>0.020310</td>\n",
       "      <td>-0.119628</td>\n",
       "      <td>-0.039831</td>\n",
       "      <td>-0.335354</td>\n",
       "      <td>11</td>\n",
       "      <td>2015-03-01</td>\n",
       "      <td>0</td>\n",
       "    </tr>\n",
       "    <tr>\n",
       "      <th>4</th>\n",
       "      <td>-2.172439</td>\n",
       "      <td>1.055112</td>\n",
       "      <td>1.218934</td>\n",
       "      <td>0.697712</td>\n",
       "      <td>0.366810</td>\n",
       "      <td>0.459299</td>\n",
       "      <td>-0.603039</td>\n",
       "      <td>-0.730377</td>\n",
       "      <td>0.150135</td>\n",
       "      <td>2.615564</td>\n",
       "      <td>-0.142636</td>\n",
       "      <td>-0.073070</td>\n",
       "      <td>18</td>\n",
       "      <td>2015-03-01</td>\n",
       "      <td>0</td>\n",
       "    </tr>\n",
       "  </tbody>\n",
       "</table>\n",
       "</div>\n",
       "    <div class=\"colab-df-buttons\">\n",
       "\n",
       "  <div class=\"colab-df-container\">\n",
       "    <button class=\"colab-df-convert\" onclick=\"convertToInteractive('df-a2318705-311b-465b-80b3-382c93c33371')\"\n",
       "            title=\"Convert this dataframe to an interactive table.\"\n",
       "            style=\"display:none;\">\n",
       "\n",
       "  <svg xmlns=\"http://www.w3.org/2000/svg\" height=\"24px\" viewBox=\"0 -960 960 960\">\n",
       "    <path d=\"M120-120v-720h720v720H120Zm60-500h600v-160H180v160Zm220 220h160v-160H400v160Zm0 220h160v-160H400v160ZM180-400h160v-160H180v160Zm440 0h160v-160H620v160ZM180-180h160v-160H180v160Zm440 0h160v-160H620v160Z\"/>\n",
       "  </svg>\n",
       "    </button>\n",
       "\n",
       "  <style>\n",
       "    .colab-df-container {\n",
       "      display:flex;\n",
       "      gap: 12px;\n",
       "    }\n",
       "\n",
       "    .colab-df-convert {\n",
       "      background-color: #E8F0FE;\n",
       "      border: none;\n",
       "      border-radius: 50%;\n",
       "      cursor: pointer;\n",
       "      display: none;\n",
       "      fill: #1967D2;\n",
       "      height: 32px;\n",
       "      padding: 0 0 0 0;\n",
       "      width: 32px;\n",
       "    }\n",
       "\n",
       "    .colab-df-convert:hover {\n",
       "      background-color: #E2EBFA;\n",
       "      box-shadow: 0px 1px 2px rgba(60, 64, 67, 0.3), 0px 1px 3px 1px rgba(60, 64, 67, 0.15);\n",
       "      fill: #174EA6;\n",
       "    }\n",
       "\n",
       "    .colab-df-buttons div {\n",
       "      margin-bottom: 4px;\n",
       "    }\n",
       "\n",
       "    [theme=dark] .colab-df-convert {\n",
       "      background-color: #3B4455;\n",
       "      fill: #D2E3FC;\n",
       "    }\n",
       "\n",
       "    [theme=dark] .colab-df-convert:hover {\n",
       "      background-color: #434B5C;\n",
       "      box-shadow: 0px 1px 3px 1px rgba(0, 0, 0, 0.15);\n",
       "      filter: drop-shadow(0px 1px 2px rgba(0, 0, 0, 0.3));\n",
       "      fill: #FFFFFF;\n",
       "    }\n",
       "  </style>\n",
       "\n",
       "    <script>\n",
       "      const buttonEl =\n",
       "        document.querySelector('#df-a2318705-311b-465b-80b3-382c93c33371 button.colab-df-convert');\n",
       "      buttonEl.style.display =\n",
       "        google.colab.kernel.accessAllowed ? 'block' : 'none';\n",
       "\n",
       "      async function convertToInteractive(key) {\n",
       "        const element = document.querySelector('#df-a2318705-311b-465b-80b3-382c93c33371');\n",
       "        const dataTable =\n",
       "          await google.colab.kernel.invokeFunction('convertToInteractive',\n",
       "                                                    [key], {});\n",
       "        if (!dataTable) return;\n",
       "\n",
       "        const docLinkHtml = 'Like what you see? Visit the ' +\n",
       "          '<a target=\"_blank\" href=https://colab.research.google.com/notebooks/data_table.ipynb>data table notebook</a>'\n",
       "          + ' to learn more about interactive tables.';\n",
       "        element.innerHTML = '';\n",
       "        dataTable['output_type'] = 'display_data';\n",
       "        await google.colab.output.renderOutput(dataTable, element);\n",
       "        const docLink = document.createElement('div');\n",
       "        docLink.innerHTML = docLinkHtml;\n",
       "        element.appendChild(docLink);\n",
       "      }\n",
       "    </script>\n",
       "  </div>\n",
       "\n",
       "\n",
       "    <div id=\"df-ec1b045a-6eaf-44b3-9188-dd86340b65d4\">\n",
       "      <button class=\"colab-df-quickchart\" onclick=\"quickchart('df-ec1b045a-6eaf-44b3-9188-dd86340b65d4')\"\n",
       "                title=\"Suggest charts\"\n",
       "                style=\"display:none;\">\n",
       "\n",
       "<svg xmlns=\"http://www.w3.org/2000/svg\" height=\"24px\"viewBox=\"0 0 24 24\"\n",
       "     width=\"24px\">\n",
       "    <g>\n",
       "        <path d=\"M19 3H5c-1.1 0-2 .9-2 2v14c0 1.1.9 2 2 2h14c1.1 0 2-.9 2-2V5c0-1.1-.9-2-2-2zM9 17H7v-7h2v7zm4 0h-2V7h2v10zm4 0h-2v-4h2v4z\"/>\n",
       "    </g>\n",
       "</svg>\n",
       "      </button>\n",
       "\n",
       "<style>\n",
       "  .colab-df-quickchart {\n",
       "      --bg-color: #E8F0FE;\n",
       "      --fill-color: #1967D2;\n",
       "      --hover-bg-color: #E2EBFA;\n",
       "      --hover-fill-color: #174EA6;\n",
       "      --disabled-fill-color: #AAA;\n",
       "      --disabled-bg-color: #DDD;\n",
       "  }\n",
       "\n",
       "  [theme=dark] .colab-df-quickchart {\n",
       "      --bg-color: #3B4455;\n",
       "      --fill-color: #D2E3FC;\n",
       "      --hover-bg-color: #434B5C;\n",
       "      --hover-fill-color: #FFFFFF;\n",
       "      --disabled-bg-color: #3B4455;\n",
       "      --disabled-fill-color: #666;\n",
       "  }\n",
       "\n",
       "  .colab-df-quickchart {\n",
       "    background-color: var(--bg-color);\n",
       "    border: none;\n",
       "    border-radius: 50%;\n",
       "    cursor: pointer;\n",
       "    display: none;\n",
       "    fill: var(--fill-color);\n",
       "    height: 32px;\n",
       "    padding: 0;\n",
       "    width: 32px;\n",
       "  }\n",
       "\n",
       "  .colab-df-quickchart:hover {\n",
       "    background-color: var(--hover-bg-color);\n",
       "    box-shadow: 0 1px 2px rgba(60, 64, 67, 0.3), 0 1px 3px 1px rgba(60, 64, 67, 0.15);\n",
       "    fill: var(--button-hover-fill-color);\n",
       "  }\n",
       "\n",
       "  .colab-df-quickchart-complete:disabled,\n",
       "  .colab-df-quickchart-complete:disabled:hover {\n",
       "    background-color: var(--disabled-bg-color);\n",
       "    fill: var(--disabled-fill-color);\n",
       "    box-shadow: none;\n",
       "  }\n",
       "\n",
       "  .colab-df-spinner {\n",
       "    border: 2px solid var(--fill-color);\n",
       "    border-color: transparent;\n",
       "    border-bottom-color: var(--fill-color);\n",
       "    animation:\n",
       "      spin 1s steps(1) infinite;\n",
       "  }\n",
       "\n",
       "  @keyframes spin {\n",
       "    0% {\n",
       "      border-color: transparent;\n",
       "      border-bottom-color: var(--fill-color);\n",
       "      border-left-color: var(--fill-color);\n",
       "    }\n",
       "    20% {\n",
       "      border-color: transparent;\n",
       "      border-left-color: var(--fill-color);\n",
       "      border-top-color: var(--fill-color);\n",
       "    }\n",
       "    30% {\n",
       "      border-color: transparent;\n",
       "      border-left-color: var(--fill-color);\n",
       "      border-top-color: var(--fill-color);\n",
       "      border-right-color: var(--fill-color);\n",
       "    }\n",
       "    40% {\n",
       "      border-color: transparent;\n",
       "      border-right-color: var(--fill-color);\n",
       "      border-top-color: var(--fill-color);\n",
       "    }\n",
       "    60% {\n",
       "      border-color: transparent;\n",
       "      border-right-color: var(--fill-color);\n",
       "    }\n",
       "    80% {\n",
       "      border-color: transparent;\n",
       "      border-right-color: var(--fill-color);\n",
       "      border-bottom-color: var(--fill-color);\n",
       "    }\n",
       "    90% {\n",
       "      border-color: transparent;\n",
       "      border-bottom-color: var(--fill-color);\n",
       "    }\n",
       "  }\n",
       "</style>\n",
       "\n",
       "      <script>\n",
       "        async function quickchart(key) {\n",
       "          const quickchartButtonEl =\n",
       "            document.querySelector('#' + key + ' button');\n",
       "          quickchartButtonEl.disabled = true;  // To prevent multiple clicks.\n",
       "          quickchartButtonEl.classList.add('colab-df-spinner');\n",
       "          try {\n",
       "            const charts = await google.colab.kernel.invokeFunction(\n",
       "                'suggestCharts', [key], {});\n",
       "          } catch (error) {\n",
       "            console.error('Error during call to suggestCharts:', error);\n",
       "          }\n",
       "          quickchartButtonEl.classList.remove('colab-df-spinner');\n",
       "          quickchartButtonEl.classList.add('colab-df-quickchart-complete');\n",
       "        }\n",
       "        (() => {\n",
       "          let quickchartButtonEl =\n",
       "            document.querySelector('#df-ec1b045a-6eaf-44b3-9188-dd86340b65d4 button');\n",
       "          quickchartButtonEl.style.display =\n",
       "            google.colab.kernel.accessAllowed ? 'block' : 'none';\n",
       "        })();\n",
       "      </script>\n",
       "    </div>\n",
       "    </div>\n",
       "  </div>\n"
      ],
      "text/plain": [
       "     t_mean  wind_speed_mean   rh_mean  apcp_mean  wind_dir_std  soilw10_mean  \\\n",
       "0 -1.887257        -0.047571  1.201984   0.150494     -0.531109      1.525053   \n",
       "1 -1.750273         1.728178  1.210773   0.905277     -0.650823      1.406636   \n",
       "2 -1.786003         1.670896  1.173733   0.282581     -0.550192      1.169801   \n",
       "3 -1.402096         1.398805  1.230234   0.792060     -0.510173      1.761887   \n",
       "4 -2.172439         1.055112  1.218934   0.697712      0.366810      0.459299   \n",
       "\n",
       "   elevation     slope    aspect  road_dist  river_dist  locality_dist  \\\n",
       "0   1.476445 -0.047134 -0.580267  -0.087056   -0.089247      -0.334921   \n",
       "1  -0.855097  0.893102  1.294228   0.963490   -0.367656      -0.819439   \n",
       "2  -0.417496 -0.792476  0.918920   0.988931    0.837171       0.624715   \n",
       "3   0.104126 -0.575298  0.020310  -0.119628   -0.039831      -0.335354   \n",
       "4  -0.603039 -0.730377  0.150135   2.615564   -0.142636      -0.073070   \n",
       "\n",
       "   vegetation_type  event_date  is_fire  \n",
       "0               18  2015-03-01        0  \n",
       "1               15  2015-03-01        0  \n",
       "2               11  2015-03-01        0  \n",
       "3               11  2015-03-01        0  \n",
       "4               18  2015-03-01        0  "
      ]
     },
     "execution_count": 6,
     "metadata": {},
     "output_type": "execute_result"
    }
   ],
   "source": [
    "train_ds = pd.read_csv(train_files_path + \"dataset.csv\", sep=\";\").drop(columns=[\"Unnamed: 0\"])\n",
    "print(train_ds.dtypes, train_ds.shape, train_ds.columns, train_ds.index, sep=\"\\n\")\n",
    "train_ds.head(5)"
   ]
  },
  {
   "cell_type": "code",
   "execution_count": 7,
   "metadata": {
    "colab": {
     "base_uri": "https://localhost:8080/",
     "height": 621
    },
    "id": "50Db7Q8BzKZs",
    "outputId": "69f18359-b943-4c47-c05a-323bc020ac81"
   },
   "outputs": [
    {
     "name": "stdout",
     "output_type": "stream",
     "text": [
      "Index([    0,     1,     2,     3,     4,     5,     6,     7,     8,     9,\n",
      "       ...\n",
      "       18259, 18285, 18288, 18289, 18296, 18298, 18300, 18302, 18305, 18307],\n",
      "      dtype='int64', length=10649)\n",
      "2775 18308\n",
      "(2775,)\n"
     ]
    },
    {
     "data": {
      "text/plain": [
       "(is_fire\n",
       " 0    7874\n",
       " 1    7659\n",
       " Name: count, dtype: int64,\n",
       " <Axes: >)"
      ]
     },
     "execution_count": 7,
     "metadata": {},
     "output_type": "execute_result"
    },
    {
     "data": {
      "image/png": "[encoded data removed]",
      "text/plain": [
       "<Figure size 640x480 with 1 Axes>"
      ]
     },
     "metadata": {},
     "output_type": "display_data"
    }
   ],
   "source": [
    "# drop nonfires\n",
    "drop_nonfires_idx = train_ds[(train_ds.is_fire == 0)].index\n",
    "assert drop_nonfires_idx.duplicated().sum() == 0\n",
    "print(drop_nonfires_idx)\n",
    "idx = drop_nonfires_idx.to_numpy()\n",
    "np.random.shuffle(idx)\n",
    "vc = train_ds.is_fire.value_counts()\n",
    "a = -215\n",
    "diff = vc[0] - vc[1] + a\n",
    "print(diff, train_ds.shape[0])\n",
    "drop_idx = idx[:diff]\n",
    "print(drop_idx.shape)\n",
    "\n",
    "train_ds = train_ds.drop(index=drop_idx)\n",
    "train_ds = train_ds.reset_index(drop=True)\n",
    "train_ds.is_fire.value_counts(), train_ds.is_fire.hist()"
   ]
  },
  {
   "cell_type": "code",
   "execution_count": 8,
   "metadata": {
    "colab": {
     "base_uri": "https://localhost:8080/"
    },
    "id": "nT21hUhXejuT",
    "outputId": "28404b18-bb2e-4221-df8c-968dc2c4af63"
   },
   "outputs": [
    {
     "data": {
      "text/plain": [
       "Index(['t_mean', 'wind_speed_mean', 'rh_mean', 'apcp_mean', 'wind_dir_std',\n",
       "       'soilw10_mean', 'elevation', 'slope', 'aspect', 'road_dist',\n",
       "       'river_dist', 'locality_dist', 'vegetation_type', 'event_date',\n",
       "       'is_fire'],\n",
       "      dtype='object')"
      ]
     },
     "execution_count": 8,
     "metadata": {},
     "output_type": "execute_result"
    }
   ],
   "source": [
    "train_ds.columns"
   ]
  },
  {
   "cell_type": "code",
   "execution_count": 9,
   "metadata": {
    "colab": {
     "base_uri": "https://localhost:8080/"
    },
    "id": "MEXh5CXeNnfb",
    "outputId": "cf53b6e4-6bff-4aec-ed64-ca5891eb8032"
   },
   "outputs": [
    {
     "data": {
      "text/plain": [
       "(np.True_, np.True_)"
      ]
     },
     "execution_count": 9,
     "metadata": {},
     "output_type": "execute_result"
    }
   ],
   "source": [
    "train_ds.event_date.isnull().sum() == 0, test_ds.event_date.isnull().sum() == 0"
   ]
  },
  {
   "cell_type": "code",
   "execution_count": 10,
   "metadata": {
    "colab": {
     "base_uri": "https://localhost:8080/"
    },
    "id": "2ggWIMMCNncq",
    "outputId": "c4841576-5833-4355-9921-b212c2ad4069"
   },
   "outputs": [
    {
     "data": {
      "text/plain": [
       "(RangeIndex(start=0, stop=15533, step=1),\n",
       " RangeIndex(start=0, stop=1556, step=1))"
      ]
     },
     "execution_count": 10,
     "metadata": {},
     "output_type": "execute_result"
    }
   ],
   "source": [
    "train_ds.index, test_ds.index"
   ]
  },
  {
   "cell_type": "code",
   "execution_count": 11,
   "metadata": {
    "colab": {
     "base_uri": "https://localhost:8080/"
    },
    "id": "BkVkmTdH0hzp",
    "outputId": "27f10131-1888-438a-f947-b0ba82545415"
   },
   "outputs": [
    {
     "data": {
      "text/plain": [
       "(Index(['t_mean', 'wind_speed_mean', 'rh_mean', 'apcp_mean', 'wind_dir_std',\n",
       "        'soilw10_mean', 'elevation', 'slope', 'aspect', 'road_dist',\n",
       "        'river_dist', 'locality_dist', 'vegetation_type', 'event_date',\n",
       "        'is_fire'],\n",
       "       dtype='object'),\n",
       " np.True_,\n",
       " (15533, 15))"
      ]
     },
     "execution_count": 11,
     "metadata": {},
     "output_type": "execute_result"
    }
   ],
   "source": [
    "# exclude cols in train_ds\n",
    "ex_cols = []\n",
    "train_ds_ = train_ds.loc[:, ~train_ds.columns.isin(ex_cols)]\n",
    "train_ds_.columns, train_ds_.event_date.isnull().sum() == 0, train_ds_.shape"
   ]
  },
  {
   "cell_type": "code",
   "execution_count": 12,
   "metadata": {
    "colab": {
     "base_uri": "https://localhost:8080/",
     "height": 457
    },
    "id": "ltK0-RHJxca5",
    "outputId": "23fffc4c-d126-484b-a9ee-0b5b26ea4dfc"
   },
   "outputs": [
    {
     "data": {
      "application/vnd.google.colaboratory.intrinsic+json": {
       "summary": "{\n  \"name\": \"VIF\",\n  \"rows\": 13,\n  \"fields\": [\n    {\n      \"column\": \"feature\",\n      \"properties\": {\n        \"dtype\": \"string\",\n        \"num_unique_values\": 13,\n        \"samples\": [\n          \"locality_dist\",\n          \"road_dist\",\n          \"t_mean\"\n        ],\n        \"semantic_type\": \"\",\n        \"description\": \"\"\n      }\n    },\n    {\n      \"column\": \"VIF\",\n      \"properties\": {\n        \"dtype\": \"number\",\n        \"std\": 1.2663632878124418,\n        \"min\": 1.0090148719625691,\n        \"max\": 5.154705529190808,\n        \"num_unique_values\": 13,\n        \"samples\": [\n          1.4483595069215809,\n          1.497427918590783,\n          3.4416938163282103\n        ],\n        \"semantic_type\": \"\",\n        \"description\": \"\"\n      }\n    }\n  ]\n}",
       "type": "dataframe",
       "variable_name": "VIF"
      },
      "text/html": [
       "\n",
       "  <div id=\"df-17521d69-ddf0-4cb2-89e7-3e32a6673e9d\" class=\"colab-df-container\">\n",
       "    <div>\n",
       "<style scoped>\n",
       "    .dataframe tbody tr th:only-of-type {\n",
       "        vertical-align: middle;\n",
       "    }\n",
       "\n",
       "    .dataframe tbody tr th {\n",
       "        vertical-align: top;\n",
       "    }\n",
       "\n",
       "    .dataframe thead th {\n",
       "        text-align: right;\n",
       "    }\n",
       "</style>\n",
       "<table border=\"1\" class=\"dataframe\">\n",
       "  <thead>\n",
       "    <tr style=\"text-align: right;\">\n",
       "      <th></th>\n",
       "      <th>feature</th>\n",
       "      <th>VIF</th>\n",
       "    </tr>\n",
       "  </thead>\n",
       "  <tbody>\n",
       "    <tr>\n",
       "      <th>0</th>\n",
       "      <td>t_mean</td>\n",
       "      <td>3.441694</td>\n",
       "    </tr>\n",
       "    <tr>\n",
       "      <th>1</th>\n",
       "      <td>wind_speed_mean</td>\n",
       "      <td>1.381537</td>\n",
       "    </tr>\n",
       "    <tr>\n",
       "      <th>2</th>\n",
       "      <td>rh_mean</td>\n",
       "      <td>5.154706</td>\n",
       "    </tr>\n",
       "    <tr>\n",
       "      <th>3</th>\n",
       "      <td>apcp_mean</td>\n",
       "      <td>1.427783</td>\n",
       "    </tr>\n",
       "    <tr>\n",
       "      <th>4</th>\n",
       "      <td>wind_dir_std</td>\n",
       "      <td>1.214968</td>\n",
       "    </tr>\n",
       "    <tr>\n",
       "      <th>5</th>\n",
       "      <td>soilw10_mean</td>\n",
       "      <td>3.570503</td>\n",
       "    </tr>\n",
       "    <tr>\n",
       "      <th>6</th>\n",
       "      <td>elevation</td>\n",
       "      <td>1.817726</td>\n",
       "    </tr>\n",
       "    <tr>\n",
       "      <th>7</th>\n",
       "      <td>slope</td>\n",
       "      <td>1.672320</td>\n",
       "    </tr>\n",
       "    <tr>\n",
       "      <th>8</th>\n",
       "      <td>aspect</td>\n",
       "      <td>1.106674</td>\n",
       "    </tr>\n",
       "    <tr>\n",
       "      <th>9</th>\n",
       "      <td>road_dist</td>\n",
       "      <td>1.497428</td>\n",
       "    </tr>\n",
       "    <tr>\n",
       "      <th>10</th>\n",
       "      <td>river_dist</td>\n",
       "      <td>1.026706</td>\n",
       "    </tr>\n",
       "    <tr>\n",
       "      <th>11</th>\n",
       "      <td>locality_dist</td>\n",
       "      <td>1.448360</td>\n",
       "    </tr>\n",
       "    <tr>\n",
       "      <th>12</th>\n",
       "      <td>vegetation_type</td>\n",
       "      <td>1.009015</td>\n",
       "    </tr>\n",
       "  </tbody>\n",
       "</table>\n",
       "</div>\n",
       "    <div class=\"colab-df-buttons\">\n",
       "\n",
       "  <div class=\"colab-df-container\">\n",
       "    <button class=\"colab-df-convert\" onclick=\"convertToInteractive('df-17521d69-ddf0-4cb2-89e7-3e32a6673e9d')\"\n",
       "            title=\"Convert this dataframe to an interactive table.\"\n",
       "            style=\"display:none;\">\n",
       "\n",
       "  <svg xmlns=\"http://www.w3.org/2000/svg\" height=\"24px\" viewBox=\"0 -960 960 960\">\n",
       "    <path d=\"M120-120v-720h720v720H120Zm60-500h600v-160H180v160Zm220 220h160v-160H400v160Zm0 220h160v-160H400v160ZM180-400h160v-160H180v160Zm440 0h160v-160H620v160ZM180-180h160v-160H180v160Zm440 0h160v-160H620v160Z\"/>\n",
       "  </svg>\n",
       "    </button>\n",
       "\n",
       "  <style>\n",
       "    .colab-df-container {\n",
       "      display:flex;\n",
       "      gap: 12px;\n",
       "    }\n",
       "\n",
       "    .colab-df-convert {\n",
       "      background-color: #E8F0FE;\n",
       "      border: none;\n",
       "      border-radius: 50%;\n",
       "      cursor: pointer;\n",
       "      display: none;\n",
       "      fill: #1967D2;\n",
       "      height: 32px;\n",
       "      padding: 0 0 0 0;\n",
       "      width: 32px;\n",
       "    }\n",
       "\n",
       "    .colab-df-convert:hover {\n",
       "      background-color: #E2EBFA;\n",
       "      box-shadow: 0px 1px 2px rgba(60, 64, 67, 0.3), 0px 1px 3px 1px rgba(60, 64, 67, 0.15);\n",
       "      fill: #174EA6;\n",
       "    }\n",
       "\n",
       "    .colab-df-buttons div {\n",
       "      margin-bottom: 4px;\n",
       "    }\n",
       "\n",
       "    [theme=dark] .colab-df-convert {\n",
       "      background-color: #3B4455;\n",
       "      fill: #D2E3FC;\n",
       "    }\n",
       "\n",
       "    [theme=dark] .colab-df-convert:hover {\n",
       "      background-color: #434B5C;\n",
       "      box-shadow: 0px 1px 3px 1px rgba(0, 0, 0, 0.15);\n",
       "      filter: drop-shadow(0px 1px 2px rgba(0, 0, 0, 0.3));\n",
       "      fill: #FFFFFF;\n",
       "    }\n",
       "  </style>\n",
       "\n",
       "    <script>\n",
       "      const buttonEl =\n",
       "        document.querySelector('#df-17521d69-ddf0-4cb2-89e7-3e32a6673e9d button.colab-df-convert');\n",
       "      buttonEl.style.display =\n",
       "        google.colab.kernel.accessAllowed ? 'block' : 'none';\n",
       "\n",
       "      async function convertToInteractive(key) {\n",
       "        const element = document.querySelector('#df-17521d69-ddf0-4cb2-89e7-3e32a6673e9d');\n",
       "        const dataTable =\n",
       "          await google.colab.kernel.invokeFunction('convertToInteractive',\n",
       "                                                    [key], {});\n",
       "        if (!dataTable) return;\n",
       "\n",
       "        const docLinkHtml = 'Like what you see? Visit the ' +\n",
       "          '<a target=\"_blank\" href=https://colab.research.google.com/notebooks/data_table.ipynb>data table notebook</a>'\n",
       "          + ' to learn more about interactive tables.';\n",
       "        element.innerHTML = '';\n",
       "        dataTable['output_type'] = 'display_data';\n",
       "        await google.colab.output.renderOutput(dataTable, element);\n",
       "        const docLink = document.createElement('div');\n",
       "        docLink.innerHTML = docLinkHtml;\n",
       "        element.appendChild(docLink);\n",
       "      }\n",
       "    </script>\n",
       "  </div>\n",
       "\n",
       "\n",
       "    <div id=\"df-66ed50f4-e4b9-4463-a69e-5b2d0d1a75a8\">\n",
       "      <button class=\"colab-df-quickchart\" onclick=\"quickchart('df-66ed50f4-e4b9-4463-a69e-5b2d0d1a75a8')\"\n",
       "                title=\"Suggest charts\"\n",
       "                style=\"display:none;\">\n",
       "\n",
       "<svg xmlns=\"http://www.w3.org/2000/svg\" height=\"24px\"viewBox=\"0 0 24 24\"\n",
       "     width=\"24px\">\n",
       "    <g>\n",
       "        <path d=\"M19 3H5c-1.1 0-2 .9-2 2v14c0 1.1.9 2 2 2h14c1.1 0 2-.9 2-2V5c0-1.1-.9-2-2-2zM9 17H7v-7h2v7zm4 0h-2V7h2v10zm4 0h-2v-4h2v4z\"/>\n",
       "    </g>\n",
       "</svg>\n",
       "      </button>\n",
       "\n",
       "<style>\n",
       "  .colab-df-quickchart {\n",
       "      --bg-color: #E8F0FE;\n",
       "      --fill-color: #1967D2;\n",
       "      --hover-bg-color: #E2EBFA;\n",
       "      --hover-fill-color: #174EA6;\n",
       "      --disabled-fill-color: #AAA;\n",
       "      --disabled-bg-color: #DDD;\n",
       "  }\n",
       "\n",
       "  [theme=dark] .colab-df-quickchart {\n",
       "      --bg-color: #3B4455;\n",
       "      --fill-color: #D2E3FC;\n",
       "      --hover-bg-color: #434B5C;\n",
       "      --hover-fill-color: #FFFFFF;\n",
       "      --disabled-bg-color: #3B4455;\n",
       "      --disabled-fill-color: #666;\n",
       "  }\n",
       "\n",
       "  .colab-df-quickchart {\n",
       "    background-color: var(--bg-color);\n",
       "    border: none;\n",
       "    border-radius: 50%;\n",
       "    cursor: pointer;\n",
       "    display: none;\n",
       "    fill: var(--fill-color);\n",
       "    height: 32px;\n",
       "    padding: 0;\n",
       "    width: 32px;\n",
       "  }\n",
       "\n",
       "  .colab-df-quickchart:hover {\n",
       "    background-color: var(--hover-bg-color);\n",
       "    box-shadow: 0 1px 2px rgba(60, 64, 67, 0.3), 0 1px 3px 1px rgba(60, 64, 67, 0.15);\n",
       "    fill: var(--button-hover-fill-color);\n",
       "  }\n",
       "\n",
       "  .colab-df-quickchart-complete:disabled,\n",
       "  .colab-df-quickchart-complete:disabled:hover {\n",
       "    background-color: var(--disabled-bg-color);\n",
       "    fill: var(--disabled-fill-color);\n",
       "    box-shadow: none;\n",
       "  }\n",
       "\n",
       "  .colab-df-spinner {\n",
       "    border: 2px solid var(--fill-color);\n",
       "    border-color: transparent;\n",
       "    border-bottom-color: var(--fill-color);\n",
       "    animation:\n",
       "      spin 1s steps(1) infinite;\n",
       "  }\n",
       "\n",
       "  @keyframes spin {\n",
       "    0% {\n",
       "      border-color: transparent;\n",
       "      border-bottom-color: var(--fill-color);\n",
       "      border-left-color: var(--fill-color);\n",
       "    }\n",
       "    20% {\n",
       "      border-color: transparent;\n",
       "      border-left-color: var(--fill-color);\n",
       "      border-top-color: var(--fill-color);\n",
       "    }\n",
       "    30% {\n",
       "      border-color: transparent;\n",
       "      border-left-color: var(--fill-color);\n",
       "      border-top-color: var(--fill-color);\n",
       "      border-right-color: var(--fill-color);\n",
       "    }\n",
       "    40% {\n",
       "      border-color: transparent;\n",
       "      border-right-color: var(--fill-color);\n",
       "      border-top-color: var(--fill-color);\n",
       "    }\n",
       "    60% {\n",
       "      border-color: transparent;\n",
       "      border-right-color: var(--fill-color);\n",
       "    }\n",
       "    80% {\n",
       "      border-color: transparent;\n",
       "      border-right-color: var(--fill-color);\n",
       "      border-bottom-color: var(--fill-color);\n",
       "    }\n",
       "    90% {\n",
       "      border-color: transparent;\n",
       "      border-bottom-color: var(--fill-color);\n",
       "    }\n",
       "  }\n",
       "</style>\n",
       "\n",
       "      <script>\n",
       "        async function quickchart(key) {\n",
       "          const quickchartButtonEl =\n",
       "            document.querySelector('#' + key + ' button');\n",
       "          quickchartButtonEl.disabled = true;  // To prevent multiple clicks.\n",
       "          quickchartButtonEl.classList.add('colab-df-spinner');\n",
       "          try {\n",
       "            const charts = await google.colab.kernel.invokeFunction(\n",
       "                'suggestCharts', [key], {});\n",
       "          } catch (error) {\n",
       "            console.error('Error during call to suggestCharts:', error);\n",
       "          }\n",
       "          quickchartButtonEl.classList.remove('colab-df-spinner');\n",
       "          quickchartButtonEl.classList.add('colab-df-quickchart-complete');\n",
       "        }\n",
       "        (() => {\n",
       "          let quickchartButtonEl =\n",
       "            document.querySelector('#df-66ed50f4-e4b9-4463-a69e-5b2d0d1a75a8 button');\n",
       "          quickchartButtonEl.style.display =\n",
       "            google.colab.kernel.accessAllowed ? 'block' : 'none';\n",
       "        })();\n",
       "      </script>\n",
       "    </div>\n",
       "    </div>\n",
       "  </div>\n"
      ],
      "text/plain": [
       "            feature       VIF\n",
       "0            t_mean  3.441694\n",
       "1   wind_speed_mean  1.381537\n",
       "2           rh_mean  5.154706\n",
       "3         apcp_mean  1.427783\n",
       "4      wind_dir_std  1.214968\n",
       "5      soilw10_mean  3.570503\n",
       "6         elevation  1.817726\n",
       "7             slope  1.672320\n",
       "8            aspect  1.106674\n",
       "9         road_dist  1.497428\n",
       "10       river_dist  1.026706\n",
       "11    locality_dist  1.448360\n",
       "12  vegetation_type  1.009015"
      ]
     },
     "execution_count": 12,
     "metadata": {},
     "output_type": "execute_result"
    }
   ],
   "source": [
    "train_ds_vif = train_ds_.loc[:, ~train_ds_.columns.isin([\"is_fire\", \"event_date\"])]\n",
    "VIF = pd.DataFrame()\n",
    "VIF[\"feature\"] = list(train_ds_vif.columns)\n",
    "VIF[\"VIF\"] = [variance_inflation_factor(train_ds_vif.values, i) for i in range(train_ds_vif.shape[1])]\n",
    "VIF"
   ]
  },
  {
   "cell_type": "code",
   "execution_count": 13,
   "metadata": {
    "colab": {
     "base_uri": "https://localhost:8080/",
     "height": 899
    },
    "id": "hAEfnV__E-nz",
    "outputId": "e6ac28ce-10d6-4a84-a688-741007ad65bd"
   },
   "outputs": [
    {
     "data": {
      "text/plain": [
       "(     t_mean  wind_speed_mean   rh_mean  apcp_mean  wind_dir_std  soilw10_mean  \\\n",
       " 0 -1.750273         1.728178  1.210773   0.905277     -0.650823      1.406636   \n",
       " 1 -1.786003         1.670896  1.173733   0.282581     -0.550192      1.169801   \n",
       " 2 -2.172439         1.055112  1.218934   0.697712      0.366810      0.459299   \n",
       " 3 -1.859113         0.940547  1.158666   0.093886     -0.033866      1.525053   \n",
       " 4 -0.614052         4.377482 -0.148403  -0.585419     -0.782845      1.761887   \n",
       " \n",
       "    elevation     slope    aspect  road_dist  river_dist  locality_dist  \\\n",
       " 0  -0.855097  0.893102  1.294228   0.963490   -0.367656      -0.819439   \n",
       " 1  -0.417496 -0.792476  0.918920   0.988931    0.837171       0.624715   \n",
       " 2  -0.603039 -0.730377  0.150135   2.615564   -0.142636      -0.073070   \n",
       " 3   0.685261  1.821564  1.398652   0.157983   -0.876581       0.938513   \n",
       " 4   0.503219  1.520277  1.528360  -0.793166    2.769690      -0.848137   \n",
       " \n",
       "    vegetation_type  \n",
       " 0               15  \n",
       " 1               11  \n",
       " 2               18  \n",
       " 3               12  \n",
       " 4               17  ,\n",
       " 0    0\n",
       " 1    0\n",
       " 2    0\n",
       " 3    0\n",
       " 4    0\n",
       " Name: is_fire, dtype: int64,\n",
       " <Axes: >)"
      ]
     },
     "execution_count": 13,
     "metadata": {},
     "output_type": "execute_result"
    },
    {
     "data": {
      "image/png": "[encoded data removed]",
      "text/plain": [
       "<Figure size 640x480 with 1 Axes>"
      ]
     },
     "metadata": {},
     "output_type": "display_data"
    }
   ],
   "source": [
    "features = train_ds_.loc[:, ~train_ds_.columns.isin([\"is_fire\", \"event_date\"])]\n",
    "target = train_ds_[\"is_fire\"]\n",
    "features = features.reset_index(drop=True)\n",
    "target = target.reset_index(drop=True)\n",
    "features.head(5), target.head(5), target.hist()"
   ]
  },
  {
   "cell_type": "code",
   "execution_count": 14,
   "metadata": {
    "colab": {
     "base_uri": "https://localhost:8080/"
    },
    "id": "jJXbmN0dHynT",
    "outputId": "de1dcd24-0084-48b2-ebc5-e420c26db266"
   },
   "outputs": [
    {
     "data": {
      "text/plain": [
       "(Index(['t_mean', 'wind_speed_mean', 'rh_mean', 'apcp_mean', 'wind_dir_std',\n",
       "        'soilw10_mean', 'elevation', 'slope', 'aspect', 'road_dist',\n",
       "        'river_dist', 'locality_dist', 'vegetation_type'],\n",
       "       dtype='object'),)"
      ]
     },
     "execution_count": 14,
     "metadata": {},
     "output_type": "execute_result"
    }
   ],
   "source": [
    "# normalize vegetation_type\n",
    "vt = features.vegetation_type\n",
    "transform_ = (vt - vt.mean()) / vt.std()\n",
    "\n",
    "features_ex = features.copy()\n",
    "features_ex.vegetation_type = transform_\n",
    "features_ex.columns, #features_ex.vegetation_type"
   ]
  },
  {
   "cell_type": "code",
   "execution_count": 16,
   "metadata": {
    "colab": {
     "base_uri": "https://localhost:8080/"
    },
    "id": "Vj_pMatQadSh",
    "outputId": "d2acb51d-fb54-4218-91da-e4ae64666cb9"
   },
   "outputs": [
    {
     "data": {
      "text/plain": [
       "(         t_mean  wind_speed_mean   rh_mean  apcp_mean  wind_dir_std  \\\n",
       " 0     -1.750273         1.728178  1.210773   0.905277     -0.650823   \n",
       " 1     -1.786003         1.670896  1.173733   0.282581     -0.550192   \n",
       " 2     -2.172439         1.055112  1.218934   0.697712      0.366810   \n",
       " 3     -1.859113         0.940547  1.158666   0.093886     -0.033866   \n",
       " 4     -0.614052         4.377482 -0.148403  -0.585419     -0.782845   \n",
       " ...         ...              ...       ...        ...           ...   \n",
       " 15528 -0.676718         2.429886  0.960910   1.093973     -0.653404   \n",
       " 15529 -0.647144         2.014589  0.544055  -0.321245     -0.654007   \n",
       " 15530 -0.957612        -1.078651  0.044330  -0.623158      1.277295   \n",
       " 15531 -1.437606        -1.393704  0.452397  -0.601593      1.837182   \n",
       " 15532 -1.296444        -0.434226  0.640107  -0.601593      2.157542   \n",
       " \n",
       "        soilw10_mean  elevation     slope    aspect  road_dist  river_dist  \\\n",
       " 0          1.406636  -0.855097  0.893102  1.294228   0.963490   -0.367656   \n",
       " 1          1.169801  -0.417496 -0.792476  0.918920   0.988931    0.837171   \n",
       " 2          0.459299  -0.603039 -0.730377  0.150135   2.615564   -0.142636   \n",
       " 3          1.525053   0.685261  1.821564  1.398652   0.157983   -0.876581   \n",
       " 4          1.761887   0.503219  1.520277  1.528360  -0.793166    2.769690   \n",
       " ...             ...        ...       ...       ...        ...         ...   \n",
       " 15528      1.628667  -0.932115 -0.306629  1.603456   2.534381   -0.609535   \n",
       " 15529      0.725738  -0.295356  0.037399 -0.542111  -0.820305    2.228764   \n",
       " 15530      0.030038   0.026014 -0.184571 -0.161784  -0.944311   -0.059688   \n",
       " 15531      0.814550   0.867303 -0.539207  0.084963  -0.316172    0.806401   \n",
       " 15532      0.681331  -0.509100 -0.438116 -0.219297  -0.669321    0.507018   \n",
       " \n",
       "        locality_dist  vegetation_type  \n",
       " 0          -0.819439         0.323489  \n",
       " 1           0.624715        -0.442479  \n",
       " 2          -0.073070         0.897965  \n",
       " 3           0.938513        -0.250987  \n",
       " 4          -0.848137         0.706473  \n",
       " ...              ...              ...  \n",
       " 15528      -0.246946         0.897965  \n",
       " 15529      -0.412028        -0.442479  \n",
       " 15530      -1.047701         0.323489  \n",
       " 15531      -0.637776        -1.399940  \n",
       " 15532      -0.161473        -0.250987  \n",
       " \n",
       " [15533 rows x 13 columns],\n",
       " 0        0\n",
       " 1        0\n",
       " 2        0\n",
       " 3        0\n",
       " 4        0\n",
       "         ..\n",
       " 15528    0\n",
       " 15529    1\n",
       " 15530    1\n",
       " 15531    0\n",
       " 15532    1\n",
       " Name: is_fire, Length: 15533, dtype: int64)"
      ]
     },
     "execution_count": 16,
     "metadata": {},
     "output_type": "execute_result"
    }
   ],
   "source": [
    "features_ex, target"
   ]
  },
  {
   "cell_type": "code",
   "execution_count": 17,
   "metadata": {
    "colab": {
     "base_uri": "https://localhost:8080/",
     "height": 934
    },
    "id": "0m03VDYS0Hh6",
    "outputId": "2955f80a-9b28-4150-ddbd-a66c423fba4f"
   },
   "outputs": [
    {
     "data": {
      "text/plain": [
       "(     t_mean  wind_speed_mean   rh_mean  apcp_mean  wind_dir_std  soilw10_mean  \\\n",
       " 0 -1.750273         1.728178  1.210773   0.905277     -0.650823      1.406636   \n",
       " 1 -1.786003         1.670896  1.173733   0.282581     -0.550192      1.169801   \n",
       " 2 -2.172439         1.055112  1.218934   0.697712      0.366810      0.459299   \n",
       " 3 -1.859113         0.940547  1.158666   0.093886     -0.033866      1.525053   \n",
       " 4 -0.614052         4.377482 -0.148403  -0.585419     -0.782845      1.761887   \n",
       " \n",
       "    elevation     slope    aspect  road_dist  river_dist  locality_dist  \\\n",
       " 0  -0.855097  0.893102  1.294228   0.963490   -0.367656      -0.819439   \n",
       " 1  -0.417496 -0.792476  0.918920   0.988931    0.837171       0.624715   \n",
       " 2  -0.603039 -0.730377  0.150135   2.615564   -0.142636      -0.073070   \n",
       " 3   0.685261  1.821564  1.398652   0.157983   -0.876581       0.938513   \n",
       " 4   0.503219  1.520277  1.528360  -0.793166    2.769690      -0.848137   \n",
       " \n",
       "    vegetation_type  \n",
       " 0         0.323489  \n",
       " 1        -0.442479  \n",
       " 2         0.897965  \n",
       " 3        -0.250987  \n",
       " 4         0.706473  ,\n",
       " 0    0\n",
       " 1    0\n",
       " 2    0\n",
       " 3    0\n",
       " 4    0\n",
       " Name: is_fire, dtype: int64,\n",
       " (15533, 13),\n",
       " (15533,),\n",
       " <Axes: >)"
      ]
     },
     "execution_count": 17,
     "metadata": {},
     "output_type": "execute_result"
    },
    {
     "data": {
      "image/png": "[encoded data removed]",
      "text/plain": [
       "<Figure size 640x480 with 1 Axes>"
      ]
     },
     "metadata": {},
     "output_type": "display_data"
    }
   ],
   "source": [
    "X_train_ds = features_ex.copy()\n",
    "y_train_ds = target.copy()\n",
    "X_train_ds.head(5), y_train_ds.head(5), X_train_ds.shape, y_train_ds.shape, y_train_ds.hist()"
   ]
  },
  {
   "cell_type": "markdown",
   "metadata": {
    "id": "qnewxDinO_Ut"
   },
   "source": [
    "Prepare the test dataset so that it corresponds to the train ds"
   ]
  },
  {
   "cell_type": "code",
   "execution_count": 18,
   "metadata": {
    "colab": {
     "base_uri": "https://localhost:8080/",
     "height": 882
    },
    "id": "QLCNcuXg0Hh_",
    "outputId": "41ba3568-f4fc-482c-e134-d54f63021362"
   },
   "outputs": [
    {
     "name": "stdout",
     "output_type": "stream",
     "text": [
      "Is the X train and X test columns order equal? True\n",
      "The target name: is_fire\n",
      "     t_mean  wind_speed_mean   rh_mean  apcp_mean  wind_dir_std  soilw10_mean  \\\n",
      "0 -1.982983         1.651980  0.946560  -0.422448     -1.355052      0.713305   \n",
      "1 -1.497209         0.109445  0.978408  -0.283478     -0.651410      1.139386   \n",
      "\n",
      "   elevation     slope    aspect  road_dist  river_dist  locality_dist  \\\n",
      "0   5.225032  3.599040 -0.828978   0.235872   -0.469630      -0.695104   \n",
      "1   0.754283  1.210331  1.390761  -0.743702   -0.655799      -0.808686   \n",
      "\n",
      "   vegetation_type  \n",
      "0         1.436138  \n",
      "1         0.815579  \n",
      "0       0\n",
      "1       0\n",
      "2       0\n",
      "3       0\n",
      "4       0\n",
      "       ..\n",
      "1551    0\n",
      "1552    0\n",
      "1553    0\n",
      "1554    0\n",
      "1555    0\n",
      "Name: is_fire, Length: 1556, dtype: int64\n"
     ]
    },
    {
     "data": {
      "text/plain": [
       "<Axes: >"
      ]
     },
     "execution_count": 18,
     "metadata": {},
     "output_type": "execute_result"
    },
    {
     "data": {
      "image/png": "[encoded data removed]",
      "text/plain": [
       "<Figure size 640x480 with 1 Axes>"
      ]
     },
     "metadata": {},
     "output_type": "display_data"
    }
   ],
   "source": [
    "# prepare the test dataset\n",
    "\n",
    "target_col = target.name\n",
    "train_ds_cols = X_train_ds.columns.to_list() + [target_col]\n",
    "test_ds_ = test_ds.loc[:, test_ds.columns.isin(train_ds_cols)]\n",
    "# print(test_ds_.columns) #, test_ds_.head(1))\n",
    "# test_ds_.is_fire.hist()\n",
    "\n",
    "X_test_ds = test_ds_.loc[:, ~test_ds_.columns.isin([target_col])]\n",
    "# # arrange X_test_ds so that its columns order corresponds to the X_train_ds (carefull! pd.DataFrame)\n",
    "X_test_ds = X_test_ds.reindex(X_train_ds.columns, axis=\"columns\")\n",
    "# # assert that no NaN columns appeared after the reindex\n",
    "assert X_test_ds.isnull().sum().sum() == 0\n",
    "y_test_ds = test_ds_.loc[:, target_col]\n",
    "print(\"Is the X train and X test columns order equal?\", (X_train_ds.columns == X_test_ds.columns).all(), )\n",
    "print(\"The target name:\", y_test_ds.name)\n",
    "# print(X_train_ds.head(2), X_test_ds.head(2), sep=\"\\n\")\n",
    "\n",
    "# normalize X_test using z-score (like X_train)\n",
    "# print(\"*\" * 100, \"Normalizing the test dataset\", sep=\"\\n\")\n",
    "X_test_ds = (X_test_ds - X_test_ds.mean()) / X_test_ds.std()\n",
    "print(X_test_ds.head(2), y_test_ds, sep=\"\\n\")\n",
    "y_test_ds.hist()"
   ]
  },
  {
   "cell_type": "code",
   "execution_count": 19,
   "metadata": {
    "colab": {
     "base_uri": "https://localhost:8080/"
    },
    "id": "oR1Xlw_ePD6y",
    "outputId": "154e6cec-3f0e-4477-b280-4a22231b0abe"
   },
   "outputs": [
    {
     "data": {
      "text/plain": [
       "((15533, 13),\n",
       "          t_mean  wind_speed_mean   rh_mean  apcp_mean  wind_dir_std  \\\n",
       " 0     -1.750273         1.728178  1.210773   0.905277     -0.650823   \n",
       " 1     -1.786003         1.670896  1.173733   0.282581     -0.550192   \n",
       " 2     -2.172439         1.055112  1.218934   0.697712      0.366810   \n",
       " 3     -1.859113         0.940547  1.158666   0.093886     -0.033866   \n",
       " 4     -0.614052         4.377482 -0.148403  -0.585419     -0.782845   \n",
       " ...         ...              ...       ...        ...           ...   \n",
       " 15528 -0.676718         2.429886  0.960910   1.093973     -0.653404   \n",
       " 15529 -0.647144         2.014589  0.544055  -0.321245     -0.654007   \n",
       " 15530 -0.957612        -1.078651  0.044330  -0.623158      1.277295   \n",
       " 15531 -1.437606        -1.393704  0.452397  -0.601593      1.837182   \n",
       " 15532 -1.296444        -0.434226  0.640107  -0.601593      2.157542   \n",
       " \n",
       "        soilw10_mean  elevation     slope    aspect  road_dist  river_dist  \\\n",
       " 0          1.406636  -0.855097  0.893102  1.294228   0.963490   -0.367656   \n",
       " 1          1.169801  -0.417496 -0.792476  0.918920   0.988931    0.837171   \n",
       " 2          0.459299  -0.603039 -0.730377  0.150135   2.615564   -0.142636   \n",
       " 3          1.525053   0.685261  1.821564  1.398652   0.157983   -0.876581   \n",
       " 4          1.761887   0.503219  1.520277  1.528360  -0.793166    2.769690   \n",
       " ...             ...        ...       ...       ...        ...         ...   \n",
       " 15528      1.628667  -0.932115 -0.306629  1.603456   2.534381   -0.609535   \n",
       " 15529      0.725738  -0.295356  0.037399 -0.542111  -0.820305    2.228764   \n",
       " 15530      0.030038   0.026014 -0.184571 -0.161784  -0.944311   -0.059688   \n",
       " 15531      0.814550   0.867303 -0.539207  0.084963  -0.316172    0.806401   \n",
       " 15532      0.681331  -0.509100 -0.438116 -0.219297  -0.669321    0.507018   \n",
       " \n",
       "        locality_dist  vegetation_type  event_date  is_fire  \n",
       " 0          -0.819439               15  2015-03-01        0  \n",
       " 1           0.624715               11  2015-03-01        0  \n",
       " 2          -0.073070               18  2015-03-01        0  \n",
       " 3           0.938513               12  2015-03-01        0  \n",
       " 4          -0.848137               17  2015-03-01        0  \n",
       " ...              ...              ...         ...      ...  \n",
       " 15528      -0.246946               18  2023-10-28        0  \n",
       " 15529      -0.412028               11  2023-10-28        1  \n",
       " 15530      -1.047701               15  2023-10-30        1  \n",
       " 15531      -0.637776                6  2023-10-31        0  \n",
       " 15532      -0.161473               12  2023-10-31        1  \n",
       " \n",
       " [15533 rows x 15 columns])"
      ]
     },
     "execution_count": 19,
     "metadata": {},
     "output_type": "execute_result"
    }
   ],
   "source": [
    "X_train_ds.shape, train_ds_"
   ]
  },
  {
   "cell_type": "code",
   "execution_count": 20,
   "metadata": {
    "colab": {
     "base_uri": "https://localhost:8080/"
    },
    "id": "_fkDonaNMnzZ",
    "outputId": "088ac09d-c613-4bf6-cc52-09d4a44741a2"
   },
   "outputs": [
    {
     "name": "stdout",
     "output_type": "stream",
     "text": [
      "0 0\n"
     ]
    },
    {
     "data": {
      "text/plain": [
       "(np.True_, np.True_)"
      ]
     },
     "execution_count": 20,
     "metadata": {},
     "output_type": "execute_result"
    }
   ],
   "source": [
    "X_train_ds = X_train_ds.join(train_ds_[\"event_date\"])\n",
    "X_test_ds = X_test_ds.join(test_ds[\"event_date\"])\n",
    "print(X_train_ds.event_date.isnull().sum(), X_test_ds.event_date.isnull().sum())\n",
    "X_train_ds.index.duplicated().sum() == 0, X_test_ds.index.duplicated().sum() == 0,"
   ]
  },
  {
   "cell_type": "code",
   "execution_count": 22,
   "metadata": {
    "colab": {
     "base_uri": "https://localhost:8080/"
    },
    "id": "Mz3M2beWM_1Y",
    "outputId": "022d9aa7-ae96-4708-d8a1-b78f46dcc483"
   },
   "outputs": [
    {
     "data": {
      "text/plain": [
       "(     t_mean  wind_speed_mean   rh_mean  apcp_mean  wind_dir_std  soilw10_mean  \\\n",
       " 0 -1.750273         1.728178  1.210773   0.905277     -0.650823      1.406636   \n",
       " 1 -1.786003         1.670896  1.173733   0.282581     -0.550192      1.169801   \n",
       " 2 -2.172439         1.055112  1.218934   0.697712      0.366810      0.459299   \n",
       " 3 -1.859113         0.940547  1.158666   0.093886     -0.033866      1.525053   \n",
       " 4 -0.614052         4.377482 -0.148403  -0.585419     -0.782845      1.761887   \n",
       " \n",
       "    elevation     slope    aspect  road_dist  river_dist  locality_dist  \\\n",
       " 0  -0.855097  0.893102  1.294228   0.963490   -0.367656      -0.819439   \n",
       " 1  -0.417496 -0.792476  0.918920   0.988931    0.837171       0.624715   \n",
       " 2  -0.603039 -0.730377  0.150135   2.615564   -0.142636      -0.073070   \n",
       " 3   0.685261  1.821564  1.398652   0.157983   -0.876581       0.938513   \n",
       " 4   0.503219  1.520277  1.528360  -0.793166    2.769690      -0.848137   \n",
       " \n",
       "    vegetation_type  event_date  \n",
       " 0         0.323489  2015-03-01  \n",
       " 1        -0.442479  2015-03-01  \n",
       " 2         0.897965  2015-03-01  \n",
       " 3        -0.250987  2015-03-01  \n",
       " 4         0.706473  2015-03-01  ,\n",
       " 0    0\n",
       " 1    0\n",
       " 2    0\n",
       " 3    0\n",
       " 4    0\n",
       " Name: is_fire, dtype: int64)"
      ]
     },
     "execution_count": 22,
     "metadata": {},
     "output_type": "execute_result"
    }
   ],
   "source": [
    "X_train_ds.head(5), y_train_ds.head(5)"
   ]
  },
  {
   "cell_type": "code",
   "execution_count": 23,
   "metadata": {
    "colab": {
     "base_uri": "https://localhost:8080/"
    },
    "id": "h883rYBia3WZ",
    "outputId": "cff2731a-596f-4120-cb00-1ff9bd1dd950"
   },
   "outputs": [
    {
     "data": {
      "text/plain": [
       "(     t_mean  wind_speed_mean   rh_mean  apcp_mean  wind_dir_std  soilw10_mean  \\\n",
       " 0 -1.982983         1.651980  0.946560  -0.422448     -1.355052      0.713305   \n",
       " 1 -1.497209         0.109445  0.978408  -0.283478     -0.651410      1.139386   \n",
       " 2 -1.679532         1.108420  1.049597   0.034168     -0.380244      1.139386   \n",
       " 3 -1.661299         0.432643  1.082694   0.173139     -0.466278      1.032866   \n",
       " 4 -1.551382         0.212280  1.007758  -0.144508     -0.724264      0.926345   \n",
       " \n",
       "    elevation     slope    aspect  road_dist  river_dist  locality_dist  \\\n",
       " 0   5.225032  3.599040 -0.828978   0.235872   -0.469630      -0.695104   \n",
       " 1   0.754283  1.210331  1.390761  -0.743702   -0.655799      -0.808686   \n",
       " 2  -0.480496 -0.877701  0.626070   2.061805    0.012679       0.316273   \n",
       " 3   0.541390  0.393388 -0.656251  -0.872888   -0.668769      -0.394442   \n",
       " 4   0.868917 -0.065738  1.328163  -0.403708   -0.716960       0.198078   \n",
       " \n",
       "    vegetation_type  event_date  \n",
       " 0         1.436138  2024-03-01  \n",
       " 1         0.815579  2024-03-01  \n",
       " 2         0.815579  2024-03-01  \n",
       " 3         0.815579  2024-03-01  \n",
       " 4         0.608727  2024-03-01  ,\n",
       " 0    0\n",
       " 1    0\n",
       " 2    0\n",
       " 3    0\n",
       " 4    0\n",
       " Name: is_fire, dtype: int64)"
      ]
     },
     "execution_count": 23,
     "metadata": {},
     "output_type": "execute_result"
    }
   ],
   "source": [
    "X_test_ds.head(5), y_test_ds.head(5)"
   ]
  },
  {
   "cell_type": "code",
   "execution_count": 24,
   "metadata": {
    "id": "U_44dwB-NKsm"
   },
   "outputs": [],
   "source": [
    "# https://www.kaggle.com/code/szaitseff/classification-of-time-series-with-lstm-rnn/notebook\n",
    "# time window for the net is 100 records (not days because the last 100 days may repeat because of the different coordinates)\n",
    "time_window = 100"
   ]
  },
  {
   "cell_type": "code",
   "execution_count": 25,
   "metadata": {
    "id": "Y0uhg01QNKqW"
   },
   "outputs": [],
   "source": [
    "X_train_ds[\"event_date\"] = pd.to_datetime(X_train_ds[\"event_date\"])\n",
    "X_test_ds[\"event_date\"] = pd.to_datetime(X_test_ds[\"event_date\"])"
   ]
  },
  {
   "cell_type": "code",
   "execution_count": 26,
   "metadata": {
    "colab": {
     "base_uri": "https://localhost:8080/"
    },
    "id": "e7B-ItEaNKn4",
    "outputId": "7009e2c4-5c32-45f4-a12d-64d60c0bf281"
   },
   "outputs": [
    {
     "name": "stdout",
     "output_type": "stream",
     "text": [
      "274 253\n"
     ]
    }
   ],
   "source": [
    "train_start_idx = X_train_ds[X_train_ds[\"event_date\"].dt.month == 4].index[0]\n",
    "test_start_idx = X_test_ds[X_test_ds[\"event_date\"].dt.month == 4].index[0]\n",
    "print(train_start_idx, test_start_idx)"
   ]
  },
  {
   "cell_type": "code",
   "execution_count": 27,
   "metadata": {
    "colab": {
     "base_uri": "https://localhost:8080/"
    },
    "id": "s5Dia5Pgu8KU",
    "outputId": "3bbc8b39-fdbd-410b-ba8f-ec8aeb495106"
   },
   "outputs": [
    {
     "data": {
      "text/plain": [
       "((15533, 14), 15533, (1556, 14), 1556)"
      ]
     },
     "execution_count": 27,
     "metadata": {},
     "output_type": "execute_result"
    }
   ],
   "source": [
    "X_train_ds.shape, len(X_train_ds), X_test_ds.shape, len(X_test_ds)"
   ]
  },
  {
   "cell_type": "code",
   "execution_count": 28,
   "metadata": {
    "colab": {
     "base_uri": "https://localhost:8080/"
    },
    "id": "nx1cPRX7xJa-",
    "outputId": "a29b8c13-0a03-4b7b-cd57-ec4c4a480c8e"
   },
   "outputs": [
    {
     "data": {
      "text/plain": [
       "((15533, 13), 15533, (1556, 13), 1556)"
      ]
     },
     "execution_count": 28,
     "metadata": {},
     "output_type": "execute_result"
    }
   ],
   "source": [
    "X_train_ds = X_train_ds.loc[:, ~X_train_ds.columns.isin([\"event_date\"])]\n",
    "X_test_ds = X_test_ds.loc[:, ~X_test_ds.columns.isin([\"event_date\"])]\n",
    "X_train_ds.shape, len(X_train_ds), X_test_ds.shape, len(X_test_ds)"
   ]
  },
  {
   "cell_type": "code",
   "execution_count": 29,
   "metadata": {
    "colab": {
     "base_uri": "https://localhost:8080/"
    },
    "id": "dmCS5o-Jugzk",
    "outputId": "ba15640a-1cfa-45e8-ee60-1444f0b1015a"
   },
   "outputs": [
    {
     "name": "stdout",
     "output_type": "stream",
     "text": [
      "Train shape features: (15259, 101, 13), target: (15259, 1)\n"
     ]
    }
   ],
   "source": [
    "# prepare train\n",
    "X_train_l, y_train_l = [], []\n",
    "for i in range(train_start_idx, len(X_train_ds)):\n",
    "  x = X_train_ds.loc[i - time_window : i].values\n",
    "  y = y_train_ds.loc[i]\n",
    "  X_train_l.append(x)\n",
    "  y_train_l.append(y)\n",
    "\n",
    "X_train, y_train = np.array(X_train_l), np.array(y_train_l).reshape(-1, 1)\n",
    "print(f\"Train shape features: {X_train.shape}, target: {y_train.shape}\")"
   ]
  },
  {
   "cell_type": "code",
   "execution_count": 30,
   "metadata": {
    "colab": {
     "base_uri": "https://localhost:8080/"
    },
    "id": "pDsUmJHiugxF",
    "outputId": "ba621327-7b89-4c3a-c345-18543bb74348"
   },
   "outputs": [
    {
     "name": "stdout",
     "output_type": "stream",
     "text": [
      "Test shape features: (1303, 101, 13), target: (1303, 1)\n"
     ]
    }
   ],
   "source": [
    "# prepare test\n",
    "X_test_l, y_test_l = [], []\n",
    "for i in range(test_start_idx, len(X_test_ds)):\n",
    "  x = X_test_ds.loc[i - time_window : i].values\n",
    "  y = y_test_ds.loc[i]\n",
    "  X_test_l.append(x)\n",
    "  y_test_l.append(y)\n",
    "\n",
    "X_test, y_test = np.array(X_test_l), np.array(y_test_l).reshape(-1, 1)\n",
    "print(f\"Test shape features: {X_test.shape}, target: {y_test.shape}\")"
   ]
  },
  {
   "cell_type": "code",
   "execution_count": 30,
   "metadata": {
    "id": "660-SOUtugnY"
   },
   "outputs": [],
   "source": []
  },
  {
   "cell_type": "markdown",
   "metadata": {
    "id": "lbNukg-CXY6U"
   },
   "source": [
    "##### Build and train the model"
   ]
  },
  {
   "cell_type": "code",
   "execution_count": 31,
   "metadata": {
    "id": "zci5R0kuTBJh"
   },
   "outputs": [],
   "source": [
    "class ANNModel(keras_tuner.HyperModel):\n",
    "  \"\"\"\n",
    "  The hypermodel class that builds the tf.keras.Sequential model and tunes its hyperparameters\n",
    "  Params:\n",
    "  input_shape: tuple - the shape of the train dataset in the following form: (n, ), where n is the\n",
    "  number of train features\n",
    "  \"\"\"\n",
    "\n",
    "  def __init__(self, input_shape: tuple) -> None:\n",
    "    self.input_shape = input_shape\n",
    "\n",
    "\n",
    "  def build_model(self, hp, n_layers: int, learning_rate: float, ) -> tf.keras.Sequential:\n",
    "    \"\"\"\n",
    "    Description: build the model with the defined parameters\n",
    "    Params: the model parameters we want to tune\n",
    "    Returns: tf.keras.Sequential model\n",
    "    \"\"\"\n",
    "\n",
    "    model = Sequential()\n",
    "\n",
    "    model.add(Input(shape=self.input_shape))\n",
    "\n",
    "    reg_l = [0.001, 0.01, 0.1, 0.]\n",
    "    l2_reg_ = hp.Choice(\"lstm_activity_l2_reg_\", reg_l)\n",
    "    u1 = hp.Int(f\"lstm_units\", 8, 64, step=2, sampling=\"log\")\n",
    "    for i in range(n_layers):\n",
    "      model.add(\n",
    "          tf.keras.layers.LSTM(\n",
    "              units=u1, return_sequences=True,\n",
    "              bias_regularizer=rg.L1L2(l1=0, l2=l2_reg_),\n",
    "          )\n",
    "      )\n",
    "\n",
    "    model.add(tf.keras.layers.Flatten())\n",
    "\n",
    "    dense_layers = hp.Int(\"dense_layers\", min_value=1, max_value=12, step=1)\n",
    "    u2 = hp.Int(f\"dense_units\", 8, 1024, step=2, sampling=\"log\")\n",
    "    dr_o = hp.Float(f\"drop_out_\", 0.1, 0.3, step=0.05)\n",
    "    for i in range(dense_layers):\n",
    "      model.add(Dense(units=u2, activation=\"relu\", bias_regularizer=rg.L2(0.01)))\n",
    "      model.add(tf.keras.layers.BatchNormalization())\n",
    "      model.add(tf.keras.layers.Dropout(dr_o))\n",
    "     \n",
    "    model.add(Dense(1, activation=\"sigmoid\"))\n",
    "    model.compile(\n",
    "        optimizer=tf.optimizers.Adam(learning_rate=learning_rate),\n",
    "        loss=\"binary_crossentropy\",\n",
    "        metrics=[\"accuracy\", \"f1_score\", tf.metrics.AUC()] #, \"precision\", \"recall\"])\n",
    "    )\n",
    "\n",
    "    print(f\"I'm in build_model and I have the following params: {learning_rate, n_layers, u1, dense_layers, u2, dr_o}\")\n",
    "\n",
    "    return model\n",
    "\n",
    "\n",
    "  def build(self, hp):\n",
    "    \"\"\"\n",
    "    Description: build the model\n",
    "    Params:\n",
    "    hp - the hyperparameters class: keras_tuner.HyperParameters()\n",
    "    Returns: the built model\n",
    "    \"\"\"\n",
    "\n",
    "    n_layers = hp.Int(\"lstm_layers\", min_value=1, max_value=4, step=1)\n",
    "    l_rate = hp.Float(\"l_rate\", min_value=1e-5, max_value=1e-1, step=10, sampling=\"log\")\n",
    "\n",
    "    model = self.build_model(hp, n_layers, l_rate)\n",
    "    return model\n",
    "\n",
    "\n",
    "  def fit(self, hp, model, x, y, batch_size = None, validation_split = None, **kwargs):\n",
    "    \"\"\"\n",
    "    Description: fit the model\n",
    "    Params:\n",
    "    hp - the hyperparameters class: keras_tuner.HyperParameters()\n",
    "    model - the model to fit (get in build)\n",
    "    x, y - train features and train target respectively\n",
    "    batch_size - the batch size\n",
    "    validation_split - the validation split\n",
    "    **kwargs - all the parameters that tf.keras.Model.fit method has\n",
    "    \"\"\"\n",
    "    b_s = [32, 64, 128, 256, 512]\n",
    "    if batch_size is None:\n",
    "      batch_size = hp.Choice(\"b_size\", b_s)\n",
    "    print(\"I'm in fit and the batch size is\", batch_size)\n",
    "\n",
    "    v_s = [0.2, 0.15, 0.1, 0.25, 0.33]\n",
    "    if validation_split is None:\n",
    "      validation_split = hp.Choice(\"val_split\", v_s)\n",
    "    print(\"I'm in fit and the validation split is\", validation_split)\n",
    "\n",
    "    return model.fit(\n",
    "        x, y,\n",
    "        batch_size = batch_size,\n",
    "        validation_split = validation_split,\n",
    "        **kwargs,\n",
    "    )\n",
    "\n",
    "# usage\n",
    "# input_shape = (X_train.shape[1], )\n",
    "# hp = keras_tuner.HyperParameters()\n",
    "# model = ANNModel(input_shape)\n",
    "# m = model.build(hp)\n",
    "# model.fit(hp, m, x=X_train, y=y_train)\n",
    "# m.summary()"
   ]
  },
  {
   "cell_type": "code",
   "execution_count": 32,
   "metadata": {
    "colab": {
     "base_uri": "https://localhost:8080/"
    },
    "id": "j8cF2AAApN2z",
    "outputId": "92e77fb1-dd18-4192-8011-1252cac47893"
   },
   "outputs": [
    {
     "name": "stdout",
     "output_type": "stream",
     "text": [
      "Creating the directory for the tuner. Path: tuner_dir\n"
     ]
    }
   ],
   "source": [
    "# create a path for the tuner\n",
    "hp_tuner_path = \"tuner_dir\"\n",
    "if not os.path.exists(hp_tuner_path):\n",
    "  print(\"Creating the directory for the tuner. Path:\", hp_tuner_path)\n",
    "  os.mkdir(hp_tuner_path)\n",
    "\n",
    "# a couple of variables to use in search and fit\n",
    "callback_ = tf.keras.callbacks.EarlyStopping(monitor=\"val_loss\", patience=3, mode=\"min\", start_from_epoch=3)\n",
    "# if the values are None, tuner will use random search, else the specified value\n",
    "batch_size_ = None\n",
    "val_split_ = None"
   ]
  },
  {
   "cell_type": "code",
   "execution_count": 33,
   "metadata": {
    "colab": {
     "base_uri": "https://localhost:8080/"
    },
    "id": "T-T7SEb8TBHG",
    "outputId": "9fff6542-7e88-4d6b-de33-51b1a99336c5"
   },
   "outputs": [
    {
     "name": "stdout",
     "output_type": "stream",
     "text": [
      "Trial 20 Complete [00h 00m 19s]\n",
      "val_loss: 0.5798624753952026\n",
      "\n",
      "Best val_loss So Far: 0.3440505862236023\n",
      "Total elapsed time: 00h 30m 55s\n"
     ]
    }
   ],
   "source": [
    "# input_shape = (X_train.shape[1], )\n",
    "input_shape = X_train.shape[1:]\n",
    "rs_tuner = keras_tuner.RandomSearch(\n",
    "    ANNModel(input_shape),\n",
    "    objective=\"val_loss\",\n",
    "    max_trials = 20,\n",
    "    executions_per_trial = 1,\n",
    "    overwrite = True,\n",
    "    directory = hp_tuner_path,\n",
    "    project_name = \"fires\"\n",
    ")\n",
    "rs_tuner.search(X_train, y_train, epochs=100, batch_size=batch_size_, validation_split=val_split_, callbacks=[callback_])"
   ]
  },
  {
   "cell_type": "code",
   "execution_count": 34,
   "metadata": {
    "colab": {
     "base_uri": "https://localhost:8080/",
     "height": 1000
    },
    "id": "5LK4OMvOTBCM",
    "outputId": "5d334ef4-09b0-4a58-ee29-4506b474302f"
   },
   "outputs": [
    {
     "name": "stdout",
     "output_type": "stream",
     "text": [
      "Results summary\n",
      "Results in tuner_dir/fires\n",
      "Showing 10 best trials\n",
      "Objective(name=\"val_loss\", direction=\"min\")\n",
      "\n",
      "Trial 00 summary\n",
      "Hyperparameters:\n",
      "lstm_layers: 3\n",
      "l_rate: 0.001\n",
      "lstm_activity_l2_reg_: 0.01\n",
      "lstm_units: 32\n",
      "dense_layers: 2\n",
      "dense_units: 8\n",
      "drop_out_: 0.2\n",
      "b_size: 32\n",
      "val_split: 0.2\n",
      "Score: 0.3440505862236023\n",
      "\n",
      "Trial 12 summary\n",
      "Hyperparameters:\n",
      "lstm_layers: 3\n",
      "l_rate: 0.01\n",
      "lstm_activity_l2_reg_: 0.01\n",
      "lstm_units: 32\n",
      "dense_layers: 3\n",
      "dense_units: 8\n",
      "drop_out_: 0.2\n",
      "b_size: 256\n",
      "val_split: 0.15\n",
      "Score: 0.36324137449264526\n",
      "\n",
      "Trial 09 summary\n",
      "Hyperparameters:\n",
      "lstm_layers: 4\n",
      "l_rate: 0.01\n",
      "lstm_activity_l2_reg_: 0.001\n",
      "lstm_units: 8\n",
      "dense_layers: 1\n",
      "dense_units: 32\n",
      "drop_out_: 0.15000000000000002\n",
      "b_size: 32\n",
      "val_split: 0.33\n",
      "Score: 0.37946707010269165\n",
      "\n",
      "Trial 18 summary\n",
      "Hyperparameters:\n",
      "lstm_layers: 3\n",
      "l_rate: 0.01\n",
      "lstm_activity_l2_reg_: 0.001\n",
      "lstm_units: 16\n",
      "dense_layers: 7\n",
      "dense_units: 8\n",
      "drop_out_: 0.15000000000000002\n",
      "b_size: 128\n",
      "val_split: 0.1\n",
      "Score: 0.3869214951992035\n",
      "\n",
      "Trial 11 summary\n",
      "Hyperparameters:\n",
      "lstm_layers: 2\n",
      "l_rate: 0.001\n",
      "lstm_activity_l2_reg_: 0.01\n",
      "lstm_units: 8\n",
      "dense_layers: 1\n",
      "dense_units: 8\n",
      "drop_out_: 0.25\n",
      "b_size: 64\n",
      "val_split: 0.1\n",
      "Score: 0.3931504487991333\n",
      "\n",
      "Trial 15 summary\n",
      "Hyperparameters:\n",
      "lstm_layers: 2\n",
      "l_rate: 0.001\n",
      "lstm_activity_l2_reg_: 0.1\n",
      "lstm_units: 8\n",
      "dense_layers: 3\n",
      "dense_units: 32\n",
      "drop_out_: 0.25\n",
      "b_size: 32\n",
      "val_split: 0.1\n",
      "Score: 0.3953701853752136\n",
      "\n",
      "Trial 02 summary\n",
      "Hyperparameters:\n",
      "lstm_layers: 2\n",
      "l_rate: 0.01\n",
      "lstm_activity_l2_reg_: 0.1\n",
      "lstm_units: 32\n",
      "dense_layers: 9\n",
      "dense_units: 32\n",
      "drop_out_: 0.25\n",
      "b_size: 128\n",
      "val_split: 0.25\n",
      "Score: 0.3983813226222992\n",
      "\n",
      "Trial 01 summary\n",
      "Hyperparameters:\n",
      "lstm_layers: 3\n",
      "l_rate: 0.001\n",
      "lstm_activity_l2_reg_: 0.1\n",
      "lstm_units: 32\n",
      "dense_layers: 12\n",
      "dense_units: 32\n",
      "drop_out_: 0.25\n",
      "b_size: 256\n",
      "val_split: 0.15\n",
      "Score: 0.410676509141922\n",
      "\n",
      "Trial 10 summary\n",
      "Hyperparameters:\n",
      "lstm_layers: 2\n",
      "l_rate: 0.1\n",
      "lstm_activity_l2_reg_: 0.1\n",
      "lstm_units: 64\n",
      "dense_layers: 6\n",
      "dense_units: 512\n",
      "drop_out_: 0.2\n",
      "b_size: 512\n",
      "val_split: 0.2\n",
      "Score: 0.43636420369148254\n",
      "\n",
      "Trial 06 summary\n",
      "Hyperparameters:\n",
      "lstm_layers: 4\n",
      "l_rate: 0.01\n",
      "lstm_activity_l2_reg_: 0.001\n",
      "lstm_units: 64\n",
      "dense_layers: 3\n",
      "dense_units: 32\n",
      "drop_out_: 0.1\n",
      "b_size: 512\n",
      "val_split: 0.33\n",
      "Score: 0.47649919986724854\n",
      "I'm in build_model and I have the following params: (0.001, 3, 32, 2, 8, 0.2)\n"
     ]
    },
    {
     "name": "stderr",
     "output_type": "stream",
     "text": [
      "/usr/local/lib/python3.11/dist-packages/keras/src/saving/saving_lib.py:757: UserWarning: Skipping variable loading for optimizer 'adam', because it has 2 variables whereas the saved optimizer has 40 variables. \n",
      "  saveable.load_own_variables(weights_store.get(inner_path))\n"
     ]
    },
    {
     "data": {
      "text/html": [
       "<pre style=\"white-space:pre;overflow-x:auto;line-height:normal;font-family:Menlo,'DejaVu Sans Mono',consolas,'Courier New',monospace\"><span style=\"font-weight: bold\">Model: \"sequential\"</span>\n",
       "</pre>\n"
      ],
      "text/plain": [
       "\u001b[1mModel: \"sequential\"\u001b[0m\n"
      ]
     },
     "metadata": {},
     "output_type": "display_data"
    },
    {
     "data": {
      "text/html": [
       "<pre style=\"white-space:pre;overflow-x:auto;line-height:normal;font-family:Menlo,'DejaVu Sans Mono',consolas,'Courier New',monospace\">┏━━━━━━━━━━━━━━━━━━━━━━━━━━━━━━━━━┳━━━━━━━━━━━━━━━━━━━━━━━━┳━━━━━━━━━━━━━━━┓\n",
       "┃<span style=\"font-weight: bold\"> Layer (type)                    </span>┃<span style=\"font-weight: bold\"> Output Shape           </span>┃<span style=\"font-weight: bold\">       Param # </span>┃\n",
       "┡━━━━━━━━━━━━━━━━━━━━━━━━━━━━━━━━━╇━━━━━━━━━━━━━━━━━━━━━━━━╇━━━━━━━━━━━━━━━┩\n",
       "│ lstm (<span style=\"color: #0087ff; text-decoration-color: #0087ff\">LSTM</span>)                     │ (<span style=\"color: #00d7ff; text-decoration-color: #00d7ff\">None</span>, <span style=\"color: #00af00; text-decoration-color: #00af00\">101</span>, <span style=\"color: #00af00; text-decoration-color: #00af00\">32</span>)        │         <span style=\"color: #00af00; text-decoration-color: #00af00\">5,888</span> │\n",
       "├─────────────────────────────────┼────────────────────────┼───────────────┤\n",
       "│ lstm_1 (<span style=\"color: #0087ff; text-decoration-color: #0087ff\">LSTM</span>)                   │ (<span style=\"color: #00d7ff; text-decoration-color: #00d7ff\">None</span>, <span style=\"color: #00af00; text-decoration-color: #00af00\">101</span>, <span style=\"color: #00af00; text-decoration-color: #00af00\">32</span>)        │         <span style=\"color: #00af00; text-decoration-color: #00af00\">8,320</span> │\n",
       "├─────────────────────────────────┼────────────────────────┼───────────────┤\n",
       "│ lstm_2 (<span style=\"color: #0087ff; text-decoration-color: #0087ff\">LSTM</span>)                   │ (<span style=\"color: #00d7ff; text-decoration-color: #00d7ff\">None</span>, <span style=\"color: #00af00; text-decoration-color: #00af00\">101</span>, <span style=\"color: #00af00; text-decoration-color: #00af00\">32</span>)        │         <span style=\"color: #00af00; text-decoration-color: #00af00\">8,320</span> │\n",
       "├─────────────────────────────────┼────────────────────────┼───────────────┤\n",
       "│ flatten (<span style=\"color: #0087ff; text-decoration-color: #0087ff\">Flatten</span>)               │ (<span style=\"color: #00d7ff; text-decoration-color: #00d7ff\">None</span>, <span style=\"color: #00af00; text-decoration-color: #00af00\">3232</span>)           │             <span style=\"color: #00af00; text-decoration-color: #00af00\">0</span> │\n",
       "├─────────────────────────────────┼────────────────────────┼───────────────┤\n",
       "│ dense (<span style=\"color: #0087ff; text-decoration-color: #0087ff\">Dense</span>)                   │ (<span style=\"color: #00d7ff; text-decoration-color: #00d7ff\">None</span>, <span style=\"color: #00af00; text-decoration-color: #00af00\">8</span>)              │        <span style=\"color: #00af00; text-decoration-color: #00af00\">25,864</span> │\n",
       "├─────────────────────────────────┼────────────────────────┼───────────────┤\n",
       "│ batch_normalization             │ (<span style=\"color: #00d7ff; text-decoration-color: #00d7ff\">None</span>, <span style=\"color: #00af00; text-decoration-color: #00af00\">8</span>)              │            <span style=\"color: #00af00; text-decoration-color: #00af00\">32</span> │\n",
       "│ (<span style=\"color: #0087ff; text-decoration-color: #0087ff\">BatchNormalization</span>)            │                        │               │\n",
       "├─────────────────────────────────┼────────────────────────┼───────────────┤\n",
       "│ dropout (<span style=\"color: #0087ff; text-decoration-color: #0087ff\">Dropout</span>)               │ (<span style=\"color: #00d7ff; text-decoration-color: #00d7ff\">None</span>, <span style=\"color: #00af00; text-decoration-color: #00af00\">8</span>)              │             <span style=\"color: #00af00; text-decoration-color: #00af00\">0</span> │\n",
       "├─────────────────────────────────┼────────────────────────┼───────────────┤\n",
       "│ dense_1 (<span style=\"color: #0087ff; text-decoration-color: #0087ff\">Dense</span>)                 │ (<span style=\"color: #00d7ff; text-decoration-color: #00d7ff\">None</span>, <span style=\"color: #00af00; text-decoration-color: #00af00\">8</span>)              │            <span style=\"color: #00af00; text-decoration-color: #00af00\">72</span> │\n",
       "├─────────────────────────────────┼────────────────────────┼───────────────┤\n",
       "│ batch_normalization_1           │ (<span style=\"color: #00d7ff; text-decoration-color: #00d7ff\">None</span>, <span style=\"color: #00af00; text-decoration-color: #00af00\">8</span>)              │            <span style=\"color: #00af00; text-decoration-color: #00af00\">32</span> │\n",
       "│ (<span style=\"color: #0087ff; text-decoration-color: #0087ff\">BatchNormalization</span>)            │                        │               │\n",
       "├─────────────────────────────────┼────────────────────────┼───────────────┤\n",
       "│ dropout_1 (<span style=\"color: #0087ff; text-decoration-color: #0087ff\">Dropout</span>)             │ (<span style=\"color: #00d7ff; text-decoration-color: #00d7ff\">None</span>, <span style=\"color: #00af00; text-decoration-color: #00af00\">8</span>)              │             <span style=\"color: #00af00; text-decoration-color: #00af00\">0</span> │\n",
       "├─────────────────────────────────┼────────────────────────┼───────────────┤\n",
       "│ dense_2 (<span style=\"color: #0087ff; text-decoration-color: #0087ff\">Dense</span>)                 │ (<span style=\"color: #00d7ff; text-decoration-color: #00d7ff\">None</span>, <span style=\"color: #00af00; text-decoration-color: #00af00\">1</span>)              │             <span style=\"color: #00af00; text-decoration-color: #00af00\">9</span> │\n",
       "└─────────────────────────────────┴────────────────────────┴───────────────┘\n",
       "</pre>\n"
      ],
      "text/plain": [
       "┏━━━━━━━━━━━━━━━━━━━━━━━━━━━━━━━━━┳━━━━━━━━━━━━━━━━━━━━━━━━┳━━━━━━━━━━━━━━━┓\n",
       "┃\u001b[1m \u001b[0m\u001b[1mLayer (type)                   \u001b[0m\u001b[1m \u001b[0m┃\u001b[1m \u001b[0m\u001b[1mOutput Shape          \u001b[0m\u001b[1m \u001b[0m┃\u001b[1m \u001b[0m\u001b[1m      Param #\u001b[0m\u001b[1m \u001b[0m┃\n",
       "┡━━━━━━━━━━━━━━━━━━━━━━━━━━━━━━━━━╇━━━━━━━━━━━━━━━━━━━━━━━━╇━━━━━━━━━━━━━━━┩\n",
       "│ lstm (\u001b[38;5;33mLSTM\u001b[0m)                     │ (\u001b[38;5;45mNone\u001b[0m, \u001b[38;5;34m101\u001b[0m, \u001b[38;5;34m32\u001b[0m)        │         \u001b[38;5;34m5,888\u001b[0m │\n",
       "├─────────────────────────────────┼────────────────────────┼───────────────┤\n",
       "│ lstm_1 (\u001b[38;5;33mLSTM\u001b[0m)                   │ (\u001b[38;5;45mNone\u001b[0m, \u001b[38;5;34m101\u001b[0m, \u001b[38;5;34m32\u001b[0m)        │         \u001b[38;5;34m8,320\u001b[0m │\n",
       "├─────────────────────────────────┼────────────────────────┼───────────────┤\n",
       "│ lstm_2 (\u001b[38;5;33mLSTM\u001b[0m)                   │ (\u001b[38;5;45mNone\u001b[0m, \u001b[38;5;34m101\u001b[0m, \u001b[38;5;34m32\u001b[0m)        │         \u001b[38;5;34m8,320\u001b[0m │\n",
       "├─────────────────────────────────┼────────────────────────┼───────────────┤\n",
       "│ flatten (\u001b[38;5;33mFlatten\u001b[0m)               │ (\u001b[38;5;45mNone\u001b[0m, \u001b[38;5;34m3232\u001b[0m)           │             \u001b[38;5;34m0\u001b[0m │\n",
       "├─────────────────────────────────┼────────────────────────┼───────────────┤\n",
       "│ dense (\u001b[38;5;33mDense\u001b[0m)                   │ (\u001b[38;5;45mNone\u001b[0m, \u001b[38;5;34m8\u001b[0m)              │        \u001b[38;5;34m25,864\u001b[0m │\n",
       "├─────────────────────────────────┼────────────────────────┼───────────────┤\n",
       "│ batch_normalization             │ (\u001b[38;5;45mNone\u001b[0m, \u001b[38;5;34m8\u001b[0m)              │            \u001b[38;5;34m32\u001b[0m │\n",
       "│ (\u001b[38;5;33mBatchNormalization\u001b[0m)            │                        │               │\n",
       "├─────────────────────────────────┼────────────────────────┼───────────────┤\n",
       "│ dropout (\u001b[38;5;33mDropout\u001b[0m)               │ (\u001b[38;5;45mNone\u001b[0m, \u001b[38;5;34m8\u001b[0m)              │             \u001b[38;5;34m0\u001b[0m │\n",
       "├─────────────────────────────────┼────────────────────────┼───────────────┤\n",
       "│ dense_1 (\u001b[38;5;33mDense\u001b[0m)                 │ (\u001b[38;5;45mNone\u001b[0m, \u001b[38;5;34m8\u001b[0m)              │            \u001b[38;5;34m72\u001b[0m │\n",
       "├─────────────────────────────────┼────────────────────────┼───────────────┤\n",
       "│ batch_normalization_1           │ (\u001b[38;5;45mNone\u001b[0m, \u001b[38;5;34m8\u001b[0m)              │            \u001b[38;5;34m32\u001b[0m │\n",
       "│ (\u001b[38;5;33mBatchNormalization\u001b[0m)            │                        │               │\n",
       "├─────────────────────────────────┼────────────────────────┼───────────────┤\n",
       "│ dropout_1 (\u001b[38;5;33mDropout\u001b[0m)             │ (\u001b[38;5;45mNone\u001b[0m, \u001b[38;5;34m8\u001b[0m)              │             \u001b[38;5;34m0\u001b[0m │\n",
       "├─────────────────────────────────┼────────────────────────┼───────────────┤\n",
       "│ dense_2 (\u001b[38;5;33mDense\u001b[0m)                 │ (\u001b[38;5;45mNone\u001b[0m, \u001b[38;5;34m1\u001b[0m)              │             \u001b[38;5;34m9\u001b[0m │\n",
       "└─────────────────────────────────┴────────────────────────┴───────────────┘\n"
      ]
     },
     "metadata": {},
     "output_type": "display_data"
    },
    {
     "data": {
      "text/html": [
       "<pre style=\"white-space:pre;overflow-x:auto;line-height:normal;font-family:Menlo,'DejaVu Sans Mono',consolas,'Courier New',monospace\"><span style=\"font-weight: bold\"> Total params: </span><span style=\"color: #00af00; text-decoration-color: #00af00\">48,537</span> (189.60 KB)\n",
       "</pre>\n"
      ],
      "text/plain": [
       "\u001b[1m Total params: \u001b[0m\u001b[38;5;34m48,537\u001b[0m (189.60 KB)\n"
      ]
     },
     "metadata": {},
     "output_type": "display_data"
    },
    {
     "data": {
      "text/html": [
       "<pre style=\"white-space:pre;overflow-x:auto;line-height:normal;font-family:Menlo,'DejaVu Sans Mono',consolas,'Courier New',monospace\"><span style=\"font-weight: bold\"> Trainable params: </span><span style=\"color: #00af00; text-decoration-color: #00af00\">48,505</span> (189.47 KB)\n",
       "</pre>\n"
      ],
      "text/plain": [
       "\u001b[1m Trainable params: \u001b[0m\u001b[38;5;34m48,505\u001b[0m (189.47 KB)\n"
      ]
     },
     "metadata": {},
     "output_type": "display_data"
    },
    {
     "data": {
      "text/html": [
       "<pre style=\"white-space:pre;overflow-x:auto;line-height:normal;font-family:Menlo,'DejaVu Sans Mono',consolas,'Courier New',monospace\"><span style=\"font-weight: bold\"> Non-trainable params: </span><span style=\"color: #00af00; text-decoration-color: #00af00\">32</span> (128.00 B)\n",
       "</pre>\n"
      ],
      "text/plain": [
       "\u001b[1m Non-trainable params: \u001b[0m\u001b[38;5;34m32\u001b[0m (128.00 B)\n"
      ]
     },
     "metadata": {},
     "output_type": "display_data"
    },
    {
     "data": {
      "text/plain": [
       "(None,\n",
       " <keras_tuner.src.engine.hyperparameters.hyperparameters.HyperParameters at 0x7d27effe5350>,\n",
       " None)"
      ]
     },
     "execution_count": 34,
     "metadata": {},
     "output_type": "execute_result"
    }
   ],
   "source": [
    "rs_tuner.results_summary(), rs_tuner.get_best_hyperparameters()[0], rs_tuner.get_best_models()[0].summary()"
   ]
  },
  {
   "cell_type": "code",
   "execution_count": 35,
   "metadata": {
    "colab": {
     "base_uri": "https://localhost:8080/"
    },
    "id": "tFspjtzq7v8Q",
    "outputId": "180b0f69-d15b-471c-9874-1deb767bab17"
   },
   "outputs": [
    {
     "name": "stdout",
     "output_type": "stream",
     "text": [
      "Refitting the model with the best hyperparams {'lstm_layers': 3, 'l_rate': 0.001, 'lstm_activity_l2_reg_': 0.01, 'lstm_units': 32, 'dense_layers': 2, 'dense_units': 8, 'drop_out_': 0.2, 'b_size': 32, 'val_split': 0.2}\n",
      "I'm in build_model and I have the following params: (0.001, 3, 32, 2, 8, 0.2)\n",
      "I'm in fit and the batch size is 32\n",
      "I'm in fit and the validation split is 0.2\n",
      "Epoch 1/100\n",
      "\u001b[1m382/382\u001b[0m \u001b[32m━━━━━━━━━━━━━━━━━━━━\u001b[0m\u001b[37m\u001b[0m \u001b[1m14s\u001b[0m 26ms/step - accuracy: 0.7153 - auc_1: 0.7856 - f1_score: 0.6609 - loss: 1.3687 - val_accuracy: 0.7746 - val_auc_1: 0.8579 - val_f1_score: 0.6614 - val_loss: 0.9048\n",
      "Epoch 2/100\n",
      "\u001b[1m382/382\u001b[0m \u001b[32m━━━━━━━━━━━━━━━━━━━━\u001b[0m\u001b[37m\u001b[0m \u001b[1m9s\u001b[0m 22ms/step - accuracy: 0.7802 - auc_1: 0.8513 - f1_score: 0.6693 - loss: 0.8244 - val_accuracy: 0.7749 - val_auc_1: 0.8672 - val_f1_score: 0.6614 - val_loss: 0.6545\n",
      "Epoch 3/100\n",
      "\u001b[1m382/382\u001b[0m \u001b[32m━━━━━━━━━━━━━━━━━━━━\u001b[0m\u001b[37m\u001b[0m \u001b[1m10s\u001b[0m 21ms/step - accuracy: 0.7919 - auc_1: 0.8704 - f1_score: 0.6672 - loss: 0.5725 - val_accuracy: 0.8322 - val_auc_1: 0.9176 - val_f1_score: 0.6614 - val_loss: 0.4246\n",
      "Epoch 4/100\n",
      "\u001b[1m382/382\u001b[0m \u001b[32m━━━━━━━━━━━━━━━━━━━━\u001b[0m\u001b[37m\u001b[0m \u001b[1m10s\u001b[0m 19ms/step - accuracy: 0.8511 - auc_1: 0.9215 - f1_score: 0.6709 - loss: 0.3906 - val_accuracy: 0.7588 - val_auc_1: 0.9193 - val_f1_score: 0.6614 - val_loss: 0.5397\n",
      "Epoch 5/100\n",
      "\u001b[1m382/382\u001b[0m \u001b[32m━━━━━━━━━━━━━━━━━━━━\u001b[0m\u001b[37m\u001b[0m \u001b[1m11s\u001b[0m 22ms/step - accuracy: 0.8665 - auc_1: 0.9330 - f1_score: 0.6723 - loss: 0.3393 - val_accuracy: 0.8355 - val_auc_1: 0.9204 - val_f1_score: 0.6614 - val_loss: 0.3673\n",
      "Epoch 6/100\n",
      "\u001b[1m382/382\u001b[0m \u001b[32m━━━━━━━━━━━━━━━━━━━━\u001b[0m\u001b[37m\u001b[0m \u001b[1m10s\u001b[0m 22ms/step - accuracy: 0.8720 - auc_1: 0.9389 - f1_score: 0.6689 - loss: 0.3187 - val_accuracy: 0.8450 - val_auc_1: 0.9259 - val_f1_score: 0.6614 - val_loss: 0.3482\n",
      "Epoch 7/100\n",
      "\u001b[1m382/382\u001b[0m \u001b[32m━━━━━━━━━━━━━━━━━━━━\u001b[0m\u001b[37m\u001b[0m \u001b[1m10s\u001b[0m 22ms/step - accuracy: 0.8818 - auc_1: 0.9451 - f1_score: 0.6724 - loss: 0.3005 - val_accuracy: 0.8031 - val_auc_1: 0.9247 - val_f1_score: 0.6614 - val_loss: 0.4872\n",
      "Epoch 8/100\n",
      "\u001b[1m382/382\u001b[0m \u001b[32m━━━━━━━━━━━━━━━━━━━━\u001b[0m\u001b[37m\u001b[0m \u001b[1m10s\u001b[0m 21ms/step - accuracy: 0.8840 - auc_1: 0.9491 - f1_score: 0.6703 - loss: 0.2910 - val_accuracy: 0.8453 - val_auc_1: 0.9215 - val_f1_score: 0.6614 - val_loss: 0.3683\n",
      "Epoch 9/100\n",
      "\u001b[1m382/382\u001b[0m \u001b[32m━━━━━━━━━━━━━━━━━━━━\u001b[0m\u001b[37m\u001b[0m \u001b[1m10s\u001b[0m 19ms/step - accuracy: 0.8883 - auc_1: 0.9515 - f1_score: 0.6720 - loss: 0.2824 - val_accuracy: 0.8483 - val_auc_1: 0.9250 - val_f1_score: 0.6614 - val_loss: 0.3660\n"
     ]
    }
   ],
   "source": [
    "best_model_epochs_ = 100\n",
    "hp_model = ANNModel(input_shape)\n",
    "best_hp_params = rs_tuner.get_best_hyperparameters()[0]\n",
    "print(\"Refitting the model with the best hyperparams\", best_hp_params.values)\n",
    "tuned_model = hp_model.build(best_hp_params)\n",
    "model_history = hp_model.fit(\n",
    "    best_hp_params, tuned_model,\n",
    "    X_train, y_train, epochs = best_model_epochs_,\n",
    "    batch_size = batch_size_,\n",
    "    validation_split = val_split_,\n",
    "    callbacks = [callback_],\n",
    ")"
   ]
  },
  {
   "cell_type": "code",
   "execution_count": 36,
   "metadata": {
    "colab": {
     "base_uri": "https://localhost:8080/",
     "height": 1000
    },
    "id": "Bpe-BRHXuisA",
    "outputId": "b534b582-0124-43e8-c235-9912c376b00e"
   },
   "outputs": [
    {
     "data": {
      "text/html": [
       "<pre style=\"white-space:pre;overflow-x:auto;line-height:normal;font-family:Menlo,'DejaVu Sans Mono',consolas,'Courier New',monospace\"><span style=\"font-weight: bold\">Model: \"sequential_1\"</span>\n",
       "</pre>\n"
      ],
      "text/plain": [
       "\u001b[1mModel: \"sequential_1\"\u001b[0m\n"
      ]
     },
     "metadata": {},
     "output_type": "display_data"
    },
    {
     "data": {
      "text/html": [
       "<pre style=\"white-space:pre;overflow-x:auto;line-height:normal;font-family:Menlo,'DejaVu Sans Mono',consolas,'Courier New',monospace\">┏━━━━━━━━━━━━━━━━━━━━━━━━━━━━━━━━━┳━━━━━━━━━━━━━━━━━━━━━━━━┳━━━━━━━━━━━━━━━┓\n",
       "┃<span style=\"font-weight: bold\"> Layer (type)                    </span>┃<span style=\"font-weight: bold\"> Output Shape           </span>┃<span style=\"font-weight: bold\">       Param # </span>┃\n",
       "┡━━━━━━━━━━━━━━━━━━━━━━━━━━━━━━━━━╇━━━━━━━━━━━━━━━━━━━━━━━━╇━━━━━━━━━━━━━━━┩\n",
       "│ lstm_3 (<span style=\"color: #0087ff; text-decoration-color: #0087ff\">LSTM</span>)                   │ (<span style=\"color: #00d7ff; text-decoration-color: #00d7ff\">None</span>, <span style=\"color: #00af00; text-decoration-color: #00af00\">101</span>, <span style=\"color: #00af00; text-decoration-color: #00af00\">32</span>)        │         <span style=\"color: #00af00; text-decoration-color: #00af00\">5,888</span> │\n",
       "├─────────────────────────────────┼────────────────────────┼───────────────┤\n",
       "│ lstm_4 (<span style=\"color: #0087ff; text-decoration-color: #0087ff\">LSTM</span>)                   │ (<span style=\"color: #00d7ff; text-decoration-color: #00d7ff\">None</span>, <span style=\"color: #00af00; text-decoration-color: #00af00\">101</span>, <span style=\"color: #00af00; text-decoration-color: #00af00\">32</span>)        │         <span style=\"color: #00af00; text-decoration-color: #00af00\">8,320</span> │\n",
       "├─────────────────────────────────┼────────────────────────┼───────────────┤\n",
       "│ lstm_5 (<span style=\"color: #0087ff; text-decoration-color: #0087ff\">LSTM</span>)                   │ (<span style=\"color: #00d7ff; text-decoration-color: #00d7ff\">None</span>, <span style=\"color: #00af00; text-decoration-color: #00af00\">101</span>, <span style=\"color: #00af00; text-decoration-color: #00af00\">32</span>)        │         <span style=\"color: #00af00; text-decoration-color: #00af00\">8,320</span> │\n",
       "├─────────────────────────────────┼────────────────────────┼───────────────┤\n",
       "│ flatten_1 (<span style=\"color: #0087ff; text-decoration-color: #0087ff\">Flatten</span>)             │ (<span style=\"color: #00d7ff; text-decoration-color: #00d7ff\">None</span>, <span style=\"color: #00af00; text-decoration-color: #00af00\">3232</span>)           │             <span style=\"color: #00af00; text-decoration-color: #00af00\">0</span> │\n",
       "├─────────────────────────────────┼────────────────────────┼───────────────┤\n",
       "│ dense_3 (<span style=\"color: #0087ff; text-decoration-color: #0087ff\">Dense</span>)                 │ (<span style=\"color: #00d7ff; text-decoration-color: #00d7ff\">None</span>, <span style=\"color: #00af00; text-decoration-color: #00af00\">8</span>)              │        <span style=\"color: #00af00; text-decoration-color: #00af00\">25,864</span> │\n",
       "├─────────────────────────────────┼────────────────────────┼───────────────┤\n",
       "│ batch_normalization_2           │ (<span style=\"color: #00d7ff; text-decoration-color: #00d7ff\">None</span>, <span style=\"color: #00af00; text-decoration-color: #00af00\">8</span>)              │            <span style=\"color: #00af00; text-decoration-color: #00af00\">32</span> │\n",
       "│ (<span style=\"color: #0087ff; text-decoration-color: #0087ff\">BatchNormalization</span>)            │                        │               │\n",
       "├─────────────────────────────────┼────────────────────────┼───────────────┤\n",
       "│ dropout_2 (<span style=\"color: #0087ff; text-decoration-color: #0087ff\">Dropout</span>)             │ (<span style=\"color: #00d7ff; text-decoration-color: #00d7ff\">None</span>, <span style=\"color: #00af00; text-decoration-color: #00af00\">8</span>)              │             <span style=\"color: #00af00; text-decoration-color: #00af00\">0</span> │\n",
       "├─────────────────────────────────┼────────────────────────┼───────────────┤\n",
       "│ dense_4 (<span style=\"color: #0087ff; text-decoration-color: #0087ff\">Dense</span>)                 │ (<span style=\"color: #00d7ff; text-decoration-color: #00d7ff\">None</span>, <span style=\"color: #00af00; text-decoration-color: #00af00\">8</span>)              │            <span style=\"color: #00af00; text-decoration-color: #00af00\">72</span> │\n",
       "├─────────────────────────────────┼────────────────────────┼───────────────┤\n",
       "│ batch_normalization_3           │ (<span style=\"color: #00d7ff; text-decoration-color: #00d7ff\">None</span>, <span style=\"color: #00af00; text-decoration-color: #00af00\">8</span>)              │            <span style=\"color: #00af00; text-decoration-color: #00af00\">32</span> │\n",
       "│ (<span style=\"color: #0087ff; text-decoration-color: #0087ff\">BatchNormalization</span>)            │                        │               │\n",
       "├─────────────────────────────────┼────────────────────────┼───────────────┤\n",
       "│ dropout_3 (<span style=\"color: #0087ff; text-decoration-color: #0087ff\">Dropout</span>)             │ (<span style=\"color: #00d7ff; text-decoration-color: #00d7ff\">None</span>, <span style=\"color: #00af00; text-decoration-color: #00af00\">8</span>)              │             <span style=\"color: #00af00; text-decoration-color: #00af00\">0</span> │\n",
       "├─────────────────────────────────┼────────────────────────┼───────────────┤\n",
       "│ dense_5 (<span style=\"color: #0087ff; text-decoration-color: #0087ff\">Dense</span>)                 │ (<span style=\"color: #00d7ff; text-decoration-color: #00d7ff\">None</span>, <span style=\"color: #00af00; text-decoration-color: #00af00\">1</span>)              │             <span style=\"color: #00af00; text-decoration-color: #00af00\">9</span> │\n",
       "└─────────────────────────────────┴────────────────────────┴───────────────┘\n",
       "</pre>\n"
      ],
      "text/plain": [
       "┏━━━━━━━━━━━━━━━━━━━━━━━━━━━━━━━━━┳━━━━━━━━━━━━━━━━━━━━━━━━┳━━━━━━━━━━━━━━━┓\n",
       "┃\u001b[1m \u001b[0m\u001b[1mLayer (type)                   \u001b[0m\u001b[1m \u001b[0m┃\u001b[1m \u001b[0m\u001b[1mOutput Shape          \u001b[0m\u001b[1m \u001b[0m┃\u001b[1m \u001b[0m\u001b[1m      Param #\u001b[0m\u001b[1m \u001b[0m┃\n",
       "┡━━━━━━━━━━━━━━━━━━━━━━━━━━━━━━━━━╇━━━━━━━━━━━━━━━━━━━━━━━━╇━━━━━━━━━━━━━━━┩\n",
       "│ lstm_3 (\u001b[38;5;33mLSTM\u001b[0m)                   │ (\u001b[38;5;45mNone\u001b[0m, \u001b[38;5;34m101\u001b[0m, \u001b[38;5;34m32\u001b[0m)        │         \u001b[38;5;34m5,888\u001b[0m │\n",
       "├─────────────────────────────────┼────────────────────────┼───────────────┤\n",
       "│ lstm_4 (\u001b[38;5;33mLSTM\u001b[0m)                   │ (\u001b[38;5;45mNone\u001b[0m, \u001b[38;5;34m101\u001b[0m, \u001b[38;5;34m32\u001b[0m)        │         \u001b[38;5;34m8,320\u001b[0m │\n",
       "├─────────────────────────────────┼────────────────────────┼───────────────┤\n",
       "│ lstm_5 (\u001b[38;5;33mLSTM\u001b[0m)                   │ (\u001b[38;5;45mNone\u001b[0m, \u001b[38;5;34m101\u001b[0m, \u001b[38;5;34m32\u001b[0m)        │         \u001b[38;5;34m8,320\u001b[0m │\n",
       "├─────────────────────────────────┼────────────────────────┼───────────────┤\n",
       "│ flatten_1 (\u001b[38;5;33mFlatten\u001b[0m)             │ (\u001b[38;5;45mNone\u001b[0m, \u001b[38;5;34m3232\u001b[0m)           │             \u001b[38;5;34m0\u001b[0m │\n",
       "├─────────────────────────────────┼────────────────────────┼───────────────┤\n",
       "│ dense_3 (\u001b[38;5;33mDense\u001b[0m)                 │ (\u001b[38;5;45mNone\u001b[0m, \u001b[38;5;34m8\u001b[0m)              │        \u001b[38;5;34m25,864\u001b[0m │\n",
       "├─────────────────────────────────┼────────────────────────┼───────────────┤\n",
       "│ batch_normalization_2           │ (\u001b[38;5;45mNone\u001b[0m, \u001b[38;5;34m8\u001b[0m)              │            \u001b[38;5;34m32\u001b[0m │\n",
       "│ (\u001b[38;5;33mBatchNormalization\u001b[0m)            │                        │               │\n",
       "├─────────────────────────────────┼────────────────────────┼───────────────┤\n",
       "│ dropout_2 (\u001b[38;5;33mDropout\u001b[0m)             │ (\u001b[38;5;45mNone\u001b[0m, \u001b[38;5;34m8\u001b[0m)              │             \u001b[38;5;34m0\u001b[0m │\n",
       "├─────────────────────────────────┼────────────────────────┼───────────────┤\n",
       "│ dense_4 (\u001b[38;5;33mDense\u001b[0m)                 │ (\u001b[38;5;45mNone\u001b[0m, \u001b[38;5;34m8\u001b[0m)              │            \u001b[38;5;34m72\u001b[0m │\n",
       "├─────────────────────────────────┼────────────────────────┼───────────────┤\n",
       "│ batch_normalization_3           │ (\u001b[38;5;45mNone\u001b[0m, \u001b[38;5;34m8\u001b[0m)              │            \u001b[38;5;34m32\u001b[0m │\n",
       "│ (\u001b[38;5;33mBatchNormalization\u001b[0m)            │                        │               │\n",
       "├─────────────────────────────────┼────────────────────────┼───────────────┤\n",
       "│ dropout_3 (\u001b[38;5;33mDropout\u001b[0m)             │ (\u001b[38;5;45mNone\u001b[0m, \u001b[38;5;34m8\u001b[0m)              │             \u001b[38;5;34m0\u001b[0m │\n",
       "├─────────────────────────────────┼────────────────────────┼───────────────┤\n",
       "│ dense_5 (\u001b[38;5;33mDense\u001b[0m)                 │ (\u001b[38;5;45mNone\u001b[0m, \u001b[38;5;34m1\u001b[0m)              │             \u001b[38;5;34m9\u001b[0m │\n",
       "└─────────────────────────────────┴────────────────────────┴───────────────┘\n"
      ]
     },
     "metadata": {},
     "output_type": "display_data"
    },
    {
     "data": {
      "text/html": [
       "<pre style=\"white-space:pre;overflow-x:auto;line-height:normal;font-family:Menlo,'DejaVu Sans Mono',consolas,'Courier New',monospace\"><span style=\"font-weight: bold\"> Total params: </span><span style=\"color: #00af00; text-decoration-color: #00af00\">145,549</span> (568.55 KB)\n",
       "</pre>\n"
      ],
      "text/plain": [
       "\u001b[1m Total params: \u001b[0m\u001b[38;5;34m145,549\u001b[0m (568.55 KB)\n"
      ]
     },
     "metadata": {},
     "output_type": "display_data"
    },
    {
     "data": {
      "text/html": [
       "<pre style=\"white-space:pre;overflow-x:auto;line-height:normal;font-family:Menlo,'DejaVu Sans Mono',consolas,'Courier New',monospace\"><span style=\"font-weight: bold\"> Trainable params: </span><span style=\"color: #00af00; text-decoration-color: #00af00\">48,505</span> (189.47 KB)\n",
       "</pre>\n"
      ],
      "text/plain": [
       "\u001b[1m Trainable params: \u001b[0m\u001b[38;5;34m48,505\u001b[0m (189.47 KB)\n"
      ]
     },
     "metadata": {},
     "output_type": "display_data"
    },
    {
     "data": {
      "text/html": [
       "<pre style=\"white-space:pre;overflow-x:auto;line-height:normal;font-family:Menlo,'DejaVu Sans Mono',consolas,'Courier New',monospace\"><span style=\"font-weight: bold\"> Non-trainable params: </span><span style=\"color: #00af00; text-decoration-color: #00af00\">32</span> (128.00 B)\n",
       "</pre>\n"
      ],
      "text/plain": [
       "\u001b[1m Non-trainable params: \u001b[0m\u001b[38;5;34m32\u001b[0m (128.00 B)\n"
      ]
     },
     "metadata": {},
     "output_type": "display_data"
    },
    {
     "data": {
      "text/html": [
       "<pre style=\"white-space:pre;overflow-x:auto;line-height:normal;font-family:Menlo,'DejaVu Sans Mono',consolas,'Courier New',monospace\"><span style=\"font-weight: bold\"> Optimizer params: </span><span style=\"color: #00af00; text-decoration-color: #00af00\">97,012</span> (378.96 KB)\n",
       "</pre>\n"
      ],
      "text/plain": [
       "\u001b[1m Optimizer params: \u001b[0m\u001b[38;5;34m97,012\u001b[0m (378.96 KB)\n"
      ]
     },
     "metadata": {},
     "output_type": "display_data"
    },
    {
     "data": {
      "image/png": "[encoded data removed]",
      "text/plain": [
       "<IPython.core.display.Image object>"
      ]
     },
     "execution_count": 36,
     "metadata": {},
     "output_type": "execute_result"
    }
   ],
   "source": [
    "tuned_model.summary()\n",
    "tf.keras.utils.plot_model(\n",
    "    model=tuned_model, to_file=\"arch.png\",\n",
    "    # show_layer_activations=True, show_shapes=True,\n",
    "    show_layer_names=True,\n",
    "    dpi=70\n",
    ")"
   ]
  },
  {
   "cell_type": "markdown",
   "metadata": {
    "id": "a2ccP6EwX1jt"
   },
   "source": [
    "Evaluate the results"
   ]
  },
  {
   "cell_type": "code",
   "execution_count": 37,
   "metadata": {
    "colab": {
     "base_uri": "https://localhost:8080/"
    },
    "id": "6rxzTjjl0HiC",
    "outputId": "5ed3e54e-9521-49a4-fa5e-4a70b991bd78"
   },
   "outputs": [
    {
     "name": "stdout",
     "output_type": "stream",
     "text": [
      "\u001b[1m41/41\u001b[0m \u001b[32m━━━━━━━━━━━━━━━━━━━━\u001b[0m\u001b[37m\u001b[0m \u001b[1m0s\u001b[0m 10ms/step - accuracy: 0.8181 - auc_1: 0.8801 - f1_score: 0.6970 - loss: 0.4777\n",
      "[0.42720818519592285, 0.8380659818649292, 0.6751397848129272, 0.9054316282272339]\n"
     ]
    },
    {
     "data": {
      "text/plain": [
       "['loss', 'compile_metrics']"
      ]
     },
     "execution_count": 37,
     "metadata": {},
     "output_type": "execute_result"
    }
   ],
   "source": [
    "print(tuned_model.evaluate(X_test, y_test))\n",
    "tuned_model.metrics_names"
   ]
  },
  {
   "cell_type": "code",
   "execution_count": 38,
   "metadata": {
    "colab": {
     "base_uri": "https://localhost:8080/",
     "height": 499
    },
    "id": "l3VGR-SvqFGx",
    "outputId": "ff9278df-b639-41e9-f889-e5664f6499d8"
   },
   "outputs": [
    {
     "name": "stdout",
     "output_type": "stream",
     "text": [
      "\u001b[1m41/41\u001b[0m \u001b[32m━━━━━━━━━━━━━━━━━━━━\u001b[0m\u001b[37m\u001b[0m \u001b[1m1s\u001b[0m 12ms/step\n",
      "(1303, 1)\n",
      "AUC score: 0.9054080170447046\n"
     ]
    },
    {
     "data": {
      "text/plain": [
       "[<matplotlib.lines.Line2D at 0x7d275fb57090>]"
      ]
     },
     "execution_count": 38,
     "metadata": {},
     "output_type": "execute_result"
    },
    {
     "data": {
      "image/png": "[encoded data removed]",
      "text/plain": [
       "<Figure size 640x480 with 1 Axes>"
      ]
     },
     "metadata": {},
     "output_type": "display_data"
    }
   ],
   "source": [
    "y_pred = tuned_model.predict(X_test)\n",
    "print(y_pred.shape)\n",
    "print(\"AUC score:\", roc_auc_score(y_test, y_pred))\n",
    "fpr, tpr, thresh = roc_curve(y_test, y_pred)\n",
    "plt.plot([0, 1], [0, 1])\n",
    "plt.plot(fpr, tpr)"
   ]
  },
  {
   "cell_type": "code",
   "execution_count": 39,
   "metadata": {
    "colab": {
     "base_uri": "https://localhost:8080/",
     "height": 542
    },
    "id": "RRperE-CRSkt",
    "outputId": "fa78b426-fee1-416b-84bd-3496cf32f0b0"
   },
   "outputs": [
    {
     "data": {
      "text/html": [
       "<html>\n",
       "<head><meta charset=\"utf-8\" /></head>\n",
       "<body>\n",
       "    <div>            <script src=\"https://cdnjs.cloudflare.com/ajax/libs/mathjax/2.7.5/MathJax.js?config=TeX-AMS-MML_SVG\"></script><script type=\"text/javascript\">if (window.MathJax && window.MathJax.Hub && window.MathJax.Hub.Config) {window.MathJax.Hub.Config({SVG: {font: \"STIX-Web\"}});}</script>                <script type=\"text/javascript\">window.PlotlyConfig = {MathJaxConfig: 'local'};</script>\n",
       "        <script charset=\"utf-8\" src=\"https://cdn.plot.ly/plotly-2.35.2.min.js\"></script>                <div id=\"2c7f0c10-c2be-4be3-aafd-396bdbaac419\" class=\"plotly-graph-div\" style=\"height:525px; width:100%;\"></div>            <script type=\"text/javascript\">                                    window.PLOTLYENV=window.PLOTLYENV || {};                                    if (document.getElementById(\"2c7f0c10-c2be-4be3-aafd-396bdbaac419\")) {                    Plotly.newPlot(                        \"2c7f0c10-c2be-4be3-aafd-396bdbaac419\",                        [{\"line\":{\"color\":\"darkorange\",\"width\":2},\"mode\":\"lines\",\"text\":[null,0.9985871315002441,0.9899431467056274,0.9898172616958618,0.9894130825996399,0.9891923069953918,0.9890791773796082,0.9890690445899963,0.988237202167511,0.9881749153137207,0.9872879981994629,0.9872774481773376,0.9867074489593506,0.9866928458213806,0.9857558608055115,0.9856933355331421,0.9856284856796265,0.9855676889419556,0.9848589301109314,0.9847089052200317,0.9835683107376099,0.9835422039031982,0.9831706881523132,0.9831332564353943,0.9821622967720032,0.982143223285675,0.9819079041481018,0.9818994998931885,0.9803532361984253,0.9802809357643127,0.9798789024353027,0.9798117280006409,0.9766405820846558,0.9764862656593323,0.9758696556091309,0.9755837917327881,0.9751452207565308,0.9751421809196472,0.9741601347923279,0.9740710258483887,0.9727542996406555,0.9716500043869019,0.9712466597557068,0.9708132743835449,0.9702841639518738,0.9702330827713013,0.9696952700614929,0.9696871042251587,0.9690049290657043,0.9689491987228394,0.9678865671157837,0.9672763347625732,0.9661576747894287,0.9654136896133423,0.9642444849014282,0.9642406105995178,0.9640442728996277,0.9635971784591675,0.9622433185577393,0.9619714021682739,0.9580355286598206,0.9577771425247192,0.9547666907310486,0.9545514583587646,0.9505549073219299,0.9503360986709595,0.9485450387001038,0.948470950126648,0.9482882618904114,0.9481233954429626,0.945106029510498,0.9443032145500183,0.9419428706169128,0.9406636357307434,0.9380489587783813,0.9380464553833008,0.9366638660430908,0.9366227388381958,0.918181300163269,0.916015088558197,0.9146046042442322,0.9140686392784119,0.9107003211975098,0.909831166267395,0.9081770777702332,0.906937301158905,0.9066376090049744,0.9049671292304993,0.9048324227333069,0.9039552211761475,0.8976171016693115,0.8969643712043762,0.8944153785705566,0.8939118385314941,0.893017590045929,0.8929835557937622,0.8849197030067444,0.8826006054878235,0.882063090801239,0.8803971409797668,0.878560483455658,0.8775864839553833,0.8736841678619385,0.8723737597465515,0.865527868270874,0.8613278269767761,0.8492826819419861,0.8484314680099487,0.8456245064735413,0.8455433249473572,0.8431022763252258,0.8410487771034241,0.8389830589294434,0.8372684121131897,0.8345600366592407,0.83315509557724,0.8309201002120972,0.8297974467277527,0.8068593740463257,0.8068225383758545,0.8043022751808167,0.8041380643844604,0.8000919222831726,0.7976914048194885,0.7860273718833923,0.7855411171913147,0.7847917675971985,0.7809342741966248,0.7771218419075012,0.7764147520065308,0.7743826508522034,0.773652970790863,0.7684174180030823,0.7660931348800659,0.7602006196975708,0.7514709234237671,0.7444164752960205,0.7356501221656799,0.7328188419342041,0.7298970818519592,0.7227843999862671,0.7201647758483887,0.7188325524330139,0.7151520848274231,0.7127217650413513,0.7119414806365967,0.704637885093689,0.7040205597877502,0.695528507232666,0.6949430108070374,0.6936506628990173,0.6928623914718628,0.6906312108039856,0.6869660019874573,0.6868396997451782,0.669323742389679,0.659120500087738,0.6548894047737122,0.6458783745765686,0.6419244408607483,0.6334708333015442,0.6283976435661316,0.6267769932746887,0.6194823980331421,0.6034421324729919,0.6000876426696777,0.5973654985427856,0.5946369171142578,0.5902422070503235,0.5871596336364746,0.5708082914352417,0.5624706745147705,0.5587697625160217,0.5553038716316223,0.5530989766120911,0.5381838083267212,0.5330159068107605,0.5322667360305786,0.5255094766616821,0.5200837850570679,0.516101598739624,0.5021441578865051,0.5019092559814453,0.5012103319168091,0.49710339307785034,0.48667168617248535,0.48454970121383667,0.4612390398979187,0.4608162045478821,0.45670565962791443,0.43575066328048706,0.42431914806365967,0.4240685701370239,0.42377957701683044,0.4160993695259094,0.4103529155254364,0.3986327052116394,0.39709773659706116,0.38190460205078125,0.37675145268440247,0.3726513385772705,0.35601264238357544,0.350546658039093,0.34850144386291504,0.33629310131073,0.32025137543678284,0.317743718624115,0.31728506088256836,0.3140593469142914,0.31270208954811096,0.3013472557067871,0.2952921688556671,0.2913995385169983,0.2742477357387543,0.27173927426338196,0.2712932527065277,0.2704680860042572,0.26872730255126953,0.265977680683136,0.26173871755599976,0.2556696832180023,0.24975383281707764,0.2438248246908188,0.23644563555717468,0.22603972256183624,0.2258964329957962,0.22066469490528107,0.2183748483657837,0.21547360718250275,0.21492110192775726,0.20993226766586304,0.19091904163360596,0.1852462887763977,0.1823274791240692,0.17977336049079895,0.1735929399728775,0.16925732791423798,0.16908025741577148,0.1676744669675827,0.15437182784080505,0.15297353267669678,0.14558503031730652,0.14494697749614716,0.13507460057735443,0.134074404835701,0.13239282369613647,0.13216343522071838,0.12302817404270172,0.12222570180892944,0.11796265095472336,0.11739635467529297,0.11427106708288193,0.11422662436962128,0.10730265080928802,0.10569928586483002,0.10490157455205917,0.1033305674791336,0.09794528782367706,0.0974988266825676,0.0933113545179367,0.09136122465133667,0.08552104234695435,0.0847640335559845,0.07921357452869415,0.07908160239458084,0.07840093970298767,0.07815675437450409,0.07513946294784546,0.07482292503118515,0.07449448108673096,0.07303658127784729,0.06768526136875153,0.06768257170915604,0.06624563038349152,0.06434297561645508,0.06408417224884033,0.06317678093910217,0.06146540865302086,0.061234090477228165,0.05712658166885376,0.056394826620817184,0.05562617629766464,0.05535443127155304,0.05231525003910065,0.05213705077767372,0.050093889236450195,0.050067976117134094,0.048773281276226044,0.04871917888522148,0.048234034329652786,0.04808614030480385,0.04745505005121231,0.047324538230895996,0.04224471375346184,0.04174492508172989,0.02620050311088562,0.026197412982583046,0.024690909311175346,0.024083709344267845,0.021364673972129822,0.021352844312787056,0.017529018223285675,0.01733449287712574,0.015084496699273586,0.015067057684063911,0.01430583093315363,0.014237474650144577,0.012589210644364357,0.012091747485101223,0.01034659706056118,0.010201391763985157,0.009800678119063377,0.009788806550204754,0.0010942801600322127],\"x\":[0.0,0.0,0.0,0.001564945226917058,0.001564945226917058,0.003129890453834116,0.003129890453834116,0.004694835680751174,0.004694835680751174,0.006259780907668232,0.006259780907668232,0.00782472613458529,0.00782472613458529,0.009389671361502348,0.009389671361502348,0.010954616588419406,0.010954616588419406,0.012519561815336464,0.012519561815336464,0.014084507042253521,0.014084507042253521,0.01564945226917058,0.01564945226917058,0.017214397496087636,0.017214397496087636,0.018779342723004695,0.018779342723004695,0.02034428794992175,0.02034428794992175,0.02190923317683881,0.02190923317683881,0.023474178403755867,0.023474178403755867,0.025039123630672927,0.025039123630672927,0.026604068857589983,0.026604068857589983,0.028169014084507043,0.028169014084507043,0.0297339593114241,0.0297339593114241,0.03599374021909233,0.03599374021909233,0.03912363067292645,0.03912363067292645,0.0406885758998435,0.0406885758998435,0.04225352112676056,0.04225352112676056,0.04381846635367762,0.04381846635367762,0.04538341158059468,0.04538341158059468,0.046948356807511735,0.046948356807511735,0.048513302034428794,0.048513302034428794,0.050078247261345854,0.050078247261345854,0.051643192488262914,0.051643192488262914,0.053208137715179966,0.053208137715179966,0.054773082942097026,0.054773082942097026,0.057902973395931145,0.057902973395931145,0.0594679186228482,0.0594679186228482,0.06103286384976526,0.06103286384976526,0.06259780907668232,0.06259780907668232,0.06572769953051644,0.06572769953051644,0.06729264475743349,0.06729264475743349,0.06885758998435054,0.06885758998435054,0.07042253521126761,0.07042253521126761,0.07198748043818466,0.07198748043818466,0.07355242566510173,0.07355242566510173,0.07511737089201878,0.07511737089201878,0.07668231611893583,0.07668231611893583,0.0782472613458529,0.0782472613458529,0.08294209702660407,0.08294209702660407,0.08450704225352113,0.08450704225352113,0.08607198748043818,0.08607198748043818,0.09233176838810642,0.09233176838810642,0.09389671361502347,0.09389671361502347,0.09546165884194054,0.09546165884194054,0.09702660406885759,0.09702660406885759,0.10015649452269171,0.10015649452269171,0.10172143974960876,0.10172143974960876,0.10328638497652583,0.10328638497652583,0.10485133020344288,0.10485133020344288,0.10641627543035993,0.10641627543035993,0.107981220657277,0.107981220657277,0.1111111111111111,0.1111111111111111,0.11267605633802817,0.11267605633802817,0.11424100156494522,0.11424100156494522,0.11580594679186229,0.11580594679186229,0.11737089201877934,0.11737089201877934,0.12050078247261346,0.12050078247261346,0.12206572769953052,0.12206572769953052,0.12363067292644757,0.12363067292644757,0.12519561815336464,0.12519561815336464,0.1267605633802817,0.1267605633802817,0.13145539906103287,0.13145539906103287,0.13302034428794993,0.13302034428794993,0.13458528951486698,0.13458528951486698,0.13771517996870108,0.13771517996870108,0.13928012519561817,0.13928012519561817,0.14084507042253522,0.14084507042253522,0.14241001564945227,0.14241001564945227,0.14553990610328638,0.14553990610328638,0.14710485133020346,0.14710485133020346,0.1486697965571205,0.1486697965571205,0.15023474178403756,0.15023474178403756,0.15179968701095461,0.15179968701095461,0.15492957746478872,0.15492957746478872,0.16118935837245696,0.16118935837245696,0.1643192488262911,0.1643192488262911,0.16588419405320814,0.16588419405320814,0.16901408450704225,0.16901408450704225,0.1705790297339593,0.1705790297339593,0.17214397496087636,0.17214397496087636,0.17683881064162754,0.17683881064162754,0.17996870109546165,0.17996870109546165,0.18622848200312989,0.18622848200312989,0.19248826291079812,0.19248826291079812,0.19405320813771518,0.19405320813771518,0.20344287949921752,0.20344287949921752,0.21752738654147105,0.21752738654147105,0.2190923317683881,0.2190923317683881,0.2237871674491393,0.2237871674491393,0.22535211267605634,0.22535211267605634,0.22848200312989045,0.22848200312989045,0.23161189358372458,0.23161189358372458,0.23630672926447574,0.23630672926447574,0.24569640062597808,0.24569640062597808,0.24726134585289514,0.24726134585289514,0.2566510172143975,0.2566510172143975,0.25821596244131456,0.25821596244131456,0.26134585289514867,0.26134585289514867,0.26291079812206575,0.26291079812206575,0.27386541471048514,0.27386541471048514,0.27543035993740217,0.27543035993740217,0.27699530516431925,0.27699530516431925,0.27856025039123633,0.27856025039123633,0.28482003129890454,0.28482003129890454,0.2942097026604069,0.2942097026604069,0.29577464788732394,0.29577464788732394,0.3004694835680751,0.3004694835680751,0.30203442879499215,0.30203442879499215,0.3145539906103286,0.3145539906103286,0.3192488262910798,0.3192488262910798,0.3270735524256651,0.3270735524256651,0.3286384976525822,0.3286384976525822,0.3442879499217527,0.3442879499217527,0.3568075117370892,0.3568075117370892,0.3677621283255086,0.3677621283255086,0.37089201877934275,0.37089201877934275,0.37871674491392804,0.37871674491392804,0.38497652582159625,0.38497652582159625,0.38967136150234744,0.38967136150234744,0.4084507042253521,0.4084507042253521,0.41158059467918623,0.41158059467918623,0.4272300469483568,0.4272300469483568,0.4413145539906103,0.4413145539906103,0.4538341158059468,0.4538341158059468,0.4694835680751174,0.4694835680751174,0.47104851330203446,0.47104851330203446,0.48043818466353677,0.48043818466353677,0.4835680751173709,0.4835680751173709,0.5023474178403756,0.5023474178403756,0.5086071987480438,0.5086071987480438,0.5117370892018779,0.5117370892018779,0.5164319248826291,0.5164319248826291,0.5258215962441315,0.5258215962441315,0.5305164319248826,0.5305164319248826,0.539906103286385,0.539906103286385,0.5524256651017214,0.5524256651017214,0.5586854460093896,0.5586854460093896,0.5633802816901409,0.5633802816901409,0.568075117370892,0.568075117370892,0.596244131455399,0.596244131455399,0.7136150234741784,0.7136150234741784,0.730829420970266,0.730829420970266,0.7496087636932708,0.7496087636932708,0.7793427230046949,0.7793427230046949,0.8075117370892019,0.8075117370892019,0.8153364632237872,0.8153364632237872,0.8403755868544601,0.8403755868544601,0.8591549295774648,0.8591549295774648,0.8748043818466353,0.8748043818466353,1.0],\"y\":[0.0,0.0015060240963855422,0.15512048192771086,0.15512048192771086,0.1686746987951807,0.1686746987951807,0.1716867469879518,0.1716867469879518,0.18825301204819278,0.18825301204819278,0.2183734939759036,0.2183734939759036,0.2394578313253012,0.2394578313253012,0.25150602409638556,0.25150602409638556,0.2545180722891566,0.2545180722891566,0.2710843373493976,0.2710843373493976,0.2936746987951807,0.2936746987951807,0.29819277108433734,0.29819277108433734,0.30873493975903615,0.30873493975903615,0.3147590361445783,0.3147590361445783,0.34036144578313254,0.34036144578313254,0.3493975903614458,0.3493975903614458,0.3885542168674699,0.3885542168674699,0.39457831325301207,0.39457831325301207,0.3990963855421687,0.3990963855421687,0.42168674698795183,0.42168674698795183,0.4367469879518072,0.4367469879518072,0.44728915662650603,0.44728915662650603,0.45481927710843373,0.45481927710843373,0.46536144578313254,0.46536144578313254,0.4713855421686747,0.4713855421686747,0.4894578313253012,0.4894578313253012,0.4924698795180723,0.4924698795180723,0.5075301204819277,0.5075301204819277,0.5090361445783133,0.5090361445783133,0.5150602409638554,0.5150602409638554,0.5301204819277109,0.5301204819277109,0.5481927710843374,0.5481927710843374,0.5602409638554217,0.5602409638554217,0.572289156626506,0.572289156626506,0.5737951807228916,0.5737951807228916,0.5828313253012049,0.5828313253012049,0.5858433734939759,0.5858433734939759,0.588855421686747,0.588855421686747,0.5918674698795181,0.5918674698795181,0.6385542168674698,0.6385542168674698,0.6460843373493976,0.6460843373493976,0.6521084337349398,0.6521084337349398,0.6536144578313253,0.6536144578313253,0.6566265060240963,0.6566265060240963,0.6581325301204819,0.6581325301204819,0.6641566265060241,0.6641566265060241,0.6746987951807228,0.6746987951807228,0.677710843373494,0.677710843373494,0.6882530120481928,0.6882530120481928,0.6897590361445783,0.6897590361445783,0.6927710843373494,0.6927710843373494,0.7018072289156626,0.7018072289156626,0.7183734939759037,0.7183734939759037,0.7304216867469879,0.7304216867469879,0.7319277108433735,0.7319277108433735,0.733433734939759,0.733433734939759,0.7394578313253012,0.7394578313253012,0.7424698795180723,0.7424698795180723,0.7484939759036144,0.7484939759036144,0.7605421686746988,0.7605421686746988,0.7620481927710844,0.7620481927710844,0.7650602409638554,0.7650602409638554,0.7771084337349398,0.7771084337349398,0.7786144578313253,0.7786144578313253,0.7801204819277109,0.7801204819277109,0.7816265060240963,0.7816265060240963,0.786144578313253,0.786144578313253,0.7906626506024096,0.7906626506024096,0.7936746987951807,0.7936746987951807,0.7951807228915663,0.7951807228915663,0.7981927710843374,0.7981927710843374,0.8012048192771084,0.8012048192771084,0.802710843373494,0.802710843373494,0.8132530120481928,0.8132530120481928,0.8177710843373494,0.8177710843373494,0.8207831325301205,0.8207831325301205,0.8237951807228916,0.8237951807228916,0.8253012048192772,0.8253012048192772,0.8313253012048193,0.8313253012048193,0.8373493975903614,0.8373493975903614,0.8418674698795181,0.8418674698795181,0.8433734939759037,0.8433734939759037,0.8478915662650602,0.8478915662650602,0.8493975903614458,0.8493975903614458,0.8524096385542169,0.8524096385542169,0.8569277108433735,0.8569277108433735,0.8599397590361446,0.8599397590361446,0.8614457831325302,0.8614457831325302,0.8629518072289156,0.8629518072289156,0.8659638554216867,0.8659638554216867,0.8674698795180723,0.8674698795180723,0.8689759036144579,0.8689759036144579,0.8704819277108434,0.8704819277108434,0.8719879518072289,0.8719879518072289,0.8734939759036144,0.8734939759036144,0.8795180722891566,0.8795180722891566,0.8810240963855421,0.8810240963855421,0.8840361445783133,0.8840361445783133,0.8885542168674698,0.8885542168674698,0.8930722891566265,0.8930722891566265,0.8945783132530121,0.8945783132530121,0.8960843373493976,0.8960843373493976,0.8990963855421686,0.8990963855421686,0.9006024096385542,0.9006024096385542,0.9021084337349398,0.9021084337349398,0.9066265060240963,0.9066265060240963,0.9081325301204819,0.9081325301204819,0.9096385542168675,0.9096385542168675,0.911144578313253,0.911144578313253,0.9126506024096386,0.9126506024096386,0.9141566265060241,0.9141566265060241,0.9156626506024096,0.9156626506024096,0.9171686746987951,0.9171686746987951,0.9216867469879518,0.9216867469879518,0.9231927710843374,0.9231927710843374,0.9262048192771084,0.9262048192771084,0.927710843373494,0.927710843373494,0.9292168674698795,0.9292168674698795,0.9307228915662651,0.9307228915662651,0.9337349397590361,0.9337349397590361,0.9352409638554217,0.9352409638554217,0.9367469879518072,0.9367469879518072,0.9397590361445783,0.9397590361445783,0.9412650602409639,0.9412650602409639,0.9427710843373494,0.9427710843373494,0.9442771084337349,0.9442771084337349,0.9457831325301205,0.9457831325301205,0.947289156626506,0.947289156626506,0.9487951807228916,0.9487951807228916,0.9503012048192772,0.9503012048192772,0.9563253012048193,0.9563253012048193,0.9578313253012049,0.9578313253012049,0.9593373493975904,0.9593373493975904,0.9608433734939759,0.9608433734939759,0.9623493975903614,0.9623493975903614,0.963855421686747,0.963855421686747,0.9653614457831325,0.9653614457831325,0.9683734939759037,0.9683734939759037,0.9698795180722891,0.9698795180722891,0.9713855421686747,0.9713855421686747,0.9728915662650602,0.9728915662650602,0.9743975903614458,0.9743975903614458,0.9759036144578314,0.9759036144578314,0.9774096385542169,0.9774096385542169,0.9789156626506024,0.9789156626506024,0.9819277108433735,0.9819277108433735,0.983433734939759,0.983433734939759,0.9864457831325302,0.9864457831325302,0.9879518072289156,0.9879518072289156,0.9894578313253012,0.9894578313253012,0.9909638554216867,0.9909638554216867,0.9924698795180723,0.9924698795180723,0.9939759036144579,0.9939759036144579,0.9954819277108434,0.9954819277108434,0.9969879518072289,0.9969879518072289,0.9984939759036144,0.9984939759036144,1.0,1.0],\"type\":\"scatter\"},{\"line\":{\"color\":\"navy\",\"dash\":\"dash\",\"width\":2},\"mode\":\"lines\",\"name\":\"Reference Line\",\"x\":[0,1],\"y\":[0,1],\"type\":\"scatter\"}],                        {\"template\":{\"data\":{\"histogram2dcontour\":[{\"type\":\"histogram2dcontour\",\"colorbar\":{\"outlinewidth\":0,\"ticks\":\"\"},\"colorscale\":[[0.0,\"#0d0887\"],[0.1111111111111111,\"#46039f\"],[0.2222222222222222,\"#7201a8\"],[0.3333333333333333,\"#9c179e\"],[0.4444444444444444,\"#bd3786\"],[0.5555555555555556,\"#d8576b\"],[0.6666666666666666,\"#ed7953\"],[0.7777777777777778,\"#fb9f3a\"],[0.8888888888888888,\"#fdca26\"],[1.0,\"#f0f921\"]]}],\"choropleth\":[{\"type\":\"choropleth\",\"colorbar\":{\"outlinewidth\":0,\"ticks\":\"\"}}],\"histogram2d\":[{\"type\":\"histogram2d\",\"colorbar\":{\"outlinewidth\":0,\"ticks\":\"\"},\"colorscale\":[[0.0,\"#0d0887\"],[0.1111111111111111,\"#46039f\"],[0.2222222222222222,\"#7201a8\"],[0.3333333333333333,\"#9c179e\"],[0.4444444444444444,\"#bd3786\"],[0.5555555555555556,\"#d8576b\"],[0.6666666666666666,\"#ed7953\"],[0.7777777777777778,\"#fb9f3a\"],[0.8888888888888888,\"#fdca26\"],[1.0,\"#f0f921\"]]}],\"heatmap\":[{\"type\":\"heatmap\",\"colorbar\":{\"outlinewidth\":0,\"ticks\":\"\"},\"colorscale\":[[0.0,\"#0d0887\"],[0.1111111111111111,\"#46039f\"],[0.2222222222222222,\"#7201a8\"],[0.3333333333333333,\"#9c179e\"],[0.4444444444444444,\"#bd3786\"],[0.5555555555555556,\"#d8576b\"],[0.6666666666666666,\"#ed7953\"],[0.7777777777777778,\"#fb9f3a\"],[0.8888888888888888,\"#fdca26\"],[1.0,\"#f0f921\"]]}],\"heatmapgl\":[{\"type\":\"heatmapgl\",\"colorbar\":{\"outlinewidth\":0,\"ticks\":\"\"},\"colorscale\":[[0.0,\"#0d0887\"],[0.1111111111111111,\"#46039f\"],[0.2222222222222222,\"#7201a8\"],[0.3333333333333333,\"#9c179e\"],[0.4444444444444444,\"#bd3786\"],[0.5555555555555556,\"#d8576b\"],[0.6666666666666666,\"#ed7953\"],[0.7777777777777778,\"#fb9f3a\"],[0.8888888888888888,\"#fdca26\"],[1.0,\"#f0f921\"]]}],\"contourcarpet\":[{\"type\":\"contourcarpet\",\"colorbar\":{\"outlinewidth\":0,\"ticks\":\"\"}}],\"contour\":[{\"type\":\"contour\",\"colorbar\":{\"outlinewidth\":0,\"ticks\":\"\"},\"colorscale\":[[0.0,\"#0d0887\"],[0.1111111111111111,\"#46039f\"],[0.2222222222222222,\"#7201a8\"],[0.3333333333333333,\"#9c179e\"],[0.4444444444444444,\"#bd3786\"],[0.5555555555555556,\"#d8576b\"],[0.6666666666666666,\"#ed7953\"],[0.7777777777777778,\"#fb9f3a\"],[0.8888888888888888,\"#fdca26\"],[1.0,\"#f0f921\"]]}],\"surface\":[{\"type\":\"surface\",\"colorbar\":{\"outlinewidth\":0,\"ticks\":\"\"},\"colorscale\":[[0.0,\"#0d0887\"],[0.1111111111111111,\"#46039f\"],[0.2222222222222222,\"#7201a8\"],[0.3333333333333333,\"#9c179e\"],[0.4444444444444444,\"#bd3786\"],[0.5555555555555556,\"#d8576b\"],[0.6666666666666666,\"#ed7953\"],[0.7777777777777778,\"#fb9f3a\"],[0.8888888888888888,\"#fdca26\"],[1.0,\"#f0f921\"]]}],\"mesh3d\":[{\"type\":\"mesh3d\",\"colorbar\":{\"outlinewidth\":0,\"ticks\":\"\"}}],\"scatter\":[{\"fillpattern\":{\"fillmode\":\"overlay\",\"size\":10,\"solidity\":0.2},\"type\":\"scatter\"}],\"parcoords\":[{\"type\":\"parcoords\",\"line\":{\"colorbar\":{\"outlinewidth\":0,\"ticks\":\"\"}}}],\"scatterpolargl\":[{\"type\":\"scatterpolargl\",\"marker\":{\"colorbar\":{\"outlinewidth\":0,\"ticks\":\"\"}}}],\"bar\":[{\"error_x\":{\"color\":\"#2a3f5f\"},\"error_y\":{\"color\":\"#2a3f5f\"},\"marker\":{\"line\":{\"color\":\"#E5ECF6\",\"width\":0.5},\"pattern\":{\"fillmode\":\"overlay\",\"size\":10,\"solidity\":0.2}},\"type\":\"bar\"}],\"scattergeo\":[{\"type\":\"scattergeo\",\"marker\":{\"colorbar\":{\"outlinewidth\":0,\"ticks\":\"\"}}}],\"scatterpolar\":[{\"type\":\"scatterpolar\",\"marker\":{\"colorbar\":{\"outlinewidth\":0,\"ticks\":\"\"}}}],\"histogram\":[{\"marker\":{\"pattern\":{\"fillmode\":\"overlay\",\"size\":10,\"solidity\":0.2}},\"type\":\"histogram\"}],\"scattergl\":[{\"type\":\"scattergl\",\"marker\":{\"colorbar\":{\"outlinewidth\":0,\"ticks\":\"\"}}}],\"scatter3d\":[{\"type\":\"scatter3d\",\"line\":{\"colorbar\":{\"outlinewidth\":0,\"ticks\":\"\"}},\"marker\":{\"colorbar\":{\"outlinewidth\":0,\"ticks\":\"\"}}}],\"scattermapbox\":[{\"type\":\"scattermapbox\",\"marker\":{\"colorbar\":{\"outlinewidth\":0,\"ticks\":\"\"}}}],\"scatterternary\":[{\"type\":\"scatterternary\",\"marker\":{\"colorbar\":{\"outlinewidth\":0,\"ticks\":\"\"}}}],\"scattercarpet\":[{\"type\":\"scattercarpet\",\"marker\":{\"colorbar\":{\"outlinewidth\":0,\"ticks\":\"\"}}}],\"carpet\":[{\"aaxis\":{\"endlinecolor\":\"#2a3f5f\",\"gridcolor\":\"white\",\"linecolor\":\"white\",\"minorgridcolor\":\"white\",\"startlinecolor\":\"#2a3f5f\"},\"baxis\":{\"endlinecolor\":\"#2a3f5f\",\"gridcolor\":\"white\",\"linecolor\":\"white\",\"minorgridcolor\":\"white\",\"startlinecolor\":\"#2a3f5f\"},\"type\":\"carpet\"}],\"table\":[{\"cells\":{\"fill\":{\"color\":\"#EBF0F8\"},\"line\":{\"color\":\"white\"}},\"header\":{\"fill\":{\"color\":\"#C8D4E3\"},\"line\":{\"color\":\"white\"}},\"type\":\"table\"}],\"barpolar\":[{\"marker\":{\"line\":{\"color\":\"#E5ECF6\",\"width\":0.5},\"pattern\":{\"fillmode\":\"overlay\",\"size\":10,\"solidity\":0.2}},\"type\":\"barpolar\"}],\"pie\":[{\"automargin\":true,\"type\":\"pie\"}]},\"layout\":{\"autotypenumbers\":\"strict\",\"colorway\":[\"#636efa\",\"#EF553B\",\"#00cc96\",\"#ab63fa\",\"#FFA15A\",\"#19d3f3\",\"#FF6692\",\"#B6E880\",\"#FF97FF\",\"#FECB52\"],\"font\":{\"color\":\"#2a3f5f\"},\"hovermode\":\"closest\",\"hoverlabel\":{\"align\":\"left\"},\"paper_bgcolor\":\"white\",\"plot_bgcolor\":\"#E5ECF6\",\"polar\":{\"bgcolor\":\"#E5ECF6\",\"angularaxis\":{\"gridcolor\":\"white\",\"linecolor\":\"white\",\"ticks\":\"\"},\"radialaxis\":{\"gridcolor\":\"white\",\"linecolor\":\"white\",\"ticks\":\"\"}},\"ternary\":{\"bgcolor\":\"#E5ECF6\",\"aaxis\":{\"gridcolor\":\"white\",\"linecolor\":\"white\",\"ticks\":\"\"},\"baxis\":{\"gridcolor\":\"white\",\"linecolor\":\"white\",\"ticks\":\"\"},\"caxis\":{\"gridcolor\":\"white\",\"linecolor\":\"white\",\"ticks\":\"\"}},\"coloraxis\":{\"colorbar\":{\"outlinewidth\":0,\"ticks\":\"\"}},\"colorscale\":{\"sequential\":[[0.0,\"#0d0887\"],[0.1111111111111111,\"#46039f\"],[0.2222222222222222,\"#7201a8\"],[0.3333333333333333,\"#9c179e\"],[0.4444444444444444,\"#bd3786\"],[0.5555555555555556,\"#d8576b\"],[0.6666666666666666,\"#ed7953\"],[0.7777777777777778,\"#fb9f3a\"],[0.8888888888888888,\"#fdca26\"],[1.0,\"#f0f921\"]],\"sequentialminus\":[[0.0,\"#0d0887\"],[0.1111111111111111,\"#46039f\"],[0.2222222222222222,\"#7201a8\"],[0.3333333333333333,\"#9c179e\"],[0.4444444444444444,\"#bd3786\"],[0.5555555555555556,\"#d8576b\"],[0.6666666666666666,\"#ed7953\"],[0.7777777777777778,\"#fb9f3a\"],[0.8888888888888888,\"#fdca26\"],[1.0,\"#f0f921\"]],\"diverging\":[[0,\"#8e0152\"],[0.1,\"#c51b7d\"],[0.2,\"#de77ae\"],[0.3,\"#f1b6da\"],[0.4,\"#fde0ef\"],[0.5,\"#f7f7f7\"],[0.6,\"#e6f5d0\"],[0.7,\"#b8e186\"],[0.8,\"#7fbc41\"],[0.9,\"#4d9221\"],[1,\"#276419\"]]},\"xaxis\":{\"gridcolor\":\"white\",\"linecolor\":\"white\",\"ticks\":\"\",\"title\":{\"standoff\":15},\"zerolinecolor\":\"white\",\"automargin\":true,\"zerolinewidth\":2},\"yaxis\":{\"gridcolor\":\"white\",\"linecolor\":\"white\",\"ticks\":\"\",\"title\":{\"standoff\":15},\"zerolinecolor\":\"white\",\"automargin\":true,\"zerolinewidth\":2},\"scene\":{\"xaxis\":{\"backgroundcolor\":\"#E5ECF6\",\"gridcolor\":\"white\",\"linecolor\":\"white\",\"showbackground\":true,\"ticks\":\"\",\"zerolinecolor\":\"white\",\"gridwidth\":2},\"yaxis\":{\"backgroundcolor\":\"#E5ECF6\",\"gridcolor\":\"white\",\"linecolor\":\"white\",\"showbackground\":true,\"ticks\":\"\",\"zerolinecolor\":\"white\",\"gridwidth\":2},\"zaxis\":{\"backgroundcolor\":\"#E5ECF6\",\"gridcolor\":\"white\",\"linecolor\":\"white\",\"showbackground\":true,\"ticks\":\"\",\"zerolinecolor\":\"white\",\"gridwidth\":2}},\"shapedefaults\":{\"line\":{\"color\":\"#2a3f5f\"}},\"annotationdefaults\":{\"arrowcolor\":\"#2a3f5f\",\"arrowhead\":0,\"arrowwidth\":1},\"geo\":{\"bgcolor\":\"white\",\"landcolor\":\"#E5ECF6\",\"subunitcolor\":\"white\",\"showland\":true,\"showlakes\":true,\"lakecolor\":\"white\"},\"title\":{\"x\":0.05},\"mapbox\":{\"style\":\"light\"}}},\"title\":{\"text\":\"Interactive ROC Curve\"},\"xaxis\":{\"title\":{\"text\":\"False Positive Rate\"}},\"yaxis\":{\"title\":{\"text\":\"True Positive Rate\"}}},                        {\"responsive\": true}                    ).then(function(){\n",
       "                            \n",
       "var gd = document.getElementById('2c7f0c10-c2be-4be3-aafd-396bdbaac419');\n",
       "var x = new MutationObserver(function (mutations, observer) {{\n",
       "        var display = window.getComputedStyle(gd).display;\n",
       "        if (!display || display === 'none') {{\n",
       "            console.log([gd, 'removed!']);\n",
       "            Plotly.purge(gd);\n",
       "            observer.disconnect();\n",
       "        }}\n",
       "}});\n",
       "\n",
       "// Listen for the removal of the full notebook cells\n",
       "var notebookContainer = gd.closest('#notebook-container');\n",
       "if (notebookContainer) {{\n",
       "    x.observe(notebookContainer, {childList: true});\n",
       "}}\n",
       "\n",
       "// Listen for the clearing of the current output cell\n",
       "var outputEl = gd.closest('.output');\n",
       "if (outputEl) {{\n",
       "    x.observe(outputEl, {childList: true});\n",
       "}}\n",
       "\n",
       "                        })                };                            </script>        </div>\n",
       "</body>\n",
       "</html>"
      ]
     },
     "metadata": {},
     "output_type": "display_data"
    }
   ],
   "source": [
    "import plotly.graph_objs as go\n",
    "\n",
    "trace = go.Scatter(x=fpr, y=tpr, mode='lines', line=dict(color='darkorange', width=2), text=thresh)\n",
    "reference_line = go.Scatter(x=[0,1], y=[0,1], mode='lines', name='Reference Line',\n",
    "                            line=dict(color='navy', width=2, dash='dash'))\n",
    "fig = go.Figure(data=[trace, reference_line])\n",
    "fig.update_layout(title='Interactive ROC Curve',\n",
    "                  xaxis_title='False Positive Rate',\n",
    "                  yaxis_title='True Positive Rate')\n",
    "fig.show()"
   ]
  },
  {
   "cell_type": "code",
   "execution_count": 40,
   "metadata": {
    "colab": {
     "base_uri": "https://localhost:8080/"
    },
    "id": "8GtCxGeo0HiC",
    "outputId": "3e1864d5-630e-4b53-9757-78f96b6a5ccc"
   },
   "outputs": [
    {
     "name": "stdout",
     "output_type": "stream",
     "text": [
      "(1303, 1)\n"
     ]
    },
    {
     "data": {
      "text/plain": [
       "array([0, 1])"
      ]
     },
     "execution_count": 40,
     "metadata": {},
     "output_type": "execute_result"
    }
   ],
   "source": [
    "thresh_ = 0.5\n",
    "y_pred_class = (y_pred > thresh_).astype(int)\n",
    "print(y_pred_class.shape)\n",
    "np.unique(y_pred_class)"
   ]
  },
  {
   "cell_type": "code",
   "execution_count": 41,
   "metadata": {
    "colab": {
     "base_uri": "https://localhost:8080/",
     "height": 604
    },
    "id": "-wNCing60HiC",
    "outputId": "d4859661-f349-4557-9c70-9144fea965f3"
   },
   "outputs": [
    {
     "name": "stdout",
     "output_type": "stream",
     "text": [
      "              precision    recall  f1-score   support\n",
      "\n",
      "           0       0.86      0.81      0.83       639\n",
      "           1       0.82      0.87      0.85       664\n",
      "\n",
      "    accuracy                           0.84      1303\n",
      "   macro avg       0.84      0.84      0.84      1303\n",
      "weighted avg       0.84      0.84      0.84      1303\n",
      "\n"
     ]
    },
    {
     "data": {
      "text/plain": [
       "<Axes: >"
      ]
     },
     "execution_count": 41,
     "metadata": {},
     "output_type": "execute_result"
    },
    {
     "data": {
      "image/png": "[encoded data removed]",
      "text/plain": [
       "<Figure size 640x480 with 2 Axes>"
      ]
     },
     "metadata": {},
     "output_type": "display_data"
    }
   ],
   "source": [
    "print(classification_report(y_true=y_test, y_pred=y_pred_class))\n",
    "cm = confusion_matrix(y_true=y_test, y_pred=y_pred_class)\n",
    "sns.heatmap(cm, annot=True, fmt=\"g\")"
   ]
  },
  {
   "cell_type": "code",
   "execution_count": 42,
   "metadata": {
    "colab": {
     "base_uri": "https://localhost:8080/"
    },
    "id": "LcP0rDiR7v5q",
    "outputId": "a13a249e-8c85-42dd-a7fa-39d0bb361e95"
   },
   "outputs": [
    {
     "name": "stdout",
     "output_type": "stream",
     "text": [
      "Removing the hp tuner directory. Path: tuner_dir\n"
     ]
    }
   ],
   "source": [
    "# remove the keras_tuner folder\n",
    "if os.path.exists(hp_tuner_path):\n",
    "  print(\"Removing the hp tuner directory. Path:\", hp_tuner_path)\n",
    "  try:\n",
    "    shutil.rmtree(hp_tuner_path)\n",
    "  except Exception as e:\n",
    "    print(e)"
   ]
  },
  {
   "cell_type": "code",
   "execution_count": 42,
   "metadata": {
    "id": "-96T5O0vGPvh"
   },
   "outputs": [],
   "source": []
  },
  {
   "cell_type": "markdown",
   "metadata": {
    "id": "JOj6f_TXGpSH"
   },
   "source": [
    "##### Save and load model"
   ]
  },
  {
   "cell_type": "code",
   "execution_count": 43,
   "metadata": {
    "id": "ZffCnhwgf4nl"
   },
   "outputs": [],
   "source": [
    "# add save history\n",
    "model_dir_path = \"data_and_models/\"\n",
    "if not os.path.exists(model_dir_path):\n",
    "  os.mkdir(model_dir_path)"
   ]
  },
  {
   "cell_type": "code",
   "execution_count": 44,
   "metadata": {
    "id": "H3Lr9xSAf8Yg"
   },
   "outputs": [],
   "source": [
    "# save train and test data\n",
    "# train_d = {\"x_train\" : X_train.tolist(), \"y_train\": y_train.tolist(), \"ordered_train_columns\" : X_train_ds.columns.tolist()}\n",
    "# test_d = {\"x_test\": X_test.tolist(), \"y_test\": y_test.tolist(), \"ordered_test_columns\" : X_test_ds.columns.tolist()}\n",
    "\n",
    "# with open(model_dir_path + \"train_ds.json\", \"w\") as f:\n",
    "#   json.dump(train_d, f)\n",
    "\n",
    "# with open(model_dir_path + \"test_ds.json\", \"w\") as f:\n",
    "#   json.dump(test_d, f)"
   ]
  },
  {
   "cell_type": "code",
   "execution_count": 45,
   "metadata": {
    "colab": {
     "base_uri": "https://localhost:8080/"
    },
    "id": "pSBAMoyszbZ-",
    "outputId": "a049616f-e468-43ed-d219-cd08989de33a"
   },
   "outputs": [
    {
     "name": "stderr",
     "output_type": "stream",
     "text": [
      "WARNING:absl:You are saving your model as an HDF5 file via `model.save()` or `keras.saving.save_model(model)`. This file format is considered legacy. We recommend using instead the native Keras format, e.g. `model.save('my_model.keras')` or `keras.saving.save_model(model, 'my_model.keras')`. \n"
     ]
    }
   ],
   "source": [
    "# save model in the different formats\n",
    "tuned_model.save(model_dir_path + \"model.keras\", include_optimizer=True)\n",
    "tuned_model.save(model_dir_path + \"model.h5\", include_optimizer=True)\n",
    "tuned_model.save_weights(model_dir_path + \"model.weights.h5\")\n",
    "with open(model_dir_path + \"model_arch.json\", \"w\") as f:\n",
    "  json.dump(tuned_model.to_json(), f)\n",
    "\n",
    "best_hp_params.values[\"epochs\"] = best_model_epochs_\n",
    "with open(model_dir_path + \"model_params.json\", \"w\") as f:\n",
    "  json.dump(best_hp_params.values, f)"
   ]
  },
  {
   "cell_type": "code",
   "execution_count": 46,
   "metadata": {
    "id": "nVu_1fPaivLL"
   },
   "outputs": [],
   "source": [
    "# save for shap and evaluation\n",
    "%%bash\n",
    "p=drive/MyDrive/vkr/train_data/for_shap/data_and_models_in_work\n",
    "# echo $p\n",
    "cp -r data_and_models/ $p"
   ]
  },
  {
   "cell_type": "code",
   "execution_count": 46,
   "metadata": {
    "id": "Qz9VIvF5zeVb"
   },
   "outputs": [],
   "source": []
  },
  {
   "cell_type": "code",
   "execution_count": 46,
   "metadata": {
    "id": "AtCmd5FDzeS3"
   },
   "outputs": [],
   "source": []
  },
  {
   "cell_type": "code",
   "execution_count": 46,
   "metadata": {
    "id": "dgD7sTifvwt5"
   },
   "outputs": [],
   "source": []
  }
 ],
 "metadata": {
  "accelerator": "GPU",
  "colab": {
   "gpuType": "T4",
   "provenance": []
  },
  "kernelspec": {
   "display_name": "Python 3 (ipykernel)",
   "language": "python",
   "name": "python3"
  },
  "language_info": {
   "codemirror_mode": {
    "name": "ipython",
    "version": 3
   },
   "file_extension": ".py",
   "mimetype": "text/x-python",
   "name": "python",
   "nbconvert_exporter": "python",
   "pygments_lexer": "ipython3",
   "version": "3.11.4"
  }
 },
 "nbformat": 4,
 "nbformat_minor": 4
}
